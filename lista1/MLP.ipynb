{
  "nbformat": 4,
  "nbformat_minor": 0,
  "metadata": {
    "colab": {
      "provenance": []
    },
    "kernelspec": {
      "name": "python3",
      "display_name": "Python 3"
    },
    "language_info": {
      "name": "python"
    }
  },
  "cells": [
    {
      "cell_type": "markdown",
      "source": [
        "# IF867 - Introdução à Aprendizagem Profunda\n",
        "## 1ª atividade prática - 2025.1\n",
        "\n",
        "Discente(s):\n",
        "- Ana Sofia Lima (asosl)\n",
        "- João Vitor Mergulhão (jvlm2)\n",
        "\n",
        "## Instruções e requisitos\n",
        "- Objetivo: Implementar e treinar um Multi-Layer Perceptron e uma Rede Neural Convolucional, inteiramente em PyTorch.\n",
        "- Observação: A atividade pode ser feita em dupla.\n",
        "\n",
        "## Tarefas\n",
        "\n",
        "1. Multi-Layer Perceptron (MLP) para Regressão (50% da nota):\n",
        "  - Implementação: Construa um MLP funcional para uma tarefa de regressão.\n",
        "  - Experimentação:\n",
        "      - Varie a arquitetura da rede (ex: número de camadas, neurônios por camada).\n",
        "      - Teste diferentes otimizadores (ex: Adam, SGD).\n",
        "      - Explore outras modificações que julgar pertinentes.\n",
        "  - Relatório: Documente no notebook os experimentos realizados, as configurações utilizadas e os resultados obtidos, analisando o impacto de cada alteração.\n",
        "- Rede Neural Convolucional (CNN) (50% da nota):\n",
        "  - Implementação: Proponha e construa sua própria arquitetura de CNN.\n",
        "  - Implemente funções para o treinamento e avaliação do modelo.\n",
        "  - Métricas e Análise:\n",
        "    - Registre o tempo de treinamento de cada configuração.\n",
        "    - Gere e apresente a matriz de confusão para os resultados da classificação.\n",
        "    - Plote gráficos da função de loss e da acurácia ao longo das épocas de treinamento.\n",
        "  - Experimentação:\n",
        "    - Aplique e avalie técnicas de regularização (ex: Dropout, Batch Normalization).\n",
        "    - Implemente e analise o Grad-CAM para visualização e interpretabilidade.\n",
        "    - Explore outras técnicas relevantes para otimização ou análise de CNNs.\n",
        "  - Relatório: Documente no notebook os experimentos realizados, as configurações utilizadas e os resultados obtidos, analisando o impacto de cada alteração."
      ],
      "metadata": {
        "id": "9Z2REhZOI6_5"
      }
    },
    {
      "cell_type": "markdown",
      "source": [
        "Dataset escolhido:"
      ],
      "metadata": {
        "id": "wIcc15wJ4i69"
      }
    },
    {
      "cell_type": "code",
      "source": [
        "!pip install ucimlrepo"
      ],
      "metadata": {
        "colab": {
          "base_uri": "https://localhost:8080/"
        },
        "id": "Q4csEfg2g2xL",
        "outputId": "ac074312-017f-4505-96bc-6930efc9e072"
      },
      "execution_count": null,
      "outputs": [
        {
          "output_type": "stream",
          "name": "stdout",
          "text": [
            "Requirement already satisfied: ucimlrepo in /usr/local/lib/python3.11/dist-packages (0.0.7)\n",
            "Requirement already satisfied: pandas>=1.0.0 in /usr/local/lib/python3.11/dist-packages (from ucimlrepo) (2.2.2)\n",
            "Requirement already satisfied: certifi>=2020.12.5 in /usr/local/lib/python3.11/dist-packages (from ucimlrepo) (2025.4.26)\n",
            "Requirement already satisfied: numpy>=1.23.2 in /usr/local/lib/python3.11/dist-packages (from pandas>=1.0.0->ucimlrepo) (2.0.2)\n",
            "Requirement already satisfied: python-dateutil>=2.8.2 in /usr/local/lib/python3.11/dist-packages (from pandas>=1.0.0->ucimlrepo) (2.9.0.post0)\n",
            "Requirement already satisfied: pytz>=2020.1 in /usr/local/lib/python3.11/dist-packages (from pandas>=1.0.0->ucimlrepo) (2025.2)\n",
            "Requirement already satisfied: tzdata>=2022.7 in /usr/local/lib/python3.11/dist-packages (from pandas>=1.0.0->ucimlrepo) (2025.2)\n",
            "Requirement already satisfied: six>=1.5 in /usr/local/lib/python3.11/dist-packages (from python-dateutil>=2.8.2->pandas>=1.0.0->ucimlrepo) (1.17.0)\n"
          ]
        }
      ]
    },
    {
      "cell_type": "code",
      "source": [
        "import pandas as pd\n",
        "\n",
        "import numpy as np\n",
        "\n",
        "import torch\n",
        "from torch.utils.data import TensorDataset, DataLoader\n",
        "from torch import nn\n",
        "import torch.optim as optim\n",
        "\n",
        "from sklearn.compose import ColumnTransformer\n",
        "from sklearn.preprocessing import OneHotEncoder, StandardScaler\n",
        "from sklearn.model_selection import train_test_split\n",
        "from sklearn.metrics import mean_squared_error, mean_absolute_error, r2_score\n",
        "\n",
        "from tqdm import tqdm\n",
        "\n",
        "from matplotlib import pyplot as plt"
      ],
      "metadata": {
        "id": "keRGeepXi04c"
      },
      "execution_count": null,
      "outputs": []
    },
    {
      "cell_type": "code",
      "source": [
        "from ucimlrepo import fetch_ucirepo\n",
        "\n",
        "# fetch dataset\n",
        "student_performance = fetch_ucirepo(id=320)\n",
        "\n",
        "# metadata\n",
        "print(student_performance.metadata)\n",
        "\n",
        "# variable information\n",
        "print(student_performance.variables)"
      ],
      "metadata": {
        "colab": {
          "base_uri": "https://localhost:8080/"
        },
        "id": "flg8fTwbiynv",
        "outputId": "1ceb873e-7c05-48fb-ca9e-08b5e8b88fbe"
      },
      "execution_count": null,
      "outputs": [
        {
          "output_type": "stream",
          "name": "stdout",
          "text": [
            "{'uci_id': 320, 'name': 'Student Performance', 'repository_url': 'https://archive.ics.uci.edu/dataset/320/student+performance', 'data_url': 'https://archive.ics.uci.edu/static/public/320/data.csv', 'abstract': 'Predict student performance in secondary education (high school). ', 'area': 'Social Science', 'tasks': ['Classification', 'Regression'], 'characteristics': ['Multivariate'], 'num_instances': 649, 'num_features': 30, 'feature_types': ['Integer'], 'demographics': ['Sex', 'Age', 'Other', 'Education Level', 'Occupation'], 'target_col': ['G1', 'G2', 'G3'], 'index_col': None, 'has_missing_values': 'no', 'missing_values_symbol': None, 'year_of_dataset_creation': 2008, 'last_updated': 'Fri Jan 05 2024', 'dataset_doi': '10.24432/C5TG7T', 'creators': ['Paulo Cortez'], 'intro_paper': {'ID': 360, 'type': 'NATIVE', 'title': 'Using data mining to predict secondary school student performance', 'authors': 'P. Cortez, A. M. G. Silva', 'venue': 'Proceedings of 5th Annual Future Business Technology Conference', 'year': 2008, 'journal': None, 'DOI': None, 'URL': 'https://www.semanticscholar.org/paper/61d468d5254730bbecf822c6b60d7d6595d9889c', 'sha': None, 'corpus': '16621299', 'arxiv': None, 'mag': None, 'acl': None, 'pmid': None, 'pmcid': None}, 'additional_info': {'summary': 'This data approach student achievement in secondary education of two Portuguese schools. The data attributes include student grades, demographic, social and school related features) and it was collected by using school reports and questionnaires. Two datasets are provided regarding the performance in two distinct subjects: Mathematics (mat) and Portuguese language (por). In [Cortez and Silva, 2008], the two datasets were modeled under binary/five-level classification and regression tasks. Important note: the target attribute G3 has a strong correlation with attributes G2 and G1. This occurs because G3 is the final year grade (issued at the 3rd period), while G1 and G2 correspond to the 1st and 2nd period grades. It is more difficult to predict G3 without G2 and G1, but such prediction is much more useful (see paper source for more details).', 'purpose': None, 'funded_by': None, 'instances_represent': None, 'recommended_data_splits': None, 'sensitive_data': None, 'preprocessing_description': None, 'variable_info': \"# Attributes for both student-mat.csv (Math course) and student-por.csv (Portuguese language course) datasets:\\r\\n1 school - student's school (binary: 'GP' - Gabriel Pereira or 'MS' - Mousinho da Silveira)\\r\\n2 sex - student's sex (binary: 'F' - female or 'M' - male)\\r\\n3 age - student's age (numeric: from 15 to 22)\\r\\n4 address - student's home address type (binary: 'U' - urban or 'R' - rural)\\r\\n5 famsize - family size (binary: 'LE3' - less or equal to 3 or 'GT3' - greater than 3)\\r\\n6 Pstatus - parent's cohabitation status (binary: 'T' - living together or 'A' - apart)\\r\\n7 Medu - mother's education (numeric: 0 - none,  1 - primary education (4th grade), 2 â€“ 5th to 9th grade, 3 â€“ secondary education or 4 â€“ higher education)\\r\\n8 Fedu - father's education (numeric: 0 - none,  1 - primary education (4th grade), 2 â€“ 5th to 9th grade, 3 â€“ secondary education or 4 â€“ higher education)\\r\\n9 Mjob - mother's job (nominal: 'teacher', 'health' care related, civil 'services' (e.g. administrative or police), 'at_home' or 'other')\\r\\n10 Fjob - father's job (nominal: 'teacher', 'health' care related, civil 'services' (e.g. administrative or police), 'at_home' or 'other')\\r\\n11 reason - reason to choose this school (nominal: close to 'home', school 'reputation', 'course' preference or 'other')\\r\\n12 guardian - student's guardian (nominal: 'mother', 'father' or 'other')\\r\\n13 traveltime - home to school travel time (numeric: 1 - <15 min., 2 - 15 to 30 min., 3 - 30 min. to 1 hour, or 4 - >1 hour)\\r\\n14 studytime - weekly study time (numeric: 1 - <2 hours, 2 - 2 to 5 hours, 3 - 5 to 10 hours, or 4 - >10 hours)\\r\\n15 failures - number of past class failures (numeric: n if 1<=n<3, else 4)\\r\\n16 schoolsup - extra educational support (binary: yes or no)\\r\\n17 famsup - family educational support (binary: yes or no)\\r\\n18 paid - extra paid classes within the course subject (Math or Portuguese) (binary: yes or no)\\r\\n19 activities - extra-curricular activities (binary: yes or no)\\r\\n20 nursery - attended nursery school (binary: yes or no)\\r\\n21 higher - wants to take higher education (binary: yes or no)\\r\\n22 internet - Internet access at home (binary: yes or no)\\r\\n23 romantic - with a romantic relationship (binary: yes or no)\\r\\n24 famrel - quality of family relationships (numeric: from 1 - very bad to 5 - excellent)\\r\\n25 freetime - free time after school (numeric: from 1 - very low to 5 - very high)\\r\\n26 goout - going out with friends (numeric: from 1 - very low to 5 - very high)\\r\\n27 Dalc - workday alcohol consumption (numeric: from 1 - very low to 5 - very high)\\r\\n28 Walc - weekend alcohol consumption (numeric: from 1 - very low to 5 - very high)\\r\\n29 health - current health status (numeric: from 1 - very bad to 5 - very good)\\r\\n30 absences - number of school absences (numeric: from 0 to 93)\\r\\n\\r\\n# these grades are related with the course subject, Math or Portuguese:\\r\\n31 G1 - first period grade (numeric: from 0 to 20)\\r\\n31 G2 - second period grade (numeric: from 0 to 20)\\r\\n32 G3 - final grade (numeric: from 0 to 20, output target)\", 'citation': None}}\n",
            "          name     role         type      demographic  \\\n",
            "0       school  Feature  Categorical             None   \n",
            "1          sex  Feature       Binary              Sex   \n",
            "2          age  Feature      Integer              Age   \n",
            "3      address  Feature  Categorical             None   \n",
            "4      famsize  Feature  Categorical            Other   \n",
            "5      Pstatus  Feature  Categorical            Other   \n",
            "6         Medu  Feature      Integer  Education Level   \n",
            "7         Fedu  Feature      Integer  Education Level   \n",
            "8         Mjob  Feature  Categorical       Occupation   \n",
            "9         Fjob  Feature  Categorical       Occupation   \n",
            "10      reason  Feature  Categorical             None   \n",
            "11    guardian  Feature  Categorical             None   \n",
            "12  traveltime  Feature      Integer             None   \n",
            "13   studytime  Feature      Integer             None   \n",
            "14    failures  Feature      Integer             None   \n",
            "15   schoolsup  Feature       Binary             None   \n",
            "16      famsup  Feature       Binary             None   \n",
            "17        paid  Feature       Binary             None   \n",
            "18  activities  Feature       Binary             None   \n",
            "19     nursery  Feature       Binary             None   \n",
            "20      higher  Feature       Binary             None   \n",
            "21    internet  Feature       Binary             None   \n",
            "22    romantic  Feature       Binary             None   \n",
            "23      famrel  Feature      Integer             None   \n",
            "24    freetime  Feature      Integer             None   \n",
            "25       goout  Feature      Integer             None   \n",
            "26        Dalc  Feature      Integer             None   \n",
            "27        Walc  Feature      Integer             None   \n",
            "28      health  Feature      Integer             None   \n",
            "29    absences  Feature      Integer             None   \n",
            "30          G1   Target  Categorical             None   \n",
            "31          G2   Target  Categorical             None   \n",
            "32          G3   Target      Integer             None   \n",
            "\n",
            "                                          description units missing_values  \n",
            "0   student's school (binary: 'GP' - Gabriel Perei...  None             no  \n",
            "1   student's sex (binary: 'F' - female or 'M' - m...  None             no  \n",
            "2              student's age (numeric: from 15 to 22)  None             no  \n",
            "3   student's home address type (binary: 'U' - urb...  None             no  \n",
            "4   family size (binary: 'LE3' - less or equal to ...  None             no  \n",
            "5   parent's cohabitation status (binary: 'T' - li...  None             no  \n",
            "6   mother's education (numeric: 0 - none,  1 - pr...  None             no  \n",
            "7   father's education (numeric: 0 - none,  1 - pr...  None             no  \n",
            "8   mother's job (nominal: 'teacher', 'health' car...  None             no  \n",
            "9   father's job (nominal: 'teacher', 'health' car...  None             no  \n",
            "10  reason to choose this school (nominal: close t...  None             no  \n",
            "11  student's guardian (nominal: 'mother', 'father...  None             no  \n",
            "12  home to school travel time (numeric: 1 - <15 m...  None             no  \n",
            "13  weekly study time (numeric: 1 - <2 hours, 2 - ...  None             no  \n",
            "14  number of past class failures (numeric: n if 1...  None             no  \n",
            "15      extra educational support (binary: yes or no)  None             no  \n",
            "16     family educational support (binary: yes or no)  None             no  \n",
            "17  extra paid classes within the course subject (...  None             no  \n",
            "18    extra-curricular activities (binary: yes or no)  None             no  \n",
            "19        attended nursery school (binary: yes or no)  None             no  \n",
            "20  wants to take higher education (binary: yes or...  None             no  \n",
            "21        Internet access at home (binary: yes or no)  None             no  \n",
            "22   with a romantic relationship (binary: yes or no)  None             no  \n",
            "23  quality of family relationships (numeric: from...  None             no  \n",
            "24  free time after school (numeric: from 1 - very...  None             no  \n",
            "25  going out with friends (numeric: from 1 - very...  None             no  \n",
            "26  workday alcohol consumption (numeric: from 1 -...  None             no  \n",
            "27  weekend alcohol consumption (numeric: from 1 -...  None             no  \n",
            "28  current health status (numeric: from 1 - very ...  None             no  \n",
            "29  number of school absences (numeric: from 0 to 93)  None             no  \n",
            "30         first period grade (numeric: from 0 to 20)  None             no  \n",
            "31        second period grade (numeric: from 0 to 20)  None             no  \n",
            "32  final grade (numeric: from 0 to 20, output tar...  None             no  \n"
          ]
        }
      ]
    },
    {
      "cell_type": "markdown",
      "source": [
        "## Preprocessing\n"
      ],
      "metadata": {
        "id": "XRSn_BofXLeN"
      }
    },
    {
      "cell_type": "code",
      "source": [
        "# separação dos dados em features e target\n",
        "X = student_performance.data.features.copy()\n",
        "\n",
        "y = student_performance.data.targets[\"G3\"].copy()"
      ],
      "metadata": {
        "id": "WRdllFIbjWRo"
      },
      "execution_count": null,
      "outputs": []
    },
    {
      "cell_type": "code",
      "source": [
        "# Label encoding para as features binárias\n",
        "binary_map_cols = [\"schoolsup\", \"famsup\", \"paid\", \"activities\", \"nursery\", \"higher\", \"internet\", \"romantic\", \"sex\"]\n",
        "\n",
        "for col in binary_map_cols:\n",
        "  if col == \"sex\":\n",
        "    X[\"sex\"] = X[col].map({\"F\": 0, \"M\": 1}).astype(\"int64\")\n",
        "  else:\n",
        "    X[col] = X[col].map({\"no\": 0, \"yes\": 1})"
      ],
      "metadata": {
        "id": "x0XrHCQjjZ_H"
      },
      "execution_count": null,
      "outputs": []
    },
    {
      "cell_type": "code",
      "source": [
        "# One-hot encoding para as features categóricas\n",
        "categorical_cols = X.select_dtypes(include=\"object\").columns.tolist()\n",
        "print(categorical_cols)"
      ],
      "metadata": {
        "colab": {
          "base_uri": "https://localhost:8080/"
        },
        "id": "aZhUi_RUsLpR",
        "outputId": "69e9ee5b-e413-4852-9821-4c156b989dd7"
      },
      "execution_count": null,
      "outputs": [
        {
          "output_type": "stream",
          "name": "stdout",
          "text": [
            "['school', 'address', 'famsize', 'Pstatus', 'Mjob', 'Fjob', 'reason', 'guardian']\n"
          ]
        }
      ]
    },
    {
      "cell_type": "code",
      "source": [
        "encoder = OneHotEncoder(sparse_output=False)\n",
        "\n",
        "one_hot_encoded = encoder.fit_transform(X[categorical_cols])\n",
        "one_hot_df = pd.DataFrame(one_hot_encoded, columns=encoder.get_feature_names_out(categorical_cols))\n",
        "\n",
        "X = X.drop(categorical_cols, axis=1)"
      ],
      "metadata": {
        "id": "q3OzwsFB2RB0"
      },
      "execution_count": null,
      "outputs": []
    },
    {
      "cell_type": "code",
      "source": [
        "numerical_cols = list(set(X.columns) - set(binary_map_cols) - set(categorical_cols))\n",
        "print(numerical_cols)"
      ],
      "metadata": {
        "colab": {
          "base_uri": "https://localhost:8080/"
        },
        "id": "_8en4zTruRWN",
        "outputId": "85df2a0a-626b-478a-8981-633f62d4688d"
      },
      "execution_count": null,
      "outputs": [
        {
          "output_type": "stream",
          "name": "stdout",
          "text": [
            "['Fedu', 'freetime', 'health', 'failures', 'famrel', 'studytime', 'traveltime', 'Dalc', 'Medu', 'age', 'absences', 'Walc', 'goout']\n"
          ]
        }
      ]
    },
    {
      "cell_type": "code",
      "source": [
        "# Standard Scaling para as features numéricas\n",
        "scaler = StandardScaler()\n",
        "scaled_num = scaler.fit_transform(X[numerical_cols])\n",
        "scaled_num_df = pd.DataFrame(scaled_num, columns=numerical_cols, index=X.index)"
      ],
      "metadata": {
        "id": "4Y9F9M8AvSEC"
      },
      "execution_count": null,
      "outputs": []
    },
    {
      "cell_type": "code",
      "source": [
        "X_processed = pd.concat([one_hot_df, scaled_num_df, X[binary_map_cols]], axis=1)"
      ],
      "metadata": {
        "id": "m0iQ1YbQwyVb"
      },
      "execution_count": null,
      "outputs": []
    },
    {
      "cell_type": "code",
      "source": [
        "X_processed.info()"
      ],
      "metadata": {
        "colab": {
          "base_uri": "https://localhost:8080/"
        },
        "id": "5Q7lp8gAw9xJ",
        "outputId": "b1c53fe0-8220-48a2-d15b-c5606e4f9baa"
      },
      "execution_count": null,
      "outputs": [
        {
          "output_type": "stream",
          "name": "stdout",
          "text": [
            "<class 'pandas.core.frame.DataFrame'>\n",
            "RangeIndex: 649 entries, 0 to 648\n",
            "Data columns (total 47 columns):\n",
            " #   Column             Non-Null Count  Dtype  \n",
            "---  ------             --------------  -----  \n",
            " 0   school_GP          649 non-null    float64\n",
            " 1   school_MS          649 non-null    float64\n",
            " 2   address_R          649 non-null    float64\n",
            " 3   address_U          649 non-null    float64\n",
            " 4   famsize_GT3        649 non-null    float64\n",
            " 5   famsize_LE3        649 non-null    float64\n",
            " 6   Pstatus_A          649 non-null    float64\n",
            " 7   Pstatus_T          649 non-null    float64\n",
            " 8   Mjob_at_home       649 non-null    float64\n",
            " 9   Mjob_health        649 non-null    float64\n",
            " 10  Mjob_other         649 non-null    float64\n",
            " 11  Mjob_services      649 non-null    float64\n",
            " 12  Mjob_teacher       649 non-null    float64\n",
            " 13  Fjob_at_home       649 non-null    float64\n",
            " 14  Fjob_health        649 non-null    float64\n",
            " 15  Fjob_other         649 non-null    float64\n",
            " 16  Fjob_services      649 non-null    float64\n",
            " 17  Fjob_teacher       649 non-null    float64\n",
            " 18  reason_course      649 non-null    float64\n",
            " 19  reason_home        649 non-null    float64\n",
            " 20  reason_other       649 non-null    float64\n",
            " 21  reason_reputation  649 non-null    float64\n",
            " 22  guardian_father    649 non-null    float64\n",
            " 23  guardian_mother    649 non-null    float64\n",
            " 24  guardian_other     649 non-null    float64\n",
            " 25  Fedu               649 non-null    float64\n",
            " 26  freetime           649 non-null    float64\n",
            " 27  health             649 non-null    float64\n",
            " 28  failures           649 non-null    float64\n",
            " 29  famrel             649 non-null    float64\n",
            " 30  studytime          649 non-null    float64\n",
            " 31  traveltime         649 non-null    float64\n",
            " 32  Dalc               649 non-null    float64\n",
            " 33  Medu               649 non-null    float64\n",
            " 34  age                649 non-null    float64\n",
            " 35  absences           649 non-null    float64\n",
            " 36  Walc               649 non-null    float64\n",
            " 37  goout              649 non-null    float64\n",
            " 38  schoolsup          649 non-null    int64  \n",
            " 39  famsup             649 non-null    int64  \n",
            " 40  paid               649 non-null    int64  \n",
            " 41  activities         649 non-null    int64  \n",
            " 42  nursery            649 non-null    int64  \n",
            " 43  higher             649 non-null    int64  \n",
            " 44  internet           649 non-null    int64  \n",
            " 45  romantic           649 non-null    int64  \n",
            " 46  sex                649 non-null    int64  \n",
            "dtypes: float64(38), int64(9)\n",
            "memory usage: 238.4 KB\n"
          ]
        }
      ]
    },
    {
      "cell_type": "code",
      "source": [
        "# separa treino e teste\n",
        "X_temp, X_test, y_temp, y_test = train_test_split(\n",
        "    X_processed, y, test_size=0.2, random_state=42\n",
        ")\n",
        "\n",
        "# separa treino e validação a partir do conjunto temporário\n",
        "X_train, X_val, y_train, y_val = train_test_split(\n",
        "    X_temp, y_temp, test_size=0.25, random_state=42  # 0.25 * 0.8 = 0.2 do total\n",
        ")"
      ],
      "metadata": {
        "id": "uH3O77umAJ36"
      },
      "execution_count": null,
      "outputs": []
    },
    {
      "cell_type": "code",
      "source": [
        "# Convertemos os DataFrames para tensores float32\n",
        "X_train_tensor = torch.tensor(X_train.values, dtype=torch.float32)\n",
        "y_train_tensor = torch.tensor(y_train.values, dtype=torch.float32).view(-1, 1)\n",
        "\n",
        "X_val_tensor = torch.tensor(X_val.values, dtype=torch.float32)\n",
        "y_val_tensor = torch.tensor(y_val.values, dtype=torch.float32).view(-1, 1)"
      ],
      "metadata": {
        "id": "h33KYGOTBPAQ"
      },
      "execution_count": null,
      "outputs": []
    },
    {
      "cell_type": "code",
      "source": [
        "# Datasets e Dataloaders\n",
        "train_dataset = TensorDataset(X_train_tensor, y_train_tensor)\n",
        "val_dataset = TensorDataset(X_val_tensor, y_val_tensor)\n",
        "\n",
        "train_loader = DataLoader(train_dataset, batch_size=32, shuffle=True)\n",
        "val_loader = DataLoader(val_dataset, batch_size=32)"
      ],
      "metadata": {
        "id": "5ODagc2pEkfy"
      },
      "execution_count": null,
      "outputs": []
    },
    {
      "cell_type": "code",
      "source": [
        "def evaluate(model, dataloader, criterion, device=\"cpu\"):\n",
        "    model.eval()\n",
        "    total_loss = 0.0\n",
        "\n",
        "    with torch.no_grad():\n",
        "        for X_batch, y_batch in dataloader:\n",
        "            X_batch = X_batch.to(device)\n",
        "            y_batch = y_batch.to(device)\n",
        "\n",
        "            outputs = model(X_batch)\n",
        "            loss = criterion(outputs, y_batch)\n",
        "            total_loss += loss.item() * X_batch.size(0)\n",
        "\n",
        "    return total_loss / len(dataloader.dataset)"
      ],
      "metadata": {
        "id": "d8Z_c86CG0-W"
      },
      "execution_count": null,
      "outputs": []
    },
    {
      "cell_type": "markdown",
      "source": [
        "## Train Loop"
      ],
      "metadata": {
        "id": "x3HrQEzhXXR3"
      }
    },
    {
      "cell_type": "code",
      "source": [
        "# treinamento\n",
        "# Early stopping setup\n",
        "def trainModel(model, train_loader, val_loader, criterion, optimizer, n_epochs=50, patience=5):\n",
        "    device = torch.device(\"cuda\" if torch.cuda.is_available() else \"cpu\")\n",
        "\n",
        "    train_losses = []\n",
        "    val_losses = []\n",
        "    best_loss = float(\"inf\")\n",
        "    patience_counter = 0\n",
        "    best_model_state = None\n",
        "\n",
        "    model.to(device)\n",
        "\n",
        "    for epoch in tqdm(range(n_epochs)):\n",
        "        model.train()\n",
        "        epoch_loss = 0.0\n",
        "\n",
        "        for X_batch, y_batch in train_loader:\n",
        "            X_batch = X_batch.to(device)\n",
        "            y_batch = y_batch.to(device)\n",
        "\n",
        "            optimizer.zero_grad()\n",
        "            outputs = model(X_batch)\n",
        "            loss = criterion(outputs, y_batch)\n",
        "            loss.backward()\n",
        "            optimizer.step()\n",
        "\n",
        "            epoch_loss += loss.item() * X_batch.size(0)\n",
        "\n",
        "        epoch_loss /= len(train_loader.dataset)\n",
        "        train_losses.append(epoch_loss)\n",
        "        tqdm.write(f\"Epoch {epoch+1} training loss: {epoch_loss:.4f}\")\n",
        "\n",
        "        # Avaliação\n",
        "        val_loss = evaluate(model, val_loader, criterion, device)\n",
        "        val_losses.append(val_loss)\n",
        "        tqdm.write(f\"Epoch {epoch+1} validation loss: {val_loss:.4f}\")\n",
        "\n",
        "        # Early stopping\n",
        "        if val_loss < best_loss:\n",
        "            best_loss = val_loss\n",
        "            patience_counter = 0\n",
        "            best_model_state = model.state_dict()\n",
        "        else:\n",
        "            patience_counter += 1\n",
        "            if patience_counter >= patience:\n",
        "                tqdm.write(\"Early stopping triggered.\")\n",
        "                break\n",
        "\n",
        "    # Carregar melhor modelo\n",
        "    if best_model_state is not None:\n",
        "        model.load_state_dict(best_model_state)\n",
        "        torch.save(model.state_dict(), \"melhor_modelo.pth\")\n",
        "\n",
        "    return train_losses, val_losses"
      ],
      "metadata": {
        "id": "IDGxar4aE3Vv"
      },
      "execution_count": null,
      "outputs": []
    },
    {
      "cell_type": "markdown",
      "source": [
        "## Experiment 1"
      ],
      "metadata": {
        "id": "AsmlMRPLXbmr"
      }
    },
    {
      "cell_type": "code",
      "source": [
        "class Model1(nn.Module):\n",
        "    def __init__(self):\n",
        "        super(Model1, self).__init__()\n",
        "\n",
        "        self.net = nn.Sequential(\n",
        "            nn.Linear(47, 120),\n",
        "            nn.Linear(120, 120),\n",
        "            nn.Linear(120, 1)\n",
        "        )\n",
        "\n",
        "    def forward(self, x):\n",
        "        return self.net(x)"
      ],
      "metadata": {
        "id": "P97pD4NcB07x"
      },
      "execution_count": null,
      "outputs": []
    },
    {
      "cell_type": "code",
      "source": [
        "# Hiperparâmetros\n",
        "n_epochs = 30\n",
        "lr=1e-3\n",
        "patience = 5\n",
        "\n",
        "model = Model1()\n",
        "\n",
        "criterion = nn.MSELoss()  # regressão → MSE\n",
        "optimizer = optim.Adam(model.parameters(), lr=lr)\n",
        "\n",
        "train_losses, val_losses = trainModel(model,\n",
        "           train_loader,\n",
        "           val_loader,\n",
        "           criterion,\n",
        "           optimizer,\n",
        "           n_epochs,\n",
        "           patience)"
      ],
      "metadata": {
        "colab": {
          "base_uri": "https://localhost:8080/"
        },
        "id": "QuGDlVL0FCwB",
        "outputId": "ffd58c5b-d939-4296-9059-318203c1b814"
      },
      "execution_count": null,
      "outputs": [
        {
          "output_type": "stream",
          "name": "stderr",
          "text": [
            "  7%|▋         | 2/30 [00:00<00:01, 16.93it/s]"
          ]
        },
        {
          "output_type": "stream",
          "name": "stdout",
          "text": [
            "Epoch 1 training loss: 122.5673\n",
            "Epoch 1 validation loss: 82.1855\n",
            "Epoch 2 training loss: 43.9882\n",
            "Epoch 2 validation loss: 8.5047\n",
            "Epoch 3 training loss: 14.8751\n",
            "Epoch 3 validation loss: 8.6261\n",
            "Epoch 4 training loss: 9.6481\n",
            "Epoch 4 validation loss: 7.9970\n"
          ]
        },
        {
          "output_type": "stream",
          "name": "stderr",
          "text": [
            " 23%|██▎       | 7/30 [00:00<00:01, 19.33it/s]"
          ]
        },
        {
          "output_type": "stream",
          "name": "stdout",
          "text": [
            "Epoch 5 training loss: 9.1432\n",
            "Epoch 5 validation loss: 7.0090\n",
            "Epoch 6 training loss: 8.5769\n",
            "Epoch 6 validation loss: 6.8306\n",
            "Epoch 7 training loss: 8.0701\n",
            "Epoch 7 validation loss: 6.9203\n",
            "Epoch 8 training loss: 7.8206\n",
            "Epoch 8 validation loss: 6.9115\n"
          ]
        },
        {
          "output_type": "stream",
          "name": "stderr",
          "text": [
            " 37%|███▋      | 11/30 [00:00<00:01, 18.57it/s]"
          ]
        },
        {
          "output_type": "stream",
          "name": "stdout",
          "text": [
            "Epoch 9 training loss: 7.8473\n",
            "Epoch 9 validation loss: 6.9263\n",
            "Epoch 10 training loss: 7.6424\n",
            "Epoch 10 validation loss: 6.7945\n",
            "Epoch 11 training loss: 7.5121\n",
            "Epoch 11 validation loss: 6.7518\n",
            "Epoch 12 training loss: 7.3796\n",
            "Epoch 12 validation loss: 6.5320\n"
          ]
        },
        {
          "output_type": "stream",
          "name": "stderr",
          "text": [
            " 50%|█████     | 15/30 [00:00<00:00, 17.30it/s]"
          ]
        },
        {
          "output_type": "stream",
          "name": "stdout",
          "text": [
            "Epoch 13 training loss: 7.2878\n",
            "Epoch 13 validation loss: 6.5217\n",
            "Epoch 14 training loss: 7.2606\n",
            "Epoch 14 validation loss: 6.4983\n",
            "Epoch 15 training loss: 7.1808\n",
            "Epoch 15 validation loss: 6.5363\n",
            "Epoch 16 training loss: 7.2204\n",
            "Epoch 16 validation loss: 6.4203\n"
          ]
        },
        {
          "output_type": "stream",
          "name": "stderr",
          "text": [
            " 63%|██████▎   | 19/30 [00:01<00:00, 16.58it/s]"
          ]
        },
        {
          "output_type": "stream",
          "name": "stdout",
          "text": [
            "Epoch 17 training loss: 7.1514\n",
            "Epoch 17 validation loss: 6.3234\n",
            "Epoch 18 training loss: 7.1059\n",
            "Epoch 18 validation loss: 6.3796\n",
            "Epoch 19 training loss: 7.0279\n",
            "Epoch 19 validation loss: 6.3745\n",
            "Epoch 20 training loss: 7.1148\n",
            "Epoch 20 validation loss: 6.5216\n"
          ]
        },
        {
          "output_type": "stream",
          "name": "stderr",
          "text": [
            " 70%|███████   | 21/30 [00:01<00:00, 16.68it/s]"
          ]
        },
        {
          "output_type": "stream",
          "name": "stdout",
          "text": [
            "Epoch 21 training loss: 7.1898\n",
            "Epoch 21 validation loss: 6.5869\n",
            "Epoch 22 training loss: 7.1341\n",
            "Epoch 22 validation loss: 6.3903\n",
            "Early stopping triggered.\n"
          ]
        },
        {
          "output_type": "stream",
          "name": "stderr",
          "text": [
            "\n"
          ]
        }
      ]
    },
    {
      "cell_type": "code",
      "source": [
        "plt.figure(figsize=(10,6))\n",
        "plt.plot(train_losses, label='Train Loss')\n",
        "plt.plot(val_losses, label='Validation Loss')\n",
        "plt.xlabel('Epoch')\n",
        "plt.ylabel('Loss')\n",
        "plt.title('Train vs Validation Loss')\n",
        "plt.legend()\n",
        "plt.grid(True)\n",
        "plt.show()"
      ],
      "metadata": {
        "colab": {
          "base_uri": "https://localhost:8080/",
          "height": 564
        },
        "id": "y_InxeYiD6-4",
        "outputId": "051767e4-90a2-4f67-cdd8-43650e562ee8"
      },
      "execution_count": null,
      "outputs": [
        {
          "output_type": "display_data",
          "data": {
            "text/plain": [
              "<Figure size 1000x600 with 1 Axes>"
            ],
            "image/png": "[encoded data removed]"
          },
          "metadata": {}
        }
      ]
    },
    {
      "cell_type": "code",
      "source": [
        "X_test_tensor = torch.tensor(X_test.values, dtype=torch.float32)\n",
        "y_test_tensor = torch.tensor(y_test.values, dtype=torch.float32).view(-1, 1)\n",
        "\n",
        "# Previsões\n",
        "model.eval()\n",
        "with torch.no_grad():\n",
        "    y_pred = model(X_test_tensor).numpy()\n",
        "\n",
        "# Transformando y_test para array (caso ainda seja Series)\n",
        "y_true = y_test_tensor.numpy()\n",
        "\n",
        "# Cálculo das métricas\n",
        "mse = mean_squared_error(y_true, y_pred)\n",
        "rmse = np.sqrt(mse)\n",
        "mae = mean_absolute_error(y_true, y_pred)\n",
        "r2 = r2_score(y_true, y_pred)\n",
        "\n",
        "print(f\"MAE:  {mae:.4f}\")\n",
        "print(f\"RMSE: {rmse:.4f}\")\n",
        "print(f\"R²:   {r2:.4f}\")"
      ],
      "metadata": {
        "colab": {
          "base_uri": "https://localhost:8080/"
        },
        "id": "HcQ7ie3RF8TE",
        "outputId": "a305f767-33c0-4ba2-9b47-b83d542d5065"
      },
      "execution_count": null,
      "outputs": [
        {
          "output_type": "stream",
          "name": "stdout",
          "text": [
            "MAE:  2.2006\n",
            "RMSE: 2.9249\n",
            "R²:   0.1227\n"
          ]
        }
      ]
    },
    {
      "cell_type": "code",
      "source": [
        "index = 51\n",
        "student = X_test_tensor[index]\n",
        "y_true = y_test_tensor[index]\n",
        "y_true"
      ],
      "metadata": {
        "colab": {
          "base_uri": "https://localhost:8080/",
          "height": 190
        },
        "id": "7FIC3hUGLeDV",
        "outputId": "86d5136d-a5b9-4972-d43d-565baf10d0dd"
      },
      "execution_count": null,
      "outputs": [
        {
          "output_type": "error",
          "ename": "NameError",
          "evalue": "name 'X_test_tensor' is not defined",
          "traceback": [
            "\u001b[0;31m---------------------------------------------------------------------------\u001b[0m",
            "\u001b[0;31mNameError\u001b[0m                                 Traceback (most recent call last)",
            "\u001b[0;32m<ipython-input-1-f83d75a77e7f>\u001b[0m in \u001b[0;36m<cell line: 0>\u001b[0;34m()\u001b[0m\n\u001b[1;32m      1\u001b[0m \u001b[0mindex\u001b[0m \u001b[0;34m=\u001b[0m \u001b[0;36m51\u001b[0m\u001b[0;34m\u001b[0m\u001b[0;34m\u001b[0m\u001b[0m\n\u001b[0;32m----> 2\u001b[0;31m \u001b[0mstudent\u001b[0m \u001b[0;34m=\u001b[0m \u001b[0mX_test_tensor\u001b[0m\u001b[0;34m[\u001b[0m\u001b[0mindex\u001b[0m\u001b[0;34m]\u001b[0m\u001b[0;34m\u001b[0m\u001b[0;34m\u001b[0m\u001b[0m\n\u001b[0m\u001b[1;32m      3\u001b[0m \u001b[0my_true\u001b[0m \u001b[0;34m=\u001b[0m \u001b[0my_test_tensor\u001b[0m\u001b[0;34m[\u001b[0m\u001b[0mindex\u001b[0m\u001b[0;34m]\u001b[0m\u001b[0;34m\u001b[0m\u001b[0;34m\u001b[0m\u001b[0m\n\u001b[1;32m      4\u001b[0m \u001b[0my_true\u001b[0m\u001b[0;34m\u001b[0m\u001b[0;34m\u001b[0m\u001b[0m\n",
            "\u001b[0;31mNameError\u001b[0m: name 'X_test_tensor' is not defined"
          ]
        }
      ]
    },
    {
      "cell_type": "code",
      "source": [
        "with torch.no_grad():\n",
        "    y_pred = model(student).numpy()\n",
        "y_pred"
      ],
      "metadata": {
        "colab": {
          "base_uri": "https://localhost:8080/"
        },
        "id": "1x_vHVimLZ3o",
        "outputId": "b6354012-fbaa-4bde-8f6e-2401e5b07fc6"
      },
      "execution_count": null,
      "outputs": [
        {
          "output_type": "execute_result",
          "data": {
            "text/plain": [
              "array([10.933074], dtype=float32)"
            ]
          },
          "metadata": {},
          "execution_count": 258
        }
      ]
    }
  ]
}