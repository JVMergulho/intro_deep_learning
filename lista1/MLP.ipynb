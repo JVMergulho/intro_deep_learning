{
  "cells": [
    {
      "cell_type": "markdown",
      "metadata": {
        "id": "9Z2REhZOI6_5"
      },
      "source": [
        "# IF867 - Introdução à Aprendizagem Profunda\n",
        "## 1ª atividade prática - 2025.1\n",
        "\n",
        "Discente(s):\n",
        "- Ana Sofia Lima (asosl)\n",
        "- João Vitor Mergulhão (jvlm2)\n",
        "\n",
        "## Instruções e requisitos\n",
        "- Objetivo: Implementar e treinar um Multi-Layer Perceptron e uma Rede Neural Convolucional, inteiramente em PyTorch.\n",
        "- Observação: A atividade pode ser feita em dupla.\n",
        "\n",
        "## Tarefa\n",
        "\n",
        "Multi-Layer Perceptron (MLP) para Regressão (50% da nota):\n",
        "  - Implementação: Construa um MLP funcional para uma tarefa de regressão.\n",
        "  - Experimentação:\n",
        "      - Varie a arquitetura da rede (ex: número de camadas, neurônios por camada).\n",
        "      - Teste diferentes otimizadores (ex: Adam, SGD).\n",
        "      - Explore outras modificações que julgar pertinentes.\n",
        "  - Relatório: Documente no notebook os experimentos realizados, as configurações utilizadas e os resultados obtidos, analisando o impacto de cada alteração.\n",
        "\n",
        "O relatório está ao fim do notebook."
      ]
    },
    {
      "cell_type": "markdown",
      "metadata": {
        "id": "wIcc15wJ4i69"
      },
      "source": [
        "## Dataset"
      ]
    },
    {
      "cell_type": "code",
      "execution_count": 77,
      "metadata": {
        "colab": {
          "base_uri": "https://localhost:8080/"
        },
        "id": "Q4csEfg2g2xL",
        "outputId": "ac074312-017f-4505-96bc-6930efc9e072"
      },
      "outputs": [
        {
          "name": "stdout",
          "output_type": "stream",
          "text": [
            "Requirement already satisfied: ucimlrepo in c:\\users\\anaso\\appdata\\local\\programs\\python\\python313\\lib\\site-packages (0.0.7)\n",
            "Requirement already satisfied: pandas>=1.0.0 in c:\\users\\anaso\\appdata\\local\\programs\\python\\python313\\lib\\site-packages (from ucimlrepo) (2.2.3)\n",
            "Requirement already satisfied: certifi>=2020.12.5 in c:\\users\\anaso\\appdata\\local\\programs\\python\\python313\\lib\\site-packages (from ucimlrepo) (2025.4.26)\n",
            "Requirement already satisfied: numpy>=1.26.0 in c:\\users\\anaso\\appdata\\local\\programs\\python\\python313\\lib\\site-packages (from pandas>=1.0.0->ucimlrepo) (2.2.6)\n",
            "Requirement already satisfied: python-dateutil>=2.8.2 in c:\\users\\anaso\\appdata\\roaming\\python\\python313\\site-packages (from pandas>=1.0.0->ucimlrepo) (2.9.0.post0)\n",
            "Requirement already satisfied: pytz>=2020.1 in c:\\users\\anaso\\appdata\\local\\programs\\python\\python313\\lib\\site-packages (from pandas>=1.0.0->ucimlrepo) (2025.2)\n",
            "Requirement already satisfied: tzdata>=2022.7 in c:\\users\\anaso\\appdata\\local\\programs\\python\\python313\\lib\\site-packages (from pandas>=1.0.0->ucimlrepo) (2025.2)\n",
            "Requirement already satisfied: six>=1.5 in c:\\users\\anaso\\appdata\\roaming\\python\\python313\\site-packages (from python-dateutil>=2.8.2->pandas>=1.0.0->ucimlrepo) (1.17.0)\n",
            "Note: you may need to restart the kernel to use updated packages.\n"
          ]
        }
      ],
      "source": [
        "%pip install ucimlrepo"
      ]
    },
    {
      "cell_type": "code",
      "execution_count": 78,
      "metadata": {
        "id": "keRGeepXi04c"
      },
      "outputs": [],
      "source": [
        "import pandas as pd\n",
        "\n",
        "import numpy as np\n",
        "\n",
        "import torch\n",
        "from torch.utils.data import TensorDataset, DataLoader\n",
        "from torch import nn\n",
        "import torch.optim as optim\n",
        "\n",
        "from sklearn.compose import ColumnTransformer\n",
        "from sklearn.preprocessing import OneHotEncoder, StandardScaler\n",
        "from sklearn.model_selection import train_test_split\n",
        "from sklearn.metrics import mean_squared_error, mean_absolute_error, r2_score\n",
        "\n",
        "from tqdm import tqdm\n",
        "\n",
        "from matplotlib import pyplot as plt"
      ]
    },
    {
      "cell_type": "code",
      "execution_count": 79,
      "metadata": {
        "colab": {
          "base_uri": "https://localhost:8080/"
        },
        "id": "flg8fTwbiynv",
        "outputId": "1ceb873e-7c05-48fb-ca9e-08b5e8b88fbe"
      },
      "outputs": [
        {
          "name": "stdout",
          "output_type": "stream",
          "text": [
            "{'uci_id': 320, 'name': 'Student Performance', 'repository_url': 'https://archive.ics.uci.edu/dataset/320/student+performance', 'data_url': 'https://archive.ics.uci.edu/static/public/320/data.csv', 'abstract': 'Predict student performance in secondary education (high school). ', 'area': 'Social Science', 'tasks': ['Classification', 'Regression'], 'characteristics': ['Multivariate'], 'num_instances': 649, 'num_features': 30, 'feature_types': ['Integer'], 'demographics': ['Sex', 'Age', 'Other', 'Education Level', 'Occupation'], 'target_col': ['G1', 'G2', 'G3'], 'index_col': None, 'has_missing_values': 'no', 'missing_values_symbol': None, 'year_of_dataset_creation': 2008, 'last_updated': 'Fri Jan 05 2024', 'dataset_doi': '10.24432/C5TG7T', 'creators': ['Paulo Cortez'], 'intro_paper': {'ID': 360, 'type': 'NATIVE', 'title': 'Using data mining to predict secondary school student performance', 'authors': 'P. Cortez, A. M. G. Silva', 'venue': 'Proceedings of 5th Annual Future Business Technology Conference', 'year': 2008, 'journal': None, 'DOI': None, 'URL': 'https://www.semanticscholar.org/paper/61d468d5254730bbecf822c6b60d7d6595d9889c', 'sha': None, 'corpus': '16621299', 'arxiv': None, 'mag': None, 'acl': None, 'pmid': None, 'pmcid': None}, 'additional_info': {'summary': 'This data approach student achievement in secondary education of two Portuguese schools. The data attributes include student grades, demographic, social and school related features) and it was collected by using school reports and questionnaires. Two datasets are provided regarding the performance in two distinct subjects: Mathematics (mat) and Portuguese language (por). In [Cortez and Silva, 2008], the two datasets were modeled under binary/five-level classification and regression tasks. Important note: the target attribute G3 has a strong correlation with attributes G2 and G1. This occurs because G3 is the final year grade (issued at the 3rd period), while G1 and G2 correspond to the 1st and 2nd period grades. It is more difficult to predict G3 without G2 and G1, but such prediction is much more useful (see paper source for more details).', 'purpose': None, 'funded_by': None, 'instances_represent': None, 'recommended_data_splits': None, 'sensitive_data': None, 'preprocessing_description': None, 'variable_info': \"# Attributes for both student-mat.csv (Math course) and student-por.csv (Portuguese language course) datasets:\\r\\n1 school - student's school (binary: 'GP' - Gabriel Pereira or 'MS' - Mousinho da Silveira)\\r\\n2 sex - student's sex (binary: 'F' - female or 'M' - male)\\r\\n3 age - student's age (numeric: from 15 to 22)\\r\\n4 address - student's home address type (binary: 'U' - urban or 'R' - rural)\\r\\n5 famsize - family size (binary: 'LE3' - less or equal to 3 or 'GT3' - greater than 3)\\r\\n6 Pstatus - parent's cohabitation status (binary: 'T' - living together or 'A' - apart)\\r\\n7 Medu - mother's education (numeric: 0 - none,  1 - primary education (4th grade), 2 â€“ 5th to 9th grade, 3 â€“ secondary education or 4 â€“ higher education)\\r\\n8 Fedu - father's education (numeric: 0 - none,  1 - primary education (4th grade), 2 â€“ 5th to 9th grade, 3 â€“ secondary education or 4 â€“ higher education)\\r\\n9 Mjob - mother's job (nominal: 'teacher', 'health' care related, civil 'services' (e.g. administrative or police), 'at_home' or 'other')\\r\\n10 Fjob - father's job (nominal: 'teacher', 'health' care related, civil 'services' (e.g. administrative or police), 'at_home' or 'other')\\r\\n11 reason - reason to choose this school (nominal: close to 'home', school 'reputation', 'course' preference or 'other')\\r\\n12 guardian - student's guardian (nominal: 'mother', 'father' or 'other')\\r\\n13 traveltime - home to school travel time (numeric: 1 - <15 min., 2 - 15 to 30 min., 3 - 30 min. to 1 hour, or 4 - >1 hour)\\r\\n14 studytime - weekly study time (numeric: 1 - <2 hours, 2 - 2 to 5 hours, 3 - 5 to 10 hours, or 4 - >10 hours)\\r\\n15 failures - number of past class failures (numeric: n if 1<=n<3, else 4)\\r\\n16 schoolsup - extra educational support (binary: yes or no)\\r\\n17 famsup - family educational support (binary: yes or no)\\r\\n18 paid - extra paid classes within the course subject (Math or Portuguese) (binary: yes or no)\\r\\n19 activities - extra-curricular activities (binary: yes or no)\\r\\n20 nursery - attended nursery school (binary: yes or no)\\r\\n21 higher - wants to take higher education (binary: yes or no)\\r\\n22 internet - Internet access at home (binary: yes or no)\\r\\n23 romantic - with a romantic relationship (binary: yes or no)\\r\\n24 famrel - quality of family relationships (numeric: from 1 - very bad to 5 - excellent)\\r\\n25 freetime - free time after school (numeric: from 1 - very low to 5 - very high)\\r\\n26 goout - going out with friends (numeric: from 1 - very low to 5 - very high)\\r\\n27 Dalc - workday alcohol consumption (numeric: from 1 - very low to 5 - very high)\\r\\n28 Walc - weekend alcohol consumption (numeric: from 1 - very low to 5 - very high)\\r\\n29 health - current health status (numeric: from 1 - very bad to 5 - very good)\\r\\n30 absences - number of school absences (numeric: from 0 to 93)\\r\\n\\r\\n# these grades are related with the course subject, Math or Portuguese:\\r\\n31 G1 - first period grade (numeric: from 0 to 20)\\r\\n31 G2 - second period grade (numeric: from 0 to 20)\\r\\n32 G3 - final grade (numeric: from 0 to 20, output target)\", 'citation': None}}\n",
            "          name     role         type      demographic  \\\n",
            "0       school  Feature  Categorical             None   \n",
            "1          sex  Feature       Binary              Sex   \n",
            "2          age  Feature      Integer              Age   \n",
            "3      address  Feature  Categorical             None   \n",
            "4      famsize  Feature  Categorical            Other   \n",
            "5      Pstatus  Feature  Categorical            Other   \n",
            "6         Medu  Feature      Integer  Education Level   \n",
            "7         Fedu  Feature      Integer  Education Level   \n",
            "8         Mjob  Feature  Categorical       Occupation   \n",
            "9         Fjob  Feature  Categorical       Occupation   \n",
            "10      reason  Feature  Categorical             None   \n",
            "11    guardian  Feature  Categorical             None   \n",
            "12  traveltime  Feature      Integer             None   \n",
            "13   studytime  Feature      Integer             None   \n",
            "14    failures  Feature      Integer             None   \n",
            "15   schoolsup  Feature       Binary             None   \n",
            "16      famsup  Feature       Binary             None   \n",
            "17        paid  Feature       Binary             None   \n",
            "18  activities  Feature       Binary             None   \n",
            "19     nursery  Feature       Binary             None   \n",
            "20      higher  Feature       Binary             None   \n",
            "21    internet  Feature       Binary             None   \n",
            "22    romantic  Feature       Binary             None   \n",
            "23      famrel  Feature      Integer             None   \n",
            "24    freetime  Feature      Integer             None   \n",
            "25       goout  Feature      Integer             None   \n",
            "26        Dalc  Feature      Integer             None   \n",
            "27        Walc  Feature      Integer             None   \n",
            "28      health  Feature      Integer             None   \n",
            "29    absences  Feature      Integer             None   \n",
            "30          G1   Target  Categorical             None   \n",
            "31          G2   Target  Categorical             None   \n",
            "32          G3   Target      Integer             None   \n",
            "\n",
            "                                          description units missing_values  \n",
            "0   student's school (binary: 'GP' - Gabriel Perei...  None             no  \n",
            "1   student's sex (binary: 'F' - female or 'M' - m...  None             no  \n",
            "2              student's age (numeric: from 15 to 22)  None             no  \n",
            "3   student's home address type (binary: 'U' - urb...  None             no  \n",
            "4   family size (binary: 'LE3' - less or equal to ...  None             no  \n",
            "5   parent's cohabitation status (binary: 'T' - li...  None             no  \n",
            "6   mother's education (numeric: 0 - none,  1 - pr...  None             no  \n",
            "7   father's education (numeric: 0 - none,  1 - pr...  None             no  \n",
            "8   mother's job (nominal: 'teacher', 'health' car...  None             no  \n",
            "9   father's job (nominal: 'teacher', 'health' car...  None             no  \n",
            "10  reason to choose this school (nominal: close t...  None             no  \n",
            "11  student's guardian (nominal: 'mother', 'father...  None             no  \n",
            "12  home to school travel time (numeric: 1 - <15 m...  None             no  \n",
            "13  weekly study time (numeric: 1 - <2 hours, 2 - ...  None             no  \n",
            "14  number of past class failures (numeric: n if 1...  None             no  \n",
            "15      extra educational support (binary: yes or no)  None             no  \n",
            "16     family educational support (binary: yes or no)  None             no  \n",
            "17  extra paid classes within the course subject (...  None             no  \n",
            "18    extra-curricular activities (binary: yes or no)  None             no  \n",
            "19        attended nursery school (binary: yes or no)  None             no  \n",
            "20  wants to take higher education (binary: yes or...  None             no  \n",
            "21        Internet access at home (binary: yes or no)  None             no  \n",
            "22   with a romantic relationship (binary: yes or no)  None             no  \n",
            "23  quality of family relationships (numeric: from...  None             no  \n",
            "24  free time after school (numeric: from 1 - very...  None             no  \n",
            "25  going out with friends (numeric: from 1 - very...  None             no  \n",
            "26  workday alcohol consumption (numeric: from 1 -...  None             no  \n",
            "27  weekend alcohol consumption (numeric: from 1 -...  None             no  \n",
            "28  current health status (numeric: from 1 - very ...  None             no  \n",
            "29  number of school absences (numeric: from 0 to 93)  None             no  \n",
            "30         first period grade (numeric: from 0 to 20)  None             no  \n",
            "31        second period grade (numeric: from 0 to 20)  None             no  \n",
            "32  final grade (numeric: from 0 to 20, output tar...  None             no  \n"
          ]
        }
      ],
      "source": [
        "from ucimlrepo import fetch_ucirepo\n",
        "\n",
        "# fetch dataset\n",
        "student_performance = fetch_ucirepo(id=320)\n",
        "\n",
        "# metadata\n",
        "print(student_performance.metadata)\n",
        "\n",
        "# variable information\n",
        "print(student_performance.variables)"
      ]
    },
    {
      "cell_type": "code",
      "execution_count": 80,
      "metadata": {},
      "outputs": [],
      "source": [
        "device = torch.device(\"cuda\" if torch.cuda.is_available() else \"cpu\")"
      ]
    },
    {
      "cell_type": "markdown",
      "metadata": {
        "id": "XRSn_BofXLeN"
      },
      "source": [
        "## Preprocessing\n"
      ]
    },
    {
      "cell_type": "code",
      "execution_count": 81,
      "metadata": {
        "id": "WRdllFIbjWRo"
      },
      "outputs": [],
      "source": [
        "# separação dos dados em features e target\n",
        "X = student_performance.data.features.copy()\n",
        "\n",
        "y = student_performance.data.targets[\"G3\"].copy()"
      ]
    },
    {
      "cell_type": "code",
      "execution_count": 82,
      "metadata": {
        "id": "x0XrHCQjjZ_H"
      },
      "outputs": [],
      "source": [
        "# Label encoding para as features binárias\n",
        "binary_map_cols = [\"schoolsup\", \"famsup\", \"paid\", \"activities\", \"nursery\", \"higher\", \"internet\", \"romantic\", \"sex\"]\n",
        "\n",
        "for col in binary_map_cols:\n",
        "  if col == \"sex\":\n",
        "    X[\"sex\"] = X[col].map({\"F\": 0, \"M\": 1}).astype(\"int64\")\n",
        "  else:\n",
        "    X[col] = X[col].map({\"no\": 0, \"yes\": 1})"
      ]
    },
    {
      "cell_type": "code",
      "execution_count": 83,
      "metadata": {
        "colab": {
          "base_uri": "https://localhost:8080/"
        },
        "id": "aZhUi_RUsLpR",
        "outputId": "69e9ee5b-e413-4852-9821-4c156b989dd7"
      },
      "outputs": [
        {
          "name": "stdout",
          "output_type": "stream",
          "text": [
            "['school', 'address', 'famsize', 'Pstatus', 'Mjob', 'Fjob', 'reason', 'guardian']\n"
          ]
        }
      ],
      "source": [
        "# One-hot encoding para as features categóricas\n",
        "categorical_cols = X.select_dtypes(include=\"object\").columns.tolist()\n",
        "print(categorical_cols)"
      ]
    },
    {
      "cell_type": "code",
      "execution_count": 84,
      "metadata": {
        "id": "q3OzwsFB2RB0"
      },
      "outputs": [],
      "source": [
        "encoder = OneHotEncoder(sparse_output=False)\n",
        "\n",
        "one_hot_encoded = encoder.fit_transform(X[categorical_cols])\n",
        "one_hot_df = pd.DataFrame(one_hot_encoded, columns=encoder.get_feature_names_out(categorical_cols))\n",
        "\n",
        "X = X.drop(categorical_cols, axis=1)"
      ]
    },
    {
      "cell_type": "code",
      "execution_count": 85,
      "metadata": {
        "colab": {
          "base_uri": "https://localhost:8080/"
        },
        "id": "_8en4zTruRWN",
        "outputId": "85df2a0a-626b-478a-8981-633f62d4688d"
      },
      "outputs": [
        {
          "name": "stdout",
          "output_type": "stream",
          "text": [
            "['Fedu', 'health', 'Walc', 'failures', 'traveltime', 'goout', 'studytime', 'famrel', 'absences', 'age', 'Dalc', 'freetime', 'Medu']\n"
          ]
        }
      ],
      "source": [
        "numerical_cols = list(set(X.columns) - set(binary_map_cols) - set(categorical_cols))\n",
        "print(numerical_cols)"
      ]
    },
    {
      "cell_type": "code",
      "execution_count": 86,
      "metadata": {
        "id": "4Y9F9M8AvSEC"
      },
      "outputs": [],
      "source": [
        "# Standard Scaling para as features numéricas\n",
        "scaler = StandardScaler()\n",
        "scaled_num = scaler.fit_transform(X[numerical_cols])\n",
        "scaled_num_df = pd.DataFrame(scaled_num, columns=numerical_cols, index=X.index)"
      ]
    },
    {
      "cell_type": "code",
      "execution_count": 87,
      "metadata": {
        "id": "m0iQ1YbQwyVb"
      },
      "outputs": [],
      "source": [
        "X_processed = pd.concat([one_hot_df, scaled_num_df, X[binary_map_cols]], axis=1)"
      ]
    },
    {
      "cell_type": "code",
      "execution_count": 88,
      "metadata": {
        "colab": {
          "base_uri": "https://localhost:8080/"
        },
        "id": "5Q7lp8gAw9xJ",
        "outputId": "b1c53fe0-8220-48a2-d15b-c5606e4f9baa"
      },
      "outputs": [
        {
          "name": "stdout",
          "output_type": "stream",
          "text": [
            "<class 'pandas.core.frame.DataFrame'>\n",
            "RangeIndex: 649 entries, 0 to 648\n",
            "Data columns (total 47 columns):\n",
            " #   Column             Non-Null Count  Dtype  \n",
            "---  ------             --------------  -----  \n",
            " 0   school_GP          649 non-null    float64\n",
            " 1   school_MS          649 non-null    float64\n",
            " 2   address_R          649 non-null    float64\n",
            " 3   address_U          649 non-null    float64\n",
            " 4   famsize_GT3        649 non-null    float64\n",
            " 5   famsize_LE3        649 non-null    float64\n",
            " 6   Pstatus_A          649 non-null    float64\n",
            " 7   Pstatus_T          649 non-null    float64\n",
            " 8   Mjob_at_home       649 non-null    float64\n",
            " 9   Mjob_health        649 non-null    float64\n",
            " 10  Mjob_other         649 non-null    float64\n",
            " 11  Mjob_services      649 non-null    float64\n",
            " 12  Mjob_teacher       649 non-null    float64\n",
            " 13  Fjob_at_home       649 non-null    float64\n",
            " 14  Fjob_health        649 non-null    float64\n",
            " 15  Fjob_other         649 non-null    float64\n",
            " 16  Fjob_services      649 non-null    float64\n",
            " 17  Fjob_teacher       649 non-null    float64\n",
            " 18  reason_course      649 non-null    float64\n",
            " 19  reason_home        649 non-null    float64\n",
            " 20  reason_other       649 non-null    float64\n",
            " 21  reason_reputation  649 non-null    float64\n",
            " 22  guardian_father    649 non-null    float64\n",
            " 23  guardian_mother    649 non-null    float64\n",
            " 24  guardian_other     649 non-null    float64\n",
            " 25  Fedu               649 non-null    float64\n",
            " 26  health             649 non-null    float64\n",
            " 27  Walc               649 non-null    float64\n",
            " 28  failures           649 non-null    float64\n",
            " 29  traveltime         649 non-null    float64\n",
            " 30  goout              649 non-null    float64\n",
            " 31  studytime          649 non-null    float64\n",
            " 32  famrel             649 non-null    float64\n",
            " 33  absences           649 non-null    float64\n",
            " 34  age                649 non-null    float64\n",
            " 35  Dalc               649 non-null    float64\n",
            " 36  freetime           649 non-null    float64\n",
            " 37  Medu               649 non-null    float64\n",
            " 38  schoolsup          649 non-null    int64  \n",
            " 39  famsup             649 non-null    int64  \n",
            " 40  paid               649 non-null    int64  \n",
            " 41  activities         649 non-null    int64  \n",
            " 42  nursery            649 non-null    int64  \n",
            " 43  higher             649 non-null    int64  \n",
            " 44  internet           649 non-null    int64  \n",
            " 45  romantic           649 non-null    int64  \n",
            " 46  sex                649 non-null    int64  \n",
            "dtypes: float64(38), int64(9)\n",
            "memory usage: 238.4 KB\n"
          ]
        }
      ],
      "source": [
        "X_processed.info()"
      ]
    },
    {
      "cell_type": "code",
      "execution_count": 89,
      "metadata": {
        "id": "uH3O77umAJ36"
      },
      "outputs": [],
      "source": [
        "# separa treino e teste\n",
        "X_temp, X_test, y_temp, y_test = train_test_split(\n",
        "    X_processed, y, test_size=0.2, random_state=42\n",
        ")\n",
        "\n",
        "# separa treino e validação a partir do conjunto temporário\n",
        "X_train, X_val, y_train, y_val = train_test_split(\n",
        "    X_temp, y_temp, test_size=0.25, random_state=42  # 0.25 * 0.8 = 0.2 do total\n",
        ")"
      ]
    },
    {
      "cell_type": "code",
      "execution_count": 90,
      "metadata": {
        "id": "h33KYGOTBPAQ"
      },
      "outputs": [],
      "source": [
        "# Convertemos os DataFrames para tensores float32\n",
        "X_train_tensor = torch.tensor(X_train.values, dtype=torch.float32)\n",
        "y_train_tensor = torch.tensor(y_train.values, dtype=torch.float32).view(-1, 1)\n",
        "\n",
        "X_val_tensor = torch.tensor(X_val.values, dtype=torch.float32)\n",
        "y_val_tensor = torch.tensor(y_val.values, dtype=torch.float32).view(-1, 1)"
      ]
    },
    {
      "cell_type": "code",
      "execution_count": 91,
      "metadata": {
        "id": "5ODagc2pEkfy"
      },
      "outputs": [],
      "source": [
        "# Datasets e Dataloaders\n",
        "train_dataset = TensorDataset(X_train_tensor, y_train_tensor)\n",
        "val_dataset = TensorDataset(X_val_tensor, y_val_tensor)\n",
        "\n",
        "train_loader = DataLoader(train_dataset, batch_size=32, shuffle=True)\n",
        "val_loader = DataLoader(val_dataset, batch_size=32)"
      ]
    },
    {
      "cell_type": "code",
      "execution_count": 92,
      "metadata": {
        "id": "d8Z_c86CG0-W"
      },
      "outputs": [],
      "source": [
        "def evaluate(model, dataloader, criterion, device=\"cpu\"):\n",
        "    model.eval()\n",
        "    total_loss = 0.0\n",
        "\n",
        "    with torch.no_grad():\n",
        "        for X_batch, y_batch in dataloader:\n",
        "            X_batch = X_batch.to(device)\n",
        "            y_batch = y_batch.to(device)\n",
        "\n",
        "            outputs = model(X_batch)\n",
        "            loss = criterion(outputs, y_batch)\n",
        "            total_loss += loss.item() * X_batch.size(0)\n",
        "\n",
        "    return total_loss / len(dataloader.dataset)"
      ]
    },
    {
      "cell_type": "markdown",
      "metadata": {
        "id": "x3HrQEzhXXR3"
      },
      "source": [
        "## Train Loop"
      ]
    },
    {
      "cell_type": "code",
      "execution_count": 93,
      "metadata": {
        "id": "IDGxar4aE3Vv"
      },
      "outputs": [],
      "source": [
        "# treinamento\n",
        "# Early stopping setup\n",
        "def trainModel(model, train_loader, val_loader, criterion, optimizer, n_epochs=50, patience=5):\n",
        "    device = torch.device(\"cuda\" if torch.cuda.is_available() else \"cpu\")\n",
        "\n",
        "    train_losses = []\n",
        "    val_losses = []\n",
        "    best_loss = float(\"inf\")\n",
        "    patience_counter = 0\n",
        "    best_model_state = None\n",
        "\n",
        "    model.to(device)\n",
        "\n",
        "    for epoch in tqdm(range(n_epochs)):\n",
        "        model.train()\n",
        "        epoch_loss = 0.0\n",
        "\n",
        "        for X_batch, y_batch in train_loader:\n",
        "            X_batch = X_batch.to(device)\n",
        "            y_batch = y_batch.to(device)\n",
        "\n",
        "            optimizer.zero_grad()\n",
        "            outputs = model(X_batch)\n",
        "            loss = criterion(outputs, y_batch)\n",
        "            loss.backward()\n",
        "            optimizer.step()\n",
        "\n",
        "            epoch_loss += loss.item() * X_batch.size(0)\n",
        "\n",
        "        epoch_loss /= len(train_loader.dataset)\n",
        "        train_losses.append(epoch_loss)\n",
        "        tqdm.write(f\"Epoch {epoch+1} training loss: {epoch_loss:.4f}\")\n",
        "\n",
        "        # Avaliação\n",
        "        val_loss = evaluate(model, val_loader, criterion, device)\n",
        "        val_losses.append(val_loss)\n",
        "        tqdm.write(f\"Epoch {epoch+1} validation loss: {val_loss:.4f}\")\n",
        "\n",
        "        # Early stopping\n",
        "        if val_loss < best_loss:\n",
        "            best_loss = val_loss\n",
        "            patience_counter = 0\n",
        "            best_model_state = model.state_dict()\n",
        "        else:\n",
        "            patience_counter += 1\n",
        "            if patience_counter >= patience:\n",
        "                tqdm.write(\"Early stopping triggered.\")\n",
        "                break\n",
        "\n",
        "    # Carregar melhor modelo\n",
        "    if best_model_state is not None:\n",
        "        model.load_state_dict(best_model_state)\n",
        "        torch.save(model.state_dict(), \"melhor_modelo.pth\")\n",
        "\n",
        "    return train_losses, val_losses"
      ]
    },
    {
      "cell_type": "code",
      "execution_count": 94,
      "metadata": {
        "id": "P97pD4NcB07x"
      },
      "outputs": [],
      "source": [
        "class ModelBaseline(nn.Module):\n",
        "    def __init__(self):\n",
        "        super(ModelBaseline, self).__init__()\n",
        "\n",
        "        self.net = nn.Sequential(\n",
        "            nn.Linear(47, 120),\n",
        "            nn.Linear(120, 120),\n",
        "            nn.Linear(120, 1)\n",
        "        )\n",
        "\n",
        "    def forward(self, x):\n",
        "        return self.net(x)"
      ]
    },
    {
      "cell_type": "code",
      "execution_count": 95,
      "metadata": {
        "colab": {
          "base_uri": "https://localhost:8080/"
        },
        "id": "QuGDlVL0FCwB",
        "outputId": "ffd58c5b-d939-4296-9059-318203c1b814"
      },
      "outputs": [
        {
          "name": "stderr",
          "output_type": "stream",
          "text": [
            "  0%|          | 0/30 [00:00<?, ?it/s]"
          ]
        },
        {
          "name": "stdout",
          "output_type": "stream",
          "text": [
            "Epoch 1 training loss: 123.1960\n",
            "Epoch 1 validation loss: 81.3687\n"
          ]
        },
        {
          "name": "stderr",
          "output_type": "stream",
          "text": [
            "  7%|▋         | 2/30 [00:00<00:01, 17.20it/s]"
          ]
        },
        {
          "name": "stdout",
          "output_type": "stream",
          "text": [
            "Epoch 2 training loss: 42.2687\n",
            "Epoch 2 validation loss: 8.4033\n"
          ]
        },
        {
          "name": "stderr",
          "output_type": "stream",
          "text": [
            " 13%|█▎        | 4/30 [00:00<00:01, 16.69it/s]"
          ]
        },
        {
          "name": "stdout",
          "output_type": "stream",
          "text": [
            "Epoch 3 training loss: 14.3194\n",
            "Epoch 3 validation loss: 8.8940\n",
            "Epoch 4 training loss: 9.6977\n",
            "Epoch 4 validation loss: 8.6920\n"
          ]
        },
        {
          "name": "stderr",
          "output_type": "stream",
          "text": [
            " 13%|█▎        | 4/30 [00:00<00:01, 16.69it/s]"
          ]
        },
        {
          "name": "stdout",
          "output_type": "stream",
          "text": [
            "Epoch 5 training loss: 9.0791\n",
            "Epoch 5 validation loss: 7.6768\n"
          ]
        },
        {
          "name": "stderr",
          "output_type": "stream",
          "text": [
            " 13%|█▎        | 4/30 [00:00<00:01, 16.69it/s]"
          ]
        },
        {
          "name": "stdout",
          "output_type": "stream",
          "text": [
            "Epoch 6 training loss: 8.4638\n",
            "Epoch 6 validation loss: 7.5612\n"
          ]
        },
        {
          "name": "stderr",
          "output_type": "stream",
          "text": [
            " 23%|██▎       | 7/30 [00:00<00:01, 19.03it/s]"
          ]
        },
        {
          "name": "stdout",
          "output_type": "stream",
          "text": [
            "Epoch 7 training loss: 8.4139\n",
            "Epoch 7 validation loss: 7.2001\n",
            "Epoch 8 training loss: 7.8693\n",
            "Epoch 8 validation loss: 7.2013\n",
            "Epoch 9 training loss: 7.9598\n",
            "Epoch 9 validation loss: 6.8025\n"
          ]
        },
        {
          "name": "stderr",
          "output_type": "stream",
          "text": [
            " 33%|███▎      | 10/30 [00:00<00:00, 20.70it/s]"
          ]
        },
        {
          "name": "stdout",
          "output_type": "stream",
          "text": [
            "Epoch 10 training loss: 7.6340\n",
            "Epoch 10 validation loss: 6.7827\n"
          ]
        },
        {
          "name": "stderr",
          "output_type": "stream",
          "text": [
            " 33%|███▎      | 10/30 [00:00<00:00, 20.70it/s]"
          ]
        },
        {
          "name": "stdout",
          "output_type": "stream",
          "text": [
            "Epoch 11 training loss: 7.5628\n",
            "Epoch 11 validation loss: 6.7259\n"
          ]
        },
        {
          "name": "stderr",
          "output_type": "stream",
          "text": [
            " 43%|████▎     | 13/30 [00:00<00:00, 21.47it/s]"
          ]
        },
        {
          "name": "stdout",
          "output_type": "stream",
          "text": [
            "Epoch 12 training loss: 7.6059\n",
            "Epoch 12 validation loss: 6.8160\n",
            "Epoch 13 training loss: 7.4018\n",
            "Epoch 13 validation loss: 6.6890\n",
            "Epoch 14 training loss: 7.4336\n",
            "Epoch 14 validation loss: 6.6102\n"
          ]
        },
        {
          "name": "stderr",
          "output_type": "stream",
          "text": [
            " 43%|████▎     | 13/30 [00:00<00:00, 21.47it/s]"
          ]
        },
        {
          "name": "stdout",
          "output_type": "stream",
          "text": [
            "Epoch 15 training loss: 7.3296\n",
            "Epoch 15 validation loss: 6.5436\n"
          ]
        },
        {
          "name": "stderr",
          "output_type": "stream",
          "text": [
            " 53%|█████▎    | 16/30 [00:00<00:00, 22.43it/s]"
          ]
        },
        {
          "name": "stdout",
          "output_type": "stream",
          "text": [
            "Epoch 16 training loss: 7.3445\n",
            "Epoch 16 validation loss: 6.4759\n"
          ]
        },
        {
          "name": "stderr",
          "output_type": "stream",
          "text": [
            " 63%|██████▎   | 19/30 [00:00<00:00, 22.63it/s]"
          ]
        },
        {
          "name": "stdout",
          "output_type": "stream",
          "text": [
            "Epoch 17 training loss: 7.2019\n",
            "Epoch 17 validation loss: 6.3640\n",
            "Epoch 18 training loss: 7.1543\n",
            "Epoch 18 validation loss: 6.6519\n",
            "Epoch 19 training loss: 7.4339\n",
            "Epoch 19 validation loss: 6.8415\n"
          ]
        },
        {
          "name": "stderr",
          "output_type": "stream",
          "text": [
            " 63%|██████▎   | 19/30 [00:00<00:00, 22.63it/s]"
          ]
        },
        {
          "name": "stdout",
          "output_type": "stream",
          "text": [
            "Epoch 20 training loss: 7.2312\n",
            "Epoch 20 validation loss: 6.4570\n"
          ]
        },
        {
          "name": "stderr",
          "output_type": "stream",
          "text": [
            " 63%|██████▎   | 19/30 [00:00<00:00, 22.63it/s]"
          ]
        },
        {
          "name": "stdout",
          "output_type": "stream",
          "text": [
            "Epoch 21 training loss: 7.0790\n",
            "Epoch 21 validation loss: 6.3615\n"
          ]
        },
        {
          "name": "stderr",
          "output_type": "stream",
          "text": [
            " 73%|███████▎  | 22/30 [00:01<00:00, 23.10it/s]"
          ]
        },
        {
          "name": "stdout",
          "output_type": "stream",
          "text": [
            "Epoch 22 training loss: 7.0025\n",
            "Epoch 22 validation loss: 6.2146\n",
            "Epoch 23 training loss: 7.1465\n",
            "Epoch 23 validation loss: 6.3256\n",
            "Epoch 24 training loss: 7.0264\n",
            "Epoch 24 validation loss: 6.2822\n"
          ]
        },
        {
          "name": "stderr",
          "output_type": "stream",
          "text": [
            " 83%|████████▎ | 25/30 [00:01<00:00, 23.52it/s]"
          ]
        },
        {
          "name": "stdout",
          "output_type": "stream",
          "text": [
            "Epoch 25 training loss: 7.1057\n",
            "Epoch 25 validation loss: 6.2144\n"
          ]
        },
        {
          "name": "stderr",
          "output_type": "stream",
          "text": [
            " 83%|████████▎ | 25/30 [00:01<00:00, 23.52it/s]"
          ]
        },
        {
          "name": "stdout",
          "output_type": "stream",
          "text": [
            "Epoch 26 training loss: 7.0218\n",
            "Epoch 26 validation loss: 6.3205\n"
          ]
        },
        {
          "name": "stderr",
          "output_type": "stream",
          "text": [
            " 93%|█████████▎| 28/30 [00:01<00:00, 22.83it/s]"
          ]
        },
        {
          "name": "stdout",
          "output_type": "stream",
          "text": [
            "Epoch 27 training loss: 6.9834\n",
            "Epoch 27 validation loss: 6.2601\n",
            "Epoch 28 training loss: 6.9647\n",
            "Epoch 28 validation loss: 6.5655\n",
            "Epoch 29 training loss: 7.1346\n",
            "Epoch 29 validation loss: 6.3469\n"
          ]
        },
        {
          "name": "stderr",
          "output_type": "stream",
          "text": [
            " 97%|█████████▋| 29/30 [00:01<00:00, 21.32it/s]"
          ]
        },
        {
          "name": "stdout",
          "output_type": "stream",
          "text": [
            "Epoch 30 training loss: 7.0326\n",
            "Epoch 30 validation loss: 6.3867\n",
            "Early stopping triggered.\n"
          ]
        },
        {
          "name": "stderr",
          "output_type": "stream",
          "text": [
            "\n"
          ]
        }
      ],
      "source": [
        "# Hiperparâmetros\n",
        "n_epochs = 30\n",
        "lr=1e-3\n",
        "patience = 5\n",
        "\n",
        "model = ModelBaseline()\n",
        "\n",
        "criterion = nn.MSELoss()  # regressão → MSE\n",
        "optimizer = optim.Adam(model.parameters(), lr=lr)\n",
        "\n",
        "train_losses, val_losses = trainModel(model,\n",
        "           train_loader,\n",
        "           val_loader,\n",
        "           criterion,\n",
        "           optimizer,\n",
        "           n_epochs,\n",
        "           patience)"
      ]
    },
    {
      "cell_type": "code",
      "execution_count": 96,
      "metadata": {
        "colab": {
          "base_uri": "https://localhost:8080/",
          "height": 564
        },
        "id": "y_InxeYiD6-4",
        "outputId": "051767e4-90a2-4f67-cdd8-43650e562ee8"
      },
      "outputs": [
        {
          "data": {
            "image/png": "[encoded data removed]",
            "text/plain": [
              "<Figure size 1000x600 with 1 Axes>"
            ]
          },
          "metadata": {},
          "output_type": "display_data"
        }
      ],
      "source": [
        "plt.figure(figsize=(10,6))\n",
        "plt.plot(train_losses, label='Train Loss')\n",
        "plt.plot(val_losses, label='Validation Loss')\n",
        "plt.xlabel('Epoch')\n",
        "plt.ylabel('Loss')\n",
        "plt.title('Train vs Validation Loss')\n",
        "plt.legend()\n",
        "plt.grid(True)\n",
        "plt.show()"
      ]
    },
    {
      "cell_type": "code",
      "execution_count": 97,
      "metadata": {
        "colab": {
          "base_uri": "https://localhost:8080/"
        },
        "id": "HcQ7ie3RF8TE",
        "outputId": "a305f767-33c0-4ba2-9b47-b83d542d5065"
      },
      "outputs": [
        {
          "name": "stdout",
          "output_type": "stream",
          "text": [
            "MAE:  2.2323\n",
            "RMSE: 2.9334\n",
            "R²:   0.1176\n"
          ]
        }
      ],
      "source": [
        "X_test_tensor = torch.tensor(X_test.values, dtype=torch.float32).to(device)\n",
        "y_test_tensor = torch.tensor(y_test.values, dtype=torch.float32).view(-1, 1).to(device)\n",
        "\n",
        "# Previsões\n",
        "model.eval()\n",
        "with torch.no_grad():\n",
        "    y_pred = model(X_test_tensor).cpu().numpy()\n",
        "\n",
        "# Transformando y_test para array (caso ainda seja Series)\n",
        "y_true = y_test_tensor.cpu().numpy()\n",
        "\n",
        "# Cálculo das métricas\n",
        "mse = mean_squared_error(y_true, y_pred)\n",
        "rmse = np.sqrt(mse)\n",
        "mae = mean_absolute_error(y_true, y_pred)\n",
        "r2 = r2_score(y_true, y_pred)\n",
        "\n",
        "print(f\"MAE:  {mae:.4f}\")\n",
        "print(f\"RMSE: {rmse:.4f}\")\n",
        "print(f\"R²:   {r2:.4f}\")"
      ]
    },
    {
      "cell_type": "markdown",
      "metadata": {},
      "source": [
        "## Test of baseline"
      ]
    },
    {
      "cell_type": "code",
      "execution_count": 98,
      "metadata": {
        "colab": {
          "base_uri": "https://localhost:8080/",
          "height": 190
        },
        "id": "7FIC3hUGLeDV",
        "outputId": "86d5136d-a5b9-4972-d43d-565baf10d0dd"
      },
      "outputs": [
        {
          "data": {
            "text/plain": [
              "tensor([12.], device='cuda:0')"
            ]
          },
          "execution_count": 98,
          "metadata": {},
          "output_type": "execute_result"
        }
      ],
      "source": [
        "index = 75\n",
        "student = X_test_tensor[index]\n",
        "y_true = y_test_tensor[index]\n",
        "y_true"
      ]
    },
    {
      "cell_type": "code",
      "execution_count": 99,
      "metadata": {
        "colab": {
          "base_uri": "https://localhost:8080/"
        },
        "id": "1x_vHVimLZ3o",
        "outputId": "b6354012-fbaa-4bde-8f6e-2401e5b07fc6"
      },
      "outputs": [
        {
          "data": {
            "text/plain": [
              "array([11.71803], dtype=float32)"
            ]
          },
          "execution_count": 99,
          "metadata": {},
          "output_type": "execute_result"
        }
      ],
      "source": [
        "with torch.no_grad():\n",
        "    y_pred = model(student).cpu().numpy()\n",
        "y_pred"
      ]
    },
    {
      "cell_type": "markdown",
      "metadata": {},
      "source": [
        "## Experiment 1: Changing the architecture - layers"
      ]
    },
    {
      "cell_type": "code",
      "execution_count": 100,
      "metadata": {},
      "outputs": [],
      "source": [
        "class Model1(nn.Module):\n",
        "    def __init__(self):\n",
        "        super(Model1, self).__init__()\n",
        "\n",
        "        self.net = nn.Sequential(\n",
        "            nn.Linear(47, 120),\n",
        "            nn.Linear(120, 120),\n",
        "            nn.Linear(120, 120),\n",
        "            nn.Linear(120, 1)\n",
        "        )\n",
        "\n",
        "    def forward(self, x):\n",
        "        return self.net(x)"
      ]
    },
    {
      "cell_type": "code",
      "execution_count": 101,
      "metadata": {},
      "outputs": [
        {
          "name": "stderr",
          "output_type": "stream",
          "text": [
            "  0%|          | 0/30 [00:00<?, ?it/s]"
          ]
        },
        {
          "name": "stdout",
          "output_type": "stream",
          "text": [
            "Epoch 1 training loss: 115.2547\n",
            "Epoch 1 validation loss: 42.2473\n"
          ]
        },
        {
          "name": "stderr",
          "output_type": "stream",
          "text": [
            " 10%|█         | 3/30 [00:00<00:01, 21.01it/s]"
          ]
        },
        {
          "name": "stdout",
          "output_type": "stream",
          "text": [
            "Epoch 2 training loss: 24.2632\n",
            "Epoch 2 validation loss: 7.7425\n",
            "Epoch 3 training loss: 12.5598\n",
            "Epoch 3 validation loss: 7.6699\n"
          ]
        },
        {
          "name": "stderr",
          "output_type": "stream",
          "text": [
            " 10%|█         | 3/30 [00:00<00:01, 21.01it/s]"
          ]
        },
        {
          "name": "stdout",
          "output_type": "stream",
          "text": [
            "Epoch 4 training loss: 9.0843\n",
            "Epoch 4 validation loss: 7.1109\n",
            "Epoch 5 training loss: 8.3255\n",
            "Epoch 5 validation loss: 6.9056\n"
          ]
        },
        {
          "name": "stderr",
          "output_type": "stream",
          "text": [
            " 20%|██        | 6/30 [00:00<00:01, 21.43it/s]"
          ]
        },
        {
          "name": "stdout",
          "output_type": "stream",
          "text": [
            "Epoch 6 training loss: 7.9365\n",
            "Epoch 6 validation loss: 7.0840\n"
          ]
        },
        {
          "name": "stderr",
          "output_type": "stream",
          "text": [
            " 20%|██        | 6/30 [00:00<00:01, 21.43it/s]"
          ]
        },
        {
          "name": "stdout",
          "output_type": "stream",
          "text": [
            "Epoch 7 training loss: 8.0907\n",
            "Epoch 7 validation loss: 7.3931\n",
            "Epoch 8 training loss: 7.9089\n",
            "Epoch 8 validation loss: 6.5939\n"
          ]
        },
        {
          "name": "stderr",
          "output_type": "stream",
          "text": [
            " 30%|███       | 9/30 [00:00<00:01, 20.77it/s]"
          ]
        },
        {
          "name": "stdout",
          "output_type": "stream",
          "text": [
            "Epoch 9 training loss: 7.5619\n",
            "Epoch 9 validation loss: 6.8477\n",
            "Epoch 10 training loss: 7.6797\n"
          ]
        },
        {
          "name": "stderr",
          "output_type": "stream",
          "text": [
            "                                              \r"
          ]
        },
        {
          "name": "stdout",
          "output_type": "stream",
          "text": [
            "Epoch 10 validation loss: 7.0435\n",
            "Epoch 11 training loss: 7.5564\n"
          ]
        },
        {
          "name": "stderr",
          "output_type": "stream",
          "text": [
            " 40%|████      | 12/30 [00:00<00:00, 20.72it/s]"
          ]
        },
        {
          "name": "stdout",
          "output_type": "stream",
          "text": [
            "Epoch 11 validation loss: 6.3845\n",
            "Epoch 12 training loss: 7.3770\n",
            "Epoch 12 validation loss: 6.4855\n",
            "Epoch 13 training loss: 7.2577\n",
            "Epoch 13 validation loss: 6.4396\n"
          ]
        },
        {
          "name": "stderr",
          "output_type": "stream",
          "text": [
            " 40%|████      | 12/30 [00:00<00:00, 20.72it/s]"
          ]
        },
        {
          "name": "stdout",
          "output_type": "stream",
          "text": [
            "Epoch 14 training loss: 7.3629\n",
            "Epoch 14 validation loss: 6.9030\n",
            "Epoch 15 training loss: 7.3644\n",
            "Epoch 15 validation loss: 6.2449\n"
          ]
        },
        {
          "name": "stderr",
          "output_type": "stream",
          "text": [
            " 53%|█████▎    | 16/30 [00:00<00:00, 24.32it/s]"
          ]
        },
        {
          "name": "stdout",
          "output_type": "stream",
          "text": [
            "Epoch 16 training loss: 7.2124\n",
            "Epoch 16 validation loss: 6.4360\n",
            "Epoch 17 training loss: 7.0808\n"
          ]
        },
        {
          "name": "stderr",
          "output_type": "stream",
          "text": [
            " 67%|██████▋   | 20/30 [00:00<00:00, 26.58it/s]"
          ]
        },
        {
          "name": "stdout",
          "output_type": "stream",
          "text": [
            "Epoch 17 validation loss: 6.4892\n",
            "Epoch 18 training loss: 7.0538\n",
            "Epoch 18 validation loss: 6.5474\n",
            "Epoch 19 training loss: 7.2739\n",
            "Epoch 19 validation loss: 6.2389\n",
            "Epoch 20 training loss: 7.0313\n",
            "Epoch 20 validation loss: 6.1618\n"
          ]
        },
        {
          "name": "stderr",
          "output_type": "stream",
          "text": [
            " 67%|██████▋   | 20/30 [00:00<00:00, 26.58it/s]"
          ]
        },
        {
          "name": "stdout",
          "output_type": "stream",
          "text": [
            "Epoch 21 training loss: 6.9923\n",
            "Epoch 21 validation loss: 6.3247\n",
            "Epoch 22 training loss: 7.0533\n",
            "Epoch 22 validation loss: 6.4522\n"
          ]
        },
        {
          "name": "stderr",
          "output_type": "stream",
          "text": [
            " 67%|██████▋   | 20/30 [00:00<00:00, 26.58it/s]"
          ]
        },
        {
          "name": "stdout",
          "output_type": "stream",
          "text": [
            "Epoch 23 training loss: 7.1896\n",
            "Epoch 23 validation loss: 6.1715\n"
          ]
        },
        {
          "name": "stderr",
          "output_type": "stream",
          "text": [
            " 80%|████████  | 24/30 [00:00<00:00, 24.04it/s]\n"
          ]
        },
        {
          "name": "stdout",
          "output_type": "stream",
          "text": [
            "Epoch 24 training loss: 7.2230\n",
            "Epoch 24 validation loss: 6.3794\n",
            "Epoch 25 training loss: 6.9940\n",
            "Epoch 25 validation loss: 6.2946\n",
            "Early stopping triggered.\n"
          ]
        }
      ],
      "source": [
        "# Hiperparâmetros\n",
        "n_epochs = 30\n",
        "lr=1e-3\n",
        "patience = 5\n",
        "\n",
        "model = Model1()\n",
        "\n",
        "criterion = nn.MSELoss()  # regressão → MSE\n",
        "optimizer = optim.Adam(model.parameters(), lr=lr)\n",
        "\n",
        "train_losses, val_losses = trainModel(model,\n",
        "           train_loader,\n",
        "           val_loader,\n",
        "           criterion,\n",
        "           optimizer,\n",
        "           n_epochs,\n",
        "           patience)"
      ]
    },
    {
      "cell_type": "code",
      "execution_count": 102,
      "metadata": {},
      "outputs": [
        {
          "data": {
            "image/png": "[encoded data removed]",
            "text/plain": [
              "<Figure size 1000x600 with 1 Axes>"
            ]
          },
          "metadata": {},
          "output_type": "display_data"
        }
      ],
      "source": [
        "plt.figure(figsize=(10,6))\n",
        "plt.plot(train_losses, label='Train Loss')\n",
        "plt.plot(val_losses, label='Validation Loss')\n",
        "plt.xlabel('Epoch')\n",
        "plt.ylabel('Loss')\n",
        "plt.title('Train vs Validation Loss')\n",
        "plt.legend()\n",
        "plt.grid(True)\n",
        "plt.show()"
      ]
    },
    {
      "cell_type": "code",
      "execution_count": 103,
      "metadata": {},
      "outputs": [
        {
          "name": "stdout",
          "output_type": "stream",
          "text": [
            "MAE:  2.1880\n",
            "RMSE: 2.9014\n",
            "R²:   0.1368\n"
          ]
        }
      ],
      "source": [
        "X_test_tensor = torch.tensor(X_test.values, dtype=torch.float32).to(device)\n",
        "y_test_tensor = torch.tensor(y_test.values, dtype=torch.float32).view(-1, 1).to(device)\n",
        "\n",
        "# Previsões\n",
        "model.eval()\n",
        "with torch.no_grad():\n",
        "    y_pred = model(X_test_tensor).cpu().numpy()\n",
        "\n",
        "# Transformando y_test para array (caso ainda seja Series)\n",
        "y_true = y_test_tensor.cpu().numpy()\n",
        "\n",
        "# Cálculo das métricas\n",
        "mse = mean_squared_error(y_true, y_pred)\n",
        "rmse = np.sqrt(mse)\n",
        "mae = mean_absolute_error(y_true, y_pred)\n",
        "r2 = r2_score(y_true, y_pred)\n",
        "\n",
        "print(f\"MAE:  {mae:.4f}\")\n",
        "print(f\"RMSE: {rmse:.4f}\")\n",
        "print(f\"R²:   {r2:.4f}\")"
      ]
    },
    {
      "cell_type": "code",
      "execution_count": 104,
      "metadata": {},
      "outputs": [
        {
          "data": {
            "text/plain": [
              "tensor([12.], device='cuda:0')"
            ]
          },
          "execution_count": 104,
          "metadata": {},
          "output_type": "execute_result"
        }
      ],
      "source": [
        "index = 75\n",
        "student = X_test_tensor[index]\n",
        "y_true = y_test_tensor[index]\n",
        "y_true"
      ]
    },
    {
      "cell_type": "code",
      "execution_count": 105,
      "metadata": {},
      "outputs": [
        {
          "data": {
            "text/plain": [
              "array([11.17095], dtype=float32)"
            ]
          },
          "execution_count": 105,
          "metadata": {},
          "output_type": "execute_result"
        }
      ],
      "source": [
        "with torch.no_grad():\n",
        "    y_pred = model(student).cpu().numpy()\n",
        "y_pred"
      ]
    },
    {
      "cell_type": "markdown",
      "metadata": {},
      "source": [
        "## Experiment 2: Changing the architecture - neurons"
      ]
    },
    {
      "cell_type": "code",
      "execution_count": 106,
      "metadata": {},
      "outputs": [],
      "source": [
        "class Model2(nn.Module):\n",
        "    def __init__(self):\n",
        "        super(Model2, self).__init__()\n",
        "\n",
        "        self.net = nn.Sequential(\n",
        "            nn.Linear(47, 256),\n",
        "            nn.Linear(256, 256),\n",
        "            nn.Linear(256, 1)\n",
        "        )\n",
        "\n",
        "    def forward(self, x):\n",
        "        return self.net(x)"
      ]
    },
    {
      "cell_type": "code",
      "execution_count": 107,
      "metadata": {},
      "outputs": [
        {
          "name": "stderr",
          "output_type": "stream",
          "text": [
            " 10%|█         | 3/30 [00:00<00:00, 28.39it/s]"
          ]
        },
        {
          "name": "stdout",
          "output_type": "stream",
          "text": [
            "Epoch 1 training loss: 88.2107\n",
            "Epoch 1 validation loss: 11.7760\n",
            "Epoch 2 training loss: 16.5550\n",
            "Epoch 2 validation loss: 7.1847\n",
            "Epoch 3 training loss: 10.7799\n",
            "Epoch 3 validation loss: 7.9912\n",
            "Epoch 4 training loss: 8.9173\n",
            "Epoch 4 validation loss: 7.2444\n"
          ]
        },
        {
          "name": "stderr",
          "output_type": "stream",
          "text": [
            " 20%|██        | 6/30 [00:00<00:00, 28.23it/s]"
          ]
        },
        {
          "name": "stdout",
          "output_type": "stream",
          "text": [
            "Epoch 5 training loss: 8.1330\n",
            "Epoch 5 validation loss: 7.1714\n",
            "Epoch 6 training loss: 7.8333\n",
            "Epoch 6 validation loss: 7.1589\n"
          ]
        },
        {
          "name": "stderr",
          "output_type": "stream",
          "text": [
            " 30%|███       | 9/30 [00:00<00:00, 28.10it/s]"
          ]
        },
        {
          "name": "stdout",
          "output_type": "stream",
          "text": [
            "Epoch 7 training loss: 7.5828\n",
            "Epoch 7 validation loss: 6.8259\n",
            "Epoch 8 training loss: 7.3870\n",
            "Epoch 8 validation loss: 6.7991\n",
            "Epoch 9 training loss: 7.3067\n",
            "Epoch 9 validation loss: 6.6295\n",
            "Epoch 10 training loss: 7.5362\n",
            "Epoch 10 validation loss: 6.9783\n"
          ]
        },
        {
          "name": "stderr",
          "output_type": "stream",
          "text": [
            " 40%|████      | 12/30 [00:00<00:00, 28.09it/s]"
          ]
        },
        {
          "name": "stdout",
          "output_type": "stream",
          "text": [
            "Epoch 11 training loss: 7.5326\n",
            "Epoch 11 validation loss: 6.8148\n",
            "Epoch 12 training loss: 7.2646\n",
            "Epoch 12 validation loss: 6.7501\n"
          ]
        },
        {
          "name": "stderr",
          "output_type": "stream",
          "text": [
            " 50%|█████     | 15/30 [00:00<00:00, 28.10it/s]"
          ]
        },
        {
          "name": "stdout",
          "output_type": "stream",
          "text": [
            "Epoch 13 training loss: 7.1760\n",
            "Epoch 13 validation loss: 6.5645\n",
            "Epoch 14 training loss: 7.0947\n",
            "Epoch 14 validation loss: 6.6362\n",
            "Epoch 15 training loss: 7.0324\n",
            "Epoch 15 validation loss: 6.5816\n",
            "Epoch 16 training loss: 7.2698\n",
            "Epoch 16 validation loss: 6.4105\n"
          ]
        },
        {
          "name": "stderr",
          "output_type": "stream",
          "text": [
            " 60%|██████    | 18/30 [00:00<00:00, 28.54it/s]"
          ]
        },
        {
          "name": "stdout",
          "output_type": "stream",
          "text": [
            "Epoch 17 training loss: 7.3771\n",
            "Epoch 17 validation loss: 6.5886\n",
            "Epoch 18 training loss: 7.2524\n",
            "Epoch 18 validation loss: 6.5926\n"
          ]
        },
        {
          "name": "stderr",
          "output_type": "stream",
          "text": [
            " 70%|███████   | 21/30 [00:00<00:00, 27.84it/s]"
          ]
        },
        {
          "name": "stdout",
          "output_type": "stream",
          "text": [
            "Epoch 19 training loss: 7.1522\n",
            "Epoch 19 validation loss: 6.4962\n",
            "Epoch 20 training loss: 7.1112\n",
            "Epoch 20 validation loss: 6.3831\n",
            "Epoch 21 training loss: 7.0585\n",
            "Epoch 21 validation loss: 6.1711\n",
            "Epoch 22 training loss: 6.9945\n",
            "Epoch 22 validation loss: 6.2116\n"
          ]
        },
        {
          "name": "stderr",
          "output_type": "stream",
          "text": [
            " 80%|████████  | 24/30 [00:00<00:00, 27.52it/s]"
          ]
        },
        {
          "name": "stdout",
          "output_type": "stream",
          "text": [
            "Epoch 23 training loss: 7.0703\n",
            "Epoch 23 validation loss: 6.0538\n",
            "Epoch 24 training loss: 7.0062\n",
            "Epoch 24 validation loss: 6.1364\n"
          ]
        },
        {
          "name": "stderr",
          "output_type": "stream",
          "text": [
            " 90%|█████████ | 27/30 [00:01<00:00, 26.73it/s]"
          ]
        },
        {
          "name": "stdout",
          "output_type": "stream",
          "text": [
            "Epoch 25 training loss: 7.0016\n",
            "Epoch 25 validation loss: 6.1190\n",
            "Epoch 26 training loss: 7.3509\n",
            "Epoch 26 validation loss: 6.2757\n",
            "Epoch 27 training loss: 7.0700\n",
            "Epoch 27 validation loss: 6.2449\n",
            "Epoch 28 training loss: 7.0598\n",
            "Epoch 28 validation loss: 6.0750\n",
            "Early stopping triggered.\n"
          ]
        },
        {
          "name": "stderr",
          "output_type": "stream",
          "text": [
            "\n"
          ]
        }
      ],
      "source": [
        "# Hiperparâmetros\n",
        "n_epochs = 30\n",
        "lr=1e-3\n",
        "patience = 5\n",
        "\n",
        "model = Model2()\n",
        "\n",
        "criterion = nn.MSELoss()  # regressão → MSE\n",
        "optimizer = optim.Adam(model.parameters(), lr=lr)\n",
        "\n",
        "train_losses, val_losses = trainModel(model,\n",
        "           train_loader,\n",
        "           val_loader,\n",
        "           criterion,\n",
        "           optimizer,\n",
        "           n_epochs,\n",
        "           patience)"
      ]
    },
    {
      "cell_type": "code",
      "execution_count": 108,
      "metadata": {},
      "outputs": [
        {
          "data": {
            "image/png": "[encoded data removed]",
            "text/plain": [
              "<Figure size 1000x600 with 1 Axes>"
            ]
          },
          "metadata": {},
          "output_type": "display_data"
        }
      ],
      "source": [
        "plt.figure(figsize=(10,6))\n",
        "plt.plot(train_losses, label='Train Loss')\n",
        "plt.plot(val_losses, label='Validation Loss')\n",
        "plt.xlabel('Epoch')\n",
        "plt.ylabel('Loss')\n",
        "plt.title('Train vs Validation Loss')\n",
        "plt.legend()\n",
        "plt.grid(True)\n",
        "plt.show()"
      ]
    },
    {
      "cell_type": "code",
      "execution_count": 109,
      "metadata": {},
      "outputs": [
        {
          "name": "stdout",
          "output_type": "stream",
          "text": [
            "MAE:  2.1941\n",
            "RMSE: 2.8965\n",
            "R²:   0.1397\n"
          ]
        }
      ],
      "source": [
        "X_test_tensor = torch.tensor(X_test.values, dtype=torch.float32).to(device)\n",
        "y_test_tensor = torch.tensor(y_test.values, dtype=torch.float32).view(-1, 1).to(device)\n",
        "\n",
        "# Previsões\n",
        "model.eval()\n",
        "with torch.no_grad():\n",
        "    y_pred = model(X_test_tensor).cpu().numpy()\n",
        "\n",
        "# Transformando y_test para array (caso ainda seja Series)\n",
        "y_true = y_test_tensor.cpu().numpy()\n",
        "\n",
        "# Cálculo das métricas\n",
        "mse = mean_squared_error(y_true, y_pred)\n",
        "rmse = np.sqrt(mse)\n",
        "mae = mean_absolute_error(y_true, y_pred)\n",
        "r2 = r2_score(y_true, y_pred)\n",
        "\n",
        "print(f\"MAE:  {mae:.4f}\")\n",
        "print(f\"RMSE: {rmse:.4f}\")\n",
        "print(f\"R²:   {r2:.4f}\")"
      ]
    },
    {
      "cell_type": "code",
      "execution_count": 110,
      "metadata": {},
      "outputs": [
        {
          "data": {
            "text/plain": [
              "tensor([12.], device='cuda:0')"
            ]
          },
          "execution_count": 110,
          "metadata": {},
          "output_type": "execute_result"
        }
      ],
      "source": [
        "index = 75\n",
        "student = X_test_tensor[index]\n",
        "y_true = y_test_tensor[index]\n",
        "y_true"
      ]
    },
    {
      "cell_type": "code",
      "execution_count": 111,
      "metadata": {},
      "outputs": [
        {
          "data": {
            "text/plain": [
              "array([10.950475], dtype=float32)"
            ]
          },
          "execution_count": 111,
          "metadata": {},
          "output_type": "execute_result"
        }
      ],
      "source": [
        "with torch.no_grad():\n",
        "    y_pred = model(student).cpu().numpy()\n",
        "y_pred"
      ]
    },
    {
      "cell_type": "markdown",
      "metadata": {},
      "source": [
        "## Experiment 3: Changing the optmizer - SGD with momentum"
      ]
    },
    {
      "cell_type": "code",
      "execution_count": 112,
      "metadata": {},
      "outputs": [],
      "source": [
        "class Model3(nn.Module):\n",
        "    def __init__(self):\n",
        "        super(Model3, self).__init__()\n",
        "\n",
        "        self.net = nn.Sequential(\n",
        "            nn.Linear(47, 120),\n",
        "            nn.Linear(120, 120),\n",
        "            nn.Linear(120, 1)\n",
        "        )\n",
        "\n",
        "    def forward(self, x):\n",
        "        return self.net(x)"
      ]
    },
    {
      "cell_type": "code",
      "execution_count": 113,
      "metadata": {},
      "outputs": [
        {
          "name": "stderr",
          "output_type": "stream",
          "text": [
            " 13%|█▎        | 4/30 [00:00<00:00, 34.21it/s]"
          ]
        },
        {
          "name": "stdout",
          "output_type": "stream",
          "text": [
            "Epoch 1 training loss: 80.6386\n",
            "Epoch 1 validation loss: 12.9677\n",
            "Epoch 2 training loss: 29.2520\n",
            "Epoch 2 validation loss: 11.1417\n",
            "Epoch 3 training loss: 15.3996\n",
            "Epoch 3 validation loss: 8.9850\n",
            "Epoch 4 training loss: 9.2408\n",
            "Epoch 4 validation loss: 9.3724\n",
            "Epoch 5 training loss: 8.8263\n",
            "Epoch 5 validation loss: 7.7634\n"
          ]
        },
        {
          "name": "stderr",
          "output_type": "stream",
          "text": [
            " 13%|█▎        | 4/30 [00:00<00:00, 34.21it/s]"
          ]
        },
        {
          "name": "stdout",
          "output_type": "stream",
          "text": [
            "Epoch 6 training loss: 7.5409\n",
            "Epoch 6 validation loss: 6.6261\n",
            "Epoch 7 training loss: 7.3236\n",
            "Epoch 7 validation loss: 6.3508\n"
          ]
        },
        {
          "name": "stderr",
          "output_type": "stream",
          "text": [
            " 27%|██▋       | 8/30 [00:00<00:00, 31.13it/s]"
          ]
        },
        {
          "name": "stdout",
          "output_type": "stream",
          "text": [
            "Epoch 8 training loss: 7.6295\n",
            "Epoch 8 validation loss: 6.8995\n",
            "Epoch 9 training loss: 7.5857\n",
            "Epoch 9 validation loss: 6.2042\n",
            "Epoch 10 training loss: 7.2441\n",
            "Epoch 10 validation loss: 6.5694\n",
            "Epoch 11 training loss: 7.2190\n",
            "Epoch 11 validation loss: 6.2145\n"
          ]
        },
        {
          "name": "stderr",
          "output_type": "stream",
          "text": [
            " 40%|████      | 12/30 [00:00<00:00, 29.87it/s]"
          ]
        },
        {
          "name": "stdout",
          "output_type": "stream",
          "text": [
            "Epoch 12 training loss: 7.2872\n",
            "Epoch 12 validation loss: 6.3014\n",
            "Epoch 13 training loss: 7.5097\n",
            "Epoch 13 validation loss: 6.6351\n"
          ]
        },
        {
          "name": "stderr",
          "output_type": "stream",
          "text": [
            " 53%|█████▎    | 16/30 [00:00<00:00, 29.60it/s]"
          ]
        },
        {
          "name": "stdout",
          "output_type": "stream",
          "text": [
            "Epoch 14 training loss: 7.6611\n",
            "Epoch 14 validation loss: 5.9223\n",
            "Epoch 15 training loss: 7.7052\n",
            "Epoch 15 validation loss: 7.5803\n",
            "Epoch 16 training loss: 7.6744\n",
            "Epoch 16 validation loss: 6.8773\n",
            "Epoch 17 training loss: 7.8677\n",
            "Epoch 17 validation loss: 6.6940\n"
          ]
        },
        {
          "name": "stderr",
          "output_type": "stream",
          "text": [
            " 60%|██████    | 18/30 [00:00<00:00, 28.34it/s]"
          ]
        },
        {
          "name": "stdout",
          "output_type": "stream",
          "text": [
            "Epoch 18 training loss: 7.2804\n",
            "Epoch 18 validation loss: 7.4207\n",
            "Epoch 19 training loss: 7.3513\n",
            "Epoch 19 validation loss: 5.9948\n",
            "Early stopping triggered.\n"
          ]
        },
        {
          "name": "stderr",
          "output_type": "stream",
          "text": [
            "\n"
          ]
        }
      ],
      "source": [
        "# Hiperparâmetros\n",
        "n_epochs = 30\n",
        "lr=1e-3\n",
        "patience = 5\n",
        "\n",
        "model = Model3()\n",
        "\n",
        "criterion = nn.MSELoss()  # regressão → MSE\n",
        "optimizer = optim.SGD(model.parameters(), lr=lr, momentum=0.9, weight_decay=1e-4)\n",
        "\n",
        "train_losses, val_losses = trainModel(model,\n",
        "           train_loader,\n",
        "           val_loader,\n",
        "           criterion,\n",
        "           optimizer,\n",
        "           n_epochs,\n",
        "           patience)"
      ]
    },
    {
      "cell_type": "code",
      "execution_count": 114,
      "metadata": {},
      "outputs": [
        {
          "data": {
            "image/png": "[encoded data removed]",
            "text/plain": [
              "<Figure size 1000x600 with 1 Axes>"
            ]
          },
          "metadata": {},
          "output_type": "display_data"
        }
      ],
      "source": [
        "plt.figure(figsize=(10,6))\n",
        "plt.plot(train_losses, label='Train Loss')\n",
        "plt.plot(val_losses, label='Validation Loss')\n",
        "plt.xlabel('Epoch')\n",
        "plt.ylabel('Loss')\n",
        "plt.title('Train vs Validation Loss')\n",
        "plt.legend()\n",
        "plt.grid(True)\n",
        "plt.show()"
      ]
    },
    {
      "cell_type": "code",
      "execution_count": 115,
      "metadata": {},
      "outputs": [
        {
          "name": "stdout",
          "output_type": "stream",
          "text": [
            "MAE:  2.1961\n",
            "RMSE: 2.8816\n",
            "R²:   0.1485\n"
          ]
        }
      ],
      "source": [
        "X_test_tensor = torch.tensor(X_test.values, dtype=torch.float32).to(device)\n",
        "y_test_tensor = torch.tensor(y_test.values, dtype=torch.float32).view(-1, 1).to(device)\n",
        "\n",
        "# Previsões\n",
        "model.eval()\n",
        "with torch.no_grad():\n",
        "    y_pred = model(X_test_tensor).cpu().numpy()\n",
        "\n",
        "# Transformando y_test para array (caso ainda seja Series)\n",
        "y_true = y_test_tensor.cpu().numpy()\n",
        "\n",
        "# Cálculo das métricas\n",
        "mse = mean_squared_error(y_true, y_pred)\n",
        "rmse = np.sqrt(mse)\n",
        "mae = mean_absolute_error(y_true, y_pred)\n",
        "r2 = r2_score(y_true, y_pred)\n",
        "\n",
        "print(f\"MAE:  {mae:.4f}\")\n",
        "print(f\"RMSE: {rmse:.4f}\")\n",
        "print(f\"R²:   {r2:.4f}\")"
      ]
    },
    {
      "cell_type": "code",
      "execution_count": 116,
      "metadata": {},
      "outputs": [
        {
          "data": {
            "text/plain": [
              "tensor([12.], device='cuda:0')"
            ]
          },
          "execution_count": 116,
          "metadata": {},
          "output_type": "execute_result"
        }
      ],
      "source": [
        "index = 75\n",
        "student = X_test_tensor[index]\n",
        "y_true = y_test_tensor[index]\n",
        "y_true"
      ]
    },
    {
      "cell_type": "code",
      "execution_count": 117,
      "metadata": {},
      "outputs": [
        {
          "data": {
            "text/plain": [
              "array([11.776897], dtype=float32)"
            ]
          },
          "execution_count": 117,
          "metadata": {},
          "output_type": "execute_result"
        }
      ],
      "source": [
        "with torch.no_grad():\n",
        "    y_pred = model(student).cpu().numpy()\n",
        "y_pred"
      ]
    },
    {
      "cell_type": "markdown",
      "metadata": {},
      "source": [
        "## Experiment 4: Changing the optmizer - AdamW"
      ]
    },
    {
      "cell_type": "code",
      "execution_count": 118,
      "metadata": {},
      "outputs": [],
      "source": [
        "class Model4(nn.Module):\n",
        "    def __init__(self):\n",
        "        super(Model4, self).__init__()\n",
        "\n",
        "        self.net = nn.Sequential(\n",
        "            nn.Linear(47, 120),\n",
        "            nn.Linear(120, 120),\n",
        "            nn.Linear(120, 1)\n",
        "        )\n",
        "\n",
        "    def forward(self, x):\n",
        "        return self.net(x)"
      ]
    },
    {
      "cell_type": "code",
      "execution_count": 119,
      "metadata": {},
      "outputs": [
        {
          "name": "stderr",
          "output_type": "stream",
          "text": [
            "  0%|          | 0/30 [00:00<?, ?it/s]"
          ]
        },
        {
          "name": "stdout",
          "output_type": "stream",
          "text": [
            "Epoch 1 training loss: 125.3770\n",
            "Epoch 1 validation loss: 87.0997\n"
          ]
        },
        {
          "name": "stderr",
          "output_type": "stream",
          "text": [
            " 13%|█▎        | 4/30 [00:00<00:00, 28.81it/s]"
          ]
        },
        {
          "name": "stdout",
          "output_type": "stream",
          "text": [
            "Epoch 2 training loss: 46.8048\n",
            "Epoch 2 validation loss: 9.1775\n",
            "Epoch 3 training loss: 14.6919\n",
            "Epoch 3 validation loss: 9.2036\n",
            "Epoch 4 training loss: 10.3370\n",
            "Epoch 4 validation loss: 8.2508\n"
          ]
        },
        {
          "name": "stderr",
          "output_type": "stream",
          "text": [
            " 13%|█▎        | 4/30 [00:00<00:00, 28.81it/s]"
          ]
        },
        {
          "name": "stdout",
          "output_type": "stream",
          "text": [
            "Epoch 5 training loss: 8.7246\n",
            "Epoch 5 validation loss: 7.3898\n",
            "Epoch 6 training loss: 8.4119\n",
            "Epoch 6 validation loss: 7.0641\n"
          ]
        },
        {
          "name": "stderr",
          "output_type": "stream",
          "text": [
            " 23%|██▎       | 7/30 [00:00<00:00, 27.61it/s]"
          ]
        },
        {
          "name": "stdout",
          "output_type": "stream",
          "text": [
            "Epoch 7 training loss: 8.1122\n",
            "Epoch 7 validation loss: 7.1557\n"
          ]
        },
        {
          "name": "stderr",
          "output_type": "stream",
          "text": [
            " 33%|███▎      | 10/30 [00:00<00:00, 27.01it/s]"
          ]
        },
        {
          "name": "stdout",
          "output_type": "stream",
          "text": [
            "Epoch 8 training loss: 7.8213\n",
            "Epoch 8 validation loss: 7.1034\n",
            "Epoch 9 training loss: 7.6581\n",
            "Epoch 9 validation loss: 6.9134\n",
            "Epoch 10 training loss: 7.5282\n",
            "Epoch 10 validation loss: 6.9018\n"
          ]
        },
        {
          "name": "stderr",
          "output_type": "stream",
          "text": [
            " 33%|███▎      | 10/30 [00:00<00:00, 27.01it/s]"
          ]
        },
        {
          "name": "stdout",
          "output_type": "stream",
          "text": [
            "Epoch 11 training loss: 7.6681\n",
            "Epoch 11 validation loss: 6.7666\n",
            "Epoch 12 training loss: 7.4143\n"
          ]
        },
        {
          "name": "stderr",
          "output_type": "stream",
          "text": [
            " 33%|███▎      | 10/30 [00:00<00:00, 27.01it/s]"
          ]
        },
        {
          "name": "stdout",
          "output_type": "stream",
          "text": [
            "Epoch 12 validation loss: 6.7223\n",
            "Epoch 13 training loss: 7.2629\n"
          ]
        },
        {
          "name": "stderr",
          "output_type": "stream",
          "text": [
            " 53%|█████▎    | 16/30 [00:00<00:00, 27.45it/s]"
          ]
        },
        {
          "name": "stdout",
          "output_type": "stream",
          "text": [
            "Epoch 13 validation loss: 6.6452\n",
            "Epoch 14 training loss: 7.2969\n",
            "Epoch 14 validation loss: 6.6135\n",
            "Epoch 15 training loss: 7.1788\n",
            "Epoch 15 validation loss: 6.5253\n",
            "Epoch 16 training loss: 7.2081\n",
            "Epoch 16 validation loss: 6.3913\n"
          ]
        },
        {
          "name": "stderr",
          "output_type": "stream",
          "text": [
            " 53%|█████▎    | 16/30 [00:00<00:00, 27.45it/s]"
          ]
        },
        {
          "name": "stdout",
          "output_type": "stream",
          "text": [
            "Epoch 17 training loss: 7.4022\n",
            "Epoch 17 validation loss: 6.7054\n"
          ]
        },
        {
          "name": "stderr",
          "output_type": "stream",
          "text": [
            " 53%|█████▎    | 16/30 [00:00<00:00, 27.45it/s]"
          ]
        },
        {
          "name": "stdout",
          "output_type": "stream",
          "text": [
            "Epoch 18 training loss: 7.2205\n",
            "Epoch 18 validation loss: 7.0710\n",
            "Epoch 19 training loss: 7.2049\n"
          ]
        },
        {
          "name": "stderr",
          "output_type": "stream",
          "text": [
            " 73%|███████▎  | 22/30 [00:00<00:00, 28.09it/s]"
          ]
        },
        {
          "name": "stdout",
          "output_type": "stream",
          "text": [
            "Epoch 19 validation loss: 6.5849\n",
            "Epoch 20 training loss: 7.1016\n",
            "Epoch 20 validation loss: 6.3210\n",
            "Epoch 21 training loss: 7.0459\n",
            "Epoch 21 validation loss: 6.2207\n",
            "Epoch 22 training loss: 7.0860\n",
            "Epoch 22 validation loss: 6.2137\n"
          ]
        },
        {
          "name": "stderr",
          "output_type": "stream",
          "text": [
            " 73%|███████▎  | 22/30 [00:00<00:00, 28.09it/s]"
          ]
        },
        {
          "name": "stdout",
          "output_type": "stream",
          "text": [
            "Epoch 23 training loss: 6.9618\n",
            "Epoch 23 validation loss: 6.3414\n"
          ]
        },
        {
          "name": "stderr",
          "output_type": "stream",
          "text": [
            " 73%|███████▎  | 22/30 [00:00<00:00, 28.09it/s]"
          ]
        },
        {
          "name": "stdout",
          "output_type": "stream",
          "text": [
            "Epoch 24 training loss: 6.9910\n",
            "Epoch 24 validation loss: 6.3538\n"
          ]
        },
        {
          "name": "stderr",
          "output_type": "stream",
          "text": [
            " 93%|█████████▎| 28/30 [00:01<00:00, 27.85it/s]"
          ]
        },
        {
          "name": "stdout",
          "output_type": "stream",
          "text": [
            "Epoch 25 training loss: 6.9559\n",
            "Epoch 25 validation loss: 6.2482\n",
            "Epoch 26 training loss: 7.0371\n",
            "Epoch 26 validation loss: 6.3142\n",
            "Epoch 27 training loss: 6.9461\n",
            "Epoch 27 validation loss: 6.2105\n",
            "Epoch 28 training loss: 6.9837\n",
            "Epoch 28 validation loss: 6.3553\n"
          ]
        },
        {
          "name": "stderr",
          "output_type": "stream",
          "text": [
            " 93%|█████████▎| 28/30 [00:01<00:00, 27.85it/s]"
          ]
        },
        {
          "name": "stdout",
          "output_type": "stream",
          "text": [
            "Epoch 29 training loss: 6.9159\n",
            "Epoch 29 validation loss: 6.2882\n"
          ]
        },
        {
          "name": "stderr",
          "output_type": "stream",
          "text": [
            "100%|██████████| 30/30 [00:01<00:00, 27.70it/s]"
          ]
        },
        {
          "name": "stdout",
          "output_type": "stream",
          "text": [
            "Epoch 30 training loss: 7.0103\n",
            "Epoch 30 validation loss: 6.4999\n"
          ]
        },
        {
          "name": "stderr",
          "output_type": "stream",
          "text": [
            "\n"
          ]
        }
      ],
      "source": [
        "# Hiperparâmetros\n",
        "n_epochs = 30\n",
        "lr=1e-3\n",
        "patience = 5\n",
        "\n",
        "model = Model4()\n",
        "\n",
        "criterion = nn.MSELoss()  # regressão → MSE\n",
        "optimizer = optim.AdamW(model.parameters(), lr=lr, weight_decay=1e-4)\n",
        "\n",
        "train_losses, val_losses = trainModel(model,\n",
        "           train_loader,\n",
        "           val_loader,\n",
        "           criterion,\n",
        "           optimizer,\n",
        "           n_epochs,\n",
        "           patience)"
      ]
    },
    {
      "cell_type": "code",
      "execution_count": 120,
      "metadata": {},
      "outputs": [
        {
          "data": {
            "image/png": "[encoded data removed]",
            "text/plain": [
              "<Figure size 1000x600 with 1 Axes>"
            ]
          },
          "metadata": {},
          "output_type": "display_data"
        }
      ],
      "source": [
        "plt.figure(figsize=(10,6))\n",
        "plt.plot(train_losses, label='Train Loss')\n",
        "plt.plot(val_losses, label='Validation Loss')\n",
        "plt.xlabel('Epoch')\n",
        "plt.ylabel('Loss')\n",
        "plt.title('Train vs Validation Loss')\n",
        "plt.legend()\n",
        "plt.grid(True)\n",
        "plt.show()"
      ]
    },
    {
      "cell_type": "code",
      "execution_count": 121,
      "metadata": {},
      "outputs": [
        {
          "name": "stdout",
          "output_type": "stream",
          "text": [
            "MAE:  2.1918\n",
            "RMSE: 2.9084\n",
            "R²:   0.1326\n"
          ]
        }
      ],
      "source": [
        "X_test_tensor = torch.tensor(X_test.values, dtype=torch.float32).to(device)\n",
        "y_test_tensor = torch.tensor(y_test.values, dtype=torch.float32).view(-1, 1).to(device)\n",
        "\n",
        "# Previsões\n",
        "model.eval()\n",
        "with torch.no_grad():\n",
        "    y_pred = model(X_test_tensor).cpu().numpy()\n",
        "\n",
        "# Transformando y_test para array (caso ainda seja Series)\n",
        "y_true = y_test_tensor.cpu().numpy()\n",
        "\n",
        "# Cálculo das métricas\n",
        "mse = mean_squared_error(y_true, y_pred)\n",
        "rmse = np.sqrt(mse)\n",
        "mae = mean_absolute_error(y_true, y_pred)\n",
        "r2 = r2_score(y_true, y_pred)\n",
        "\n",
        "print(f\"MAE:  {mae:.4f}\")\n",
        "print(f\"RMSE: {rmse:.4f}\")\n",
        "print(f\"R²:   {r2:.4f}\")"
      ]
    },
    {
      "cell_type": "code",
      "execution_count": 122,
      "metadata": {},
      "outputs": [
        {
          "data": {
            "text/plain": [
              "tensor([12.], device='cuda:0')"
            ]
          },
          "execution_count": 122,
          "metadata": {},
          "output_type": "execute_result"
        }
      ],
      "source": [
        "index = 75\n",
        "student = X_test_tensor[index]\n",
        "y_true = y_test_tensor[index]\n",
        "y_true"
      ]
    },
    {
      "cell_type": "code",
      "execution_count": 123,
      "metadata": {},
      "outputs": [
        {
          "data": {
            "text/plain": [
              "array([11.192607], dtype=float32)"
            ]
          },
          "execution_count": 123,
          "metadata": {},
          "output_type": "execute_result"
        }
      ],
      "source": [
        "with torch.no_grad():\n",
        "    y_pred = model(student).cpu().numpy()\n",
        "y_pred"
      ]
    },
    {
      "cell_type": "markdown",
      "metadata": {},
      "source": [
        "## Experiment 5: Adding dropout"
      ]
    },
    {
      "cell_type": "code",
      "execution_count": 124,
      "metadata": {},
      "outputs": [],
      "source": [
        "class Model5(nn.Module):\n",
        "    def __init__(self):\n",
        "        super(Model5, self).__init__()\n",
        "\n",
        "        self.net = nn.Sequential(\n",
        "            nn.Linear(47, 120),\n",
        "            nn.Dropout(0.2),\n",
        "            nn.Linear(120, 120),\n",
        "            nn.Dropout(0.2),\n",
        "            nn.Linear(120, 1)\n",
        "        )\n",
        "\n",
        "    def forward(self, x):\n",
        "        return self.net(x)"
      ]
    },
    {
      "cell_type": "code",
      "execution_count": 125,
      "metadata": {},
      "outputs": [
        {
          "name": "stderr",
          "output_type": "stream",
          "text": [
            "  0%|          | 0/30 [00:00<?, ?it/s]"
          ]
        },
        {
          "name": "stdout",
          "output_type": "stream",
          "text": [
            "Epoch 1 training loss: 122.1559\n"
          ]
        },
        {
          "name": "stderr",
          "output_type": "stream",
          "text": [
            "  0%|          | 0/30 [00:00<?, ?it/s]"
          ]
        },
        {
          "name": "stdout",
          "output_type": "stream",
          "text": [
            "Epoch 1 validation loss: 84.6841\n",
            "Epoch 2 training loss: 49.0963\n"
          ]
        },
        {
          "name": "stderr",
          "output_type": "stream",
          "text": [
            " 10%|█         | 3/30 [00:00<00:01, 26.24it/s]"
          ]
        },
        {
          "name": "stdout",
          "output_type": "stream",
          "text": [
            "Epoch 2 validation loss: 9.8191\n",
            "Epoch 3 training loss: 14.3151\n",
            "Epoch 3 validation loss: 9.8144\n",
            "Epoch 4 training loss: 11.1412\n",
            "Epoch 4 validation loss: 8.9361\n"
          ]
        },
        {
          "name": "stderr",
          "output_type": "stream",
          "text": [
            " 10%|█         | 3/30 [00:00<00:01, 26.24it/s]"
          ]
        },
        {
          "name": "stdout",
          "output_type": "stream",
          "text": [
            "Epoch 5 training loss: 9.5717\n",
            "Epoch 5 validation loss: 7.6136\n"
          ]
        },
        {
          "name": "stderr",
          "output_type": "stream",
          "text": [
            " 20%|██        | 6/30 [00:00<00:01, 21.80it/s]"
          ]
        },
        {
          "name": "stdout",
          "output_type": "stream",
          "text": [
            "Epoch 6 training loss: 9.4180\n",
            "Epoch 6 validation loss: 7.4840\n"
          ]
        },
        {
          "name": "stderr",
          "output_type": "stream",
          "text": [
            " 20%|██        | 6/30 [00:00<00:01, 21.80it/s]"
          ]
        },
        {
          "name": "stdout",
          "output_type": "stream",
          "text": [
            "Epoch 7 training loss: 9.2849\n",
            "Epoch 7 validation loss: 7.3714\n",
            "Epoch 8 training loss: 8.7462\n",
            "Epoch 8 validation loss: 7.2787\n"
          ]
        },
        {
          "name": "stderr",
          "output_type": "stream",
          "text": [
            " 30%|███       | 9/30 [00:00<00:01, 20.88it/s]"
          ]
        },
        {
          "name": "stdout",
          "output_type": "stream",
          "text": [
            "Epoch 9 training loss: 8.2673\n",
            "Epoch 9 validation loss: 7.3068\n",
            "Epoch 10 training loss: 9.3766\n"
          ]
        },
        {
          "name": "stderr",
          "output_type": "stream",
          "text": [
            " 30%|███       | 9/30 [00:00<00:01, 20.88it/s]"
          ]
        },
        {
          "name": "stdout",
          "output_type": "stream",
          "text": [
            "Epoch 10 validation loss: 7.0861\n",
            "Epoch 11 training loss: 8.4594\n",
            "Epoch 11 validation loss: 7.0536\n"
          ]
        },
        {
          "name": "stderr",
          "output_type": "stream",
          "text": [
            " 40%|████      | 12/30 [00:00<00:00, 21.44it/s]"
          ]
        },
        {
          "name": "stdout",
          "output_type": "stream",
          "text": [
            "Epoch 12 training loss: 8.6601\n",
            "Epoch 12 validation loss: 6.9993\n",
            "Epoch 13 training loss: 8.2695\n",
            "Epoch 13 validation loss: 6.9607\n",
            "Epoch 14 training loss: 8.4388\n"
          ]
        },
        {
          "name": "stderr",
          "output_type": "stream",
          "text": [
            " 50%|█████     | 15/30 [00:00<00:00, 23.81it/s]"
          ]
        },
        {
          "name": "stdout",
          "output_type": "stream",
          "text": [
            "Epoch 14 validation loss: 6.8251\n",
            "Epoch 15 training loss: 8.6268\n",
            "Epoch 15 validation loss: 6.7240\n"
          ]
        },
        {
          "name": "stderr",
          "output_type": "stream",
          "text": [
            " 50%|█████     | 15/30 [00:00<00:00, 23.81it/s]"
          ]
        },
        {
          "name": "stdout",
          "output_type": "stream",
          "text": [
            "Epoch 16 training loss: 8.1079\n",
            "Epoch 16 validation loss: 6.7193\n",
            "Epoch 17 training loss: 8.2466\n",
            "Epoch 17 validation loss: 6.6487\n"
          ]
        },
        {
          "name": "stderr",
          "output_type": "stream",
          "text": [
            " 60%|██████    | 18/30 [00:00<00:00, 25.49it/s]"
          ]
        },
        {
          "name": "stdout",
          "output_type": "stream",
          "text": [
            "Epoch 18 training loss: 8.5360\n",
            "Epoch 18 validation loss: 6.6213\n",
            "Epoch 19 training loss: 7.9994\n",
            "Epoch 19 validation loss: 6.4792\n",
            "Epoch 20 training loss: 8.3149\n",
            "Epoch 20 validation loss: 6.2520\n"
          ]
        },
        {
          "name": "stderr",
          "output_type": "stream",
          "text": [
            " 60%|██████    | 18/30 [00:00<00:00, 25.49it/s]"
          ]
        },
        {
          "name": "stdout",
          "output_type": "stream",
          "text": [
            "Epoch 21 training loss: 7.8765\n",
            "Epoch 21 validation loss: 6.3257\n",
            "Epoch 22 training loss: 7.8052\n"
          ]
        },
        {
          "name": "stderr",
          "output_type": "stream",
          "text": [
            " 73%|███████▎  | 22/30 [00:00<00:00, 27.32it/s]"
          ]
        },
        {
          "name": "stdout",
          "output_type": "stream",
          "text": [
            "Epoch 22 validation loss: 6.3406\n",
            "Epoch 23 training loss: 8.0480\n",
            "Epoch 23 validation loss: 6.4807\n",
            "Epoch 24 training loss: 8.1533\n",
            "Epoch 24 validation loss: 6.7731\n"
          ]
        },
        {
          "name": "stderr",
          "output_type": "stream",
          "text": [
            " 80%|████████  | 24/30 [00:00<00:00, 24.41it/s]"
          ]
        },
        {
          "name": "stdout",
          "output_type": "stream",
          "text": [
            "Epoch 25 training loss: 8.5486\n",
            "Epoch 25 validation loss: 6.4879\n",
            "Early stopping triggered.\n"
          ]
        },
        {
          "name": "stderr",
          "output_type": "stream",
          "text": [
            "\n"
          ]
        }
      ],
      "source": [
        "# Hiperparâmetros\n",
        "n_epochs = 30\n",
        "lr=1e-3\n",
        "patience = 5\n",
        "\n",
        "model = Model5()\n",
        "\n",
        "criterion = nn.MSELoss()  # regressão → MSE\n",
        "optimizer = optim.AdamW(model.parameters(), lr=lr, weight_decay=1e-4)\n",
        "\n",
        "train_losses, val_losses = trainModel(model,\n",
        "           train_loader,\n",
        "           val_loader,\n",
        "           criterion,\n",
        "           optimizer,\n",
        "           n_epochs,\n",
        "           patience)"
      ]
    },
    {
      "cell_type": "code",
      "execution_count": 126,
      "metadata": {},
      "outputs": [
        {
          "data": {
            "image/png": "[encoded data removed]",
            "text/plain": [
              "<Figure size 1000x600 with 1 Axes>"
            ]
          },
          "metadata": {},
          "output_type": "display_data"
        }
      ],
      "source": [
        "plt.figure(figsize=(10,6))\n",
        "plt.plot(train_losses, label='Train Loss')\n",
        "plt.plot(val_losses, label='Validation Loss')\n",
        "plt.xlabel('Epoch')\n",
        "plt.ylabel('Loss')\n",
        "plt.title('Train vs Validation Loss')\n",
        "plt.legend()\n",
        "plt.grid(True)\n",
        "plt.show()"
      ]
    },
    {
      "cell_type": "code",
      "execution_count": 127,
      "metadata": {},
      "outputs": [
        {
          "name": "stdout",
          "output_type": "stream",
          "text": [
            "MAE:  2.1879\n",
            "RMSE: 2.9299\n",
            "R²:   0.1197\n"
          ]
        }
      ],
      "source": [
        "X_test_tensor = torch.tensor(X_test.values, dtype=torch.float32).to(device)\n",
        "y_test_tensor = torch.tensor(y_test.values, dtype=torch.float32).view(-1, 1).to(device)\n",
        "\n",
        "# Previsões\n",
        "model.eval()\n",
        "with torch.no_grad():\n",
        "    y_pred = model(X_test_tensor).cpu().numpy()\n",
        "\n",
        "# Transformando y_test para array (caso ainda seja Series)\n",
        "y_true = y_test_tensor.cpu().numpy()\n",
        "\n",
        "# Cálculo das métricas\n",
        "mse = mean_squared_error(y_true, y_pred)\n",
        "rmse = np.sqrt(mse)\n",
        "mae = mean_absolute_error(y_true, y_pred)\n",
        "r2 = r2_score(y_true, y_pred)\n",
        "\n",
        "print(f\"MAE:  {mae:.4f}\")\n",
        "print(f\"RMSE: {rmse:.4f}\")\n",
        "print(f\"R²:   {r2:.4f}\")"
      ]
    },
    {
      "cell_type": "code",
      "execution_count": 128,
      "metadata": {},
      "outputs": [
        {
          "data": {
            "text/plain": [
              "tensor([12.], device='cuda:0')"
            ]
          },
          "execution_count": 128,
          "metadata": {},
          "output_type": "execute_result"
        }
      ],
      "source": [
        "index = 75\n",
        "student = X_test_tensor[index]\n",
        "y_true = y_test_tensor[index]\n",
        "y_true"
      ]
    },
    {
      "cell_type": "code",
      "execution_count": 129,
      "metadata": {},
      "outputs": [
        {
          "data": {
            "text/plain": [
              "array([11.9535885], dtype=float32)"
            ]
          },
          "execution_count": 129,
          "metadata": {},
          "output_type": "execute_result"
        }
      ],
      "source": [
        "with torch.no_grad():\n",
        "    y_pred = model(student).cpu().numpy()\n",
        "y_pred"
      ]
    },
    {
      "cell_type": "markdown",
      "metadata": {},
      "source": [
        "## Experiment 6: Adding an activation function"
      ]
    },
    {
      "cell_type": "code",
      "execution_count": 130,
      "metadata": {},
      "outputs": [],
      "source": [
        "class Model6(nn.Module):\n",
        "    def __init__(self):\n",
        "        super(Model6, self).__init__()\n",
        "\n",
        "        self.net = nn.Sequential(\n",
        "            nn.Linear(47, 120),\n",
        "            nn.ReLU(),\n",
        "            nn.Linear(120, 120),\n",
        "            nn.ReLU(),\n",
        "            nn.Linear(120, 1)\n",
        "        )\n",
        "\n",
        "    def forward(self, x):\n",
        "        return self.net(x)"
      ]
    },
    {
      "cell_type": "code",
      "execution_count": 131,
      "metadata": {},
      "outputs": [
        {
          "name": "stderr",
          "output_type": "stream",
          "text": [
            "  0%|          | 0/30 [00:00<?, ?it/s]"
          ]
        },
        {
          "name": "stdout",
          "output_type": "stream",
          "text": [
            "Epoch 1 training loss: 136.0445\n",
            "Epoch 1 validation loss: 119.6752\n",
            "Epoch 2 training loss: 91.4597\n"
          ]
        },
        {
          "name": "stderr",
          "output_type": "stream",
          "text": [
            " 10%|█         | 3/30 [00:00<00:00, 29.90it/s]"
          ]
        },
        {
          "name": "stdout",
          "output_type": "stream",
          "text": [
            "Epoch 2 validation loss: 51.6535\n",
            "Epoch 3 training loss: 24.3442\n",
            "Epoch 3 validation loss: 10.3150\n",
            "Epoch 4 training loss: 14.0579\n",
            "Epoch 4 validation loss: 7.0325\n",
            "Epoch 5 training loss: 9.4175\n",
            "Epoch 5 validation loss: 7.2166\n"
          ]
        },
        {
          "name": "stderr",
          "output_type": "stream",
          "text": [
            " 10%|█         | 3/30 [00:00<00:00, 29.90it/s]"
          ]
        },
        {
          "name": "stdout",
          "output_type": "stream",
          "text": [
            "Epoch 6 training loss: 8.4908\n",
            "Epoch 6 validation loss: 6.6443\n",
            "Epoch 7 training loss: 8.1673\n"
          ]
        },
        {
          "name": "stderr",
          "output_type": "stream",
          "text": [
            " 23%|██▎       | 7/30 [00:00<00:00, 30.45it/s]"
          ]
        },
        {
          "name": "stdout",
          "output_type": "stream",
          "text": [
            "Epoch 7 validation loss: 6.3512\n",
            "Epoch 8 training loss: 7.6920\n",
            "Epoch 8 validation loss: 6.3121\n"
          ]
        },
        {
          "name": "stderr",
          "output_type": "stream",
          "text": [
            " 37%|███▋      | 11/30 [00:00<00:00, 30.39it/s]"
          ]
        },
        {
          "name": "stdout",
          "output_type": "stream",
          "text": [
            "Epoch 9 training loss: 7.5811\n",
            "Epoch 9 validation loss: 6.3930\n",
            "Epoch 10 training loss: 7.2436\n",
            "Epoch 10 validation loss: 6.4261\n",
            "Epoch 11 training loss: 7.0372\n",
            "Epoch 11 validation loss: 6.3858\n",
            "Epoch 12 training loss: 6.8765\n"
          ]
        },
        {
          "name": "stderr",
          "output_type": "stream",
          "text": [
            " 37%|███▋      | 11/30 [00:00<00:00, 30.39it/s]"
          ]
        },
        {
          "name": "stdout",
          "output_type": "stream",
          "text": [
            "Epoch 12 validation loss: 6.3621\n",
            "Epoch 13 training loss: 6.6800\n"
          ]
        },
        {
          "name": "stderr",
          "output_type": "stream",
          "text": [
            " 40%|████      | 12/30 [00:00<00:00, 27.53it/s]"
          ]
        },
        {
          "name": "stdout",
          "output_type": "stream",
          "text": [
            "Epoch 13 validation loss: 6.3535\n",
            "Early stopping triggered.\n"
          ]
        },
        {
          "name": "stderr",
          "output_type": "stream",
          "text": [
            "\n"
          ]
        }
      ],
      "source": [
        "# Hiperparâmetros\n",
        "n_epochs = 30\n",
        "lr=1e-3\n",
        "patience = 5\n",
        "\n",
        "model = Model6()\n",
        "\n",
        "criterion = nn.MSELoss()  # regressão → MSE\n",
        "optimizer = optim.Adam(model.parameters(), lr=lr)\n",
        "\n",
        "train_losses, val_losses = trainModel(model,\n",
        "           train_loader,\n",
        "           val_loader,\n",
        "           criterion,\n",
        "           optimizer,\n",
        "           n_epochs,\n",
        "           patience)"
      ]
    },
    {
      "cell_type": "code",
      "execution_count": 132,
      "metadata": {},
      "outputs": [
        {
          "data": {
            "image/png": "[encoded data removed]",
            "text/plain": [
              "<Figure size 1000x600 with 1 Axes>"
            ]
          },
          "metadata": {},
          "output_type": "display_data"
        }
      ],
      "source": [
        "plt.figure(figsize=(10,6))\n",
        "plt.plot(train_losses, label='Train Loss')\n",
        "plt.plot(val_losses, label='Validation Loss')\n",
        "plt.xlabel('Epoch')\n",
        "plt.ylabel('Loss')\n",
        "plt.title('Train vs Validation Loss')\n",
        "plt.legend()\n",
        "plt.grid(True)\n",
        "plt.show()"
      ]
    },
    {
      "cell_type": "code",
      "execution_count": 133,
      "metadata": {},
      "outputs": [
        {
          "name": "stdout",
          "output_type": "stream",
          "text": [
            "MAE:  2.1737\n",
            "RMSE: 2.9673\n",
            "R²:   0.0971\n"
          ]
        }
      ],
      "source": [
        "X_test_tensor = torch.tensor(X_test.values, dtype=torch.float32).to(device)\n",
        "y_test_tensor = torch.tensor(y_test.values, dtype=torch.float32).view(-1, 1).to(device)\n",
        "\n",
        "# Previsões\n",
        "model.eval()\n",
        "with torch.no_grad():\n",
        "    y_pred = model(X_test_tensor).cpu().numpy()\n",
        "\n",
        "# Transformando y_test para array (caso ainda seja Series)\n",
        "y_true = y_test_tensor.cpu().numpy()\n",
        "\n",
        "# Cálculo das métricas\n",
        "mse = mean_squared_error(y_true, y_pred)\n",
        "rmse = np.sqrt(mse)\n",
        "mae = mean_absolute_error(y_true, y_pred)\n",
        "r2 = r2_score(y_true, y_pred)\n",
        "\n",
        "print(f\"MAE:  {mae:.4f}\")\n",
        "print(f\"RMSE: {rmse:.4f}\")\n",
        "print(f\"R²:   {r2:.4f}\")"
      ]
    },
    {
      "cell_type": "code",
      "execution_count": 134,
      "metadata": {},
      "outputs": [
        {
          "data": {
            "text/plain": [
              "tensor([12.], device='cuda:0')"
            ]
          },
          "execution_count": 134,
          "metadata": {},
          "output_type": "execute_result"
        }
      ],
      "source": [
        "index = 75\n",
        "student = X_test_tensor[index]\n",
        "y_true = y_test_tensor[index]\n",
        "y_true"
      ]
    },
    {
      "cell_type": "code",
      "execution_count": 135,
      "metadata": {},
      "outputs": [
        {
          "data": {
            "text/plain": [
              "array([12.380562], dtype=float32)"
            ]
          },
          "execution_count": 135,
          "metadata": {},
          "output_type": "execute_result"
        }
      ],
      "source": [
        "with torch.no_grad():\n",
        "    y_pred = model(student).cpu().numpy()\n",
        "y_pred"
      ]
    },
    {
      "cell_type": "markdown",
      "metadata": {},
      "source": [
        "## Experiment 7: ReLU + SGD "
      ]
    },
    {
      "cell_type": "code",
      "execution_count": 153,
      "metadata": {},
      "outputs": [],
      "source": [
        "class Model7(nn.Module):\n",
        "    def __init__(self):\n",
        "        super(Model7, self).__init__()\n",
        "\n",
        "        self.net = nn.Sequential(\n",
        "            nn.Linear(47, 120),\n",
        "            nn.ReLU(),\n",
        "            nn.Linear(120, 120),\n",
        "            nn.ReLU(),\n",
        "            nn.Linear(120, 1)\n",
        "        )\n",
        "\n",
        "    def forward(self, x):\n",
        "        return self.net(x)"
      ]
    },
    {
      "cell_type": "code",
      "execution_count": 154,
      "metadata": {},
      "outputs": [
        {
          "name": "stderr",
          "output_type": "stream",
          "text": [
            "  7%|▋         | 2/30 [00:00<00:01, 14.58it/s]"
          ]
        },
        {
          "name": "stdout",
          "output_type": "stream",
          "text": [
            "Epoch 1 training loss: 94.9813\n",
            "Epoch 1 validation loss: 58.1307\n",
            "Epoch 2 training loss: 27.1790\n",
            "Epoch 2 validation loss: 21.4950\n",
            "Epoch 3 training loss: 13.3870\n",
            "Epoch 3 validation loss: 8.6637\n"
          ]
        },
        {
          "name": "stderr",
          "output_type": "stream",
          "text": [
            " 20%|██        | 6/30 [00:00<00:01, 16.27it/s]"
          ]
        },
        {
          "name": "stdout",
          "output_type": "stream",
          "text": [
            "Epoch 4 training loss: 8.4354\n",
            "Epoch 4 validation loss: 7.6956\n",
            "Epoch 5 training loss: 7.5789\n",
            "Epoch 5 validation loss: 6.6941\n",
            "Epoch 6 training loss: 6.6984\n",
            "Epoch 6 validation loss: 6.8582\n",
            "Epoch 7 training loss: 6.4568\n",
            "Epoch 7 validation loss: 6.4776\n"
          ]
        },
        {
          "name": "stderr",
          "output_type": "stream",
          "text": [
            " 33%|███▎      | 10/30 [00:00<00:01, 17.74it/s]"
          ]
        },
        {
          "name": "stdout",
          "output_type": "stream",
          "text": [
            "Epoch 8 training loss: 6.0964\n",
            "Epoch 8 validation loss: 6.5917\n",
            "Epoch 9 training loss: 6.2024\n",
            "Epoch 9 validation loss: 7.3312\n",
            "Epoch 10 training loss: 6.2172\n",
            "Epoch 10 validation loss: 7.0994\n",
            "Epoch 11 training loss: 5.7739\n",
            "Epoch 11 validation loss: 6.4825\n"
          ]
        },
        {
          "name": "stderr",
          "output_type": "stream",
          "text": [
            " 37%|███▋      | 11/30 [00:00<00:01, 15.67it/s]"
          ]
        },
        {
          "name": "stdout",
          "output_type": "stream",
          "text": [
            "Epoch 12 training loss: 5.5405\n",
            "Epoch 12 validation loss: 6.6211\n",
            "Early stopping triggered.\n"
          ]
        },
        {
          "name": "stderr",
          "output_type": "stream",
          "text": [
            "\n"
          ]
        }
      ],
      "source": [
        "# Hiperparâmetros\n",
        "n_epochs = 30\n",
        "lr=1e-3\n",
        "patience = 5\n",
        "\n",
        "model = Model7()\n",
        "\n",
        "criterion = nn.MSELoss()  # regressão → MSE\n",
        "optimizer = optim.SGD(model.parameters(), lr=lr, momentum=0.9, weight_decay=1e-4)\n",
        "\n",
        "train_losses, val_losses = trainModel(model,\n",
        "           train_loader,\n",
        "           val_loader,\n",
        "           criterion,\n",
        "           optimizer,\n",
        "           n_epochs,\n",
        "           patience)"
      ]
    },
    {
      "cell_type": "code",
      "execution_count": 155,
      "metadata": {},
      "outputs": [
        {
          "data": {
            "image/png": "[encoded data removed]",
            "text/plain": [
              "<Figure size 1000x600 with 1 Axes>"
            ]
          },
          "metadata": {},
          "output_type": "display_data"
        }
      ],
      "source": [
        "plt.figure(figsize=(10,6))\n",
        "plt.plot(train_losses, label='Train Loss')\n",
        "plt.plot(val_losses, label='Validation Loss')\n",
        "plt.xlabel('Epoch')\n",
        "plt.ylabel('Loss')\n",
        "plt.title('Train vs Validation Loss')\n",
        "plt.legend()\n",
        "plt.grid(True)\n",
        "plt.show()"
      ]
    },
    {
      "cell_type": "code",
      "execution_count": 156,
      "metadata": {},
      "outputs": [
        {
          "name": "stdout",
          "output_type": "stream",
          "text": [
            "MAE:  2.0935\n",
            "RMSE: 2.8651\n",
            "R²:   0.1582\n"
          ]
        }
      ],
      "source": [
        "X_test_tensor = torch.tensor(X_test.values, dtype=torch.float32).to(device)\n",
        "y_test_tensor = torch.tensor(y_test.values, dtype=torch.float32).view(-1, 1).to(device)\n",
        "\n",
        "# Previsões\n",
        "model.eval()\n",
        "with torch.no_grad():\n",
        "    y_pred = model(X_test_tensor).cpu().numpy()\n",
        "\n",
        "# Transformando y_test para array (caso ainda seja Series)\n",
        "y_true = y_test_tensor.cpu().numpy()\n",
        "\n",
        "# Cálculo das métricas\n",
        "mse = mean_squared_error(y_true, y_pred)\n",
        "rmse = np.sqrt(mse)\n",
        "mae = mean_absolute_error(y_true, y_pred)\n",
        "r2 = r2_score(y_true, y_pred)\n",
        "\n",
        "print(f\"MAE:  {mae:.4f}\")\n",
        "print(f\"RMSE: {rmse:.4f}\")\n",
        "print(f\"R²:   {r2:.4f}\")"
      ]
    },
    {
      "cell_type": "code",
      "execution_count": 157,
      "metadata": {},
      "outputs": [
        {
          "data": {
            "text/plain": [
              "tensor([12.], device='cuda:0')"
            ]
          },
          "execution_count": 157,
          "metadata": {},
          "output_type": "execute_result"
        }
      ],
      "source": [
        "index = 75\n",
        "student = X_test_tensor[index]\n",
        "y_true = y_test_tensor[index]\n",
        "y_true"
      ]
    },
    {
      "cell_type": "code",
      "execution_count": 158,
      "metadata": {},
      "outputs": [
        {
          "data": {
            "text/plain": [
              "array([10.799215], dtype=float32)"
            ]
          },
          "execution_count": 158,
          "metadata": {},
          "output_type": "execute_result"
        }
      ],
      "source": [
        "with torch.no_grad():\n",
        "    y_pred = model(student).cpu().numpy()\n",
        "y_pred"
      ]
    },
    {
      "cell_type": "markdown",
      "metadata": {},
      "source": [
        "## Results comparison"
      ]
    },
    {
      "cell_type": "code",
      "execution_count": 160,
      "metadata": {},
      "outputs": [],
      "source": [
        "def highlight_results(val, col, baseline_dict, minmax_dict=None):\n",
        "    baseline = baseline_dict[col]\n",
        "    if minmax_dict is None:\n",
        "        return \"\"\n",
        "    vmin, vmax = minmax_dict[col]\n",
        "    # For R², higher is better\n",
        "    if col == \"R²\":\n",
        "        if val > baseline:\n",
        "            # Green gradient: interpolate between #ccffcc (light) and #38761d (dark)\n",
        "            ratio = min(1, max(0, (val - baseline) / (vmax - baseline + 1e-8)))\n",
        "            r = int(204 + (56-204)*ratio)\n",
        "            g = int(255 + (118-255)*ratio)\n",
        "            b = int(204 + (29-204)*ratio)\n",
        "            color = f\"background-color: rgb({r},{g},{b}); color: white\"\n",
        "        elif val < baseline:\n",
        "            # Red gradient: interpolate between #f4cccc (light) and #990000 (dark)\n",
        "            ratio = min(1, max(0, (baseline - val) / (baseline - vmin + 1e-8)))\n",
        "            r = int(244 + (153-244)*ratio)\n",
        "            g = int(204 + (0-204)*ratio)\n",
        "            b = int(204 + (0-204)*ratio)\n",
        "            color = f\"background-color: rgb({r},{g},{b}); color: white\"\n",
        "        else:\n",
        "            color = \"\"\n",
        "    else:\n",
        "        # For MAE and RMSE, lower is better\n",
        "        if val < baseline:\n",
        "            # Green gradient: interpolate between #ccffcc (light) and #38761d (dark)\n",
        "            ratio = min(1, max(0, (baseline - val) / (baseline - vmin + 1e-8)))\n",
        "            r = int(204 + (56-204)*ratio)\n",
        "            g = int(255 + (118-255)*ratio)\n",
        "            b = int(204 + (29-204)*ratio)\n",
        "            color = f\"background-color: rgb({r},{g},{b}); color: white\"\n",
        "        elif val > baseline:\n",
        "            # Red gradient: interpolate between #f4cccc (light) and #990000 (dark)\n",
        "            ratio = min(1, max(0, (val - baseline) / (vmax - baseline + 1e-8)))\n",
        "            r = int(244 + (153-244)*ratio)\n",
        "            g = int(204 + (0-204)*ratio)\n",
        "            b = int(204 + (0-204)*ratio)\n",
        "            color = f\"background-color: rgb({r},{g},{b}); color: white\"\n",
        "        else:\n",
        "            color = \"\"\n",
        "    return color\n",
        "\n",
        "def style_results(df):\n",
        "    baseline_dict = df.iloc[0][[\"MAE\", \"RMSE\", \"R²\"]].to_dict()\n",
        "    minmax_dict = {}\n",
        "    for col in [\"MAE\", \"RMSE\", \"R²\"]:\n",
        "        minmax_dict[col] = (df[col].min(), df[col].max())\n",
        "    return df.style.apply(\n",
        "        lambda s: [highlight_results(v, s.name, baseline_dict, minmax_dict) if s.name in baseline_dict else \"\" for v in s],\n",
        "        axis=0\n",
        "    )"
      ]
    },
    {
      "cell_type": "code",
      "execution_count": 162,
      "metadata": {},
      "outputs": [
        {
          "data": {
            "text/html": [
              "<style type=\"text/css\">\n",
              "#T_94b89_row1_col1, #T_94b89_row1_col2, #T_94b89_row1_col3 {\n",
              "  background-color: rgb(153,0,0);\n",
              "  color: white;\n",
              "}\n",
              "#T_94b89_row2_col1 {\n",
              "  background-color: rgb(181,234,177);\n",
              "  color: white;\n",
              "}\n",
              "#T_94b89_row2_col2 {\n",
              "  background-color: rgb(104,162,86);\n",
              "  color: white;\n",
              "}\n",
              "#T_94b89_row2_col3 {\n",
              "  background-color: rgb(103,162,85);\n",
              "  color: white;\n",
              "}\n",
              "#T_94b89_row3_col1 {\n",
              "  background-color: rgb(174,227,169);\n",
              "  color: white;\n",
              "}\n",
              "#T_94b89_row3_col2, #T_94b89_row3_col3 {\n",
              "  background-color: rgb(84,144,62);\n",
              "  color: white;\n",
              "}\n",
              "#T_94b89_row4_col1 {\n",
              "  background-color: rgb(202,111,111);\n",
              "  color: white;\n",
              "}\n",
              "#T_94b89_row4_col2 {\n",
              "  background-color: rgb(165,219,158);\n",
              "  color: white;\n",
              "}\n",
              "#T_94b89_row4_col3 {\n",
              "  background-color: rgb(164,218,157);\n",
              "  color: white;\n",
              "}\n",
              "#T_94b89_row5_col1 {\n",
              "  background-color: rgb(185,238,182);\n",
              "  color: white;\n",
              "}\n",
              "#T_94b89_row5_col2 {\n",
              "  background-color: rgb(149,204,139);\n",
              "  color: white;\n",
              "}\n",
              "#T_94b89_row5_col3 {\n",
              "  background-color: rgb(148,203,138);\n",
              "  color: white;\n",
              "}\n",
              "#T_94b89_row6_col1 {\n",
              "  background-color: rgb(120,177,105);\n",
              "  color: white;\n",
              "}\n",
              "#T_94b89_row6_col2 {\n",
              "  background-color: rgb(125,182,111);\n",
              "  color: white;\n",
              "}\n",
              "#T_94b89_row6_col3 {\n",
              "  background-color: rgb(124,181,110);\n",
              "  color: white;\n",
              "}\n",
              "#T_94b89_row7_col1, #T_94b89_row7_col2, #T_94b89_row7_col3 {\n",
              "  background-color: rgb(56,118,29);\n",
              "  color: white;\n",
              "}\n",
              "</style>\n",
              "<table id=\"T_94b89\">\n",
              "  <thead>\n",
              "    <tr>\n",
              "      <th class=\"blank level0\" >&nbsp;</th>\n",
              "      <th id=\"T_94b89_level0_col0\" class=\"col_heading level0 col0\" >Model</th>\n",
              "      <th id=\"T_94b89_level0_col1\" class=\"col_heading level0 col1\" >MAE</th>\n",
              "      <th id=\"T_94b89_level0_col2\" class=\"col_heading level0 col2\" >RMSE</th>\n",
              "      <th id=\"T_94b89_level0_col3\" class=\"col_heading level0 col3\" >R²</th>\n",
              "    </tr>\n",
              "  </thead>\n",
              "  <tbody>\n",
              "    <tr>\n",
              "      <th id=\"T_94b89_level0_row0\" class=\"row_heading level0 row0\" >0</th>\n",
              "      <td id=\"T_94b89_row0_col0\" class=\"data row0 col0\" >Baseline</td>\n",
              "      <td id=\"T_94b89_row0_col1\" class=\"data row0 col1\" >2.225300</td>\n",
              "      <td id=\"T_94b89_row0_col2\" class=\"data row0 col2\" >2.979000</td>\n",
              "      <td id=\"T_94b89_row0_col3\" class=\"data row0 col3\" >0.090000</td>\n",
              "    </tr>\n",
              "    <tr>\n",
              "      <th id=\"T_94b89_level0_row1\" class=\"row_heading level0 row1\" >1</th>\n",
              "      <td id=\"T_94b89_row1_col0\" class=\"data row1 col0\" >Exp 1: +Layer</td>\n",
              "      <td id=\"T_94b89_row1_col1\" class=\"data row1 col1\" >2.277400</td>\n",
              "      <td id=\"T_94b89_row1_col2\" class=\"data row1 col2\" >3.037900</td>\n",
              "      <td id=\"T_94b89_row1_col3\" class=\"data row1 col3\" >0.053600</td>\n",
              "    </tr>\n",
              "    <tr>\n",
              "      <th id=\"T_94b89_level0_row2\" class=\"row_heading level0 row2\" >2</th>\n",
              "      <td id=\"T_94b89_row2_col0\" class=\"data row2 col0\" >Exp 2: +Neurons</td>\n",
              "      <td id=\"T_94b89_row2_col1\" class=\"data row2 col1\" >2.205400</td>\n",
              "      <td id=\"T_94b89_row2_col2\" class=\"data row2 col2\" >2.902400</td>\n",
              "      <td id=\"T_94b89_row2_col3\" class=\"data row2 col3\" >0.136200</td>\n",
              "    </tr>\n",
              "    <tr>\n",
              "      <th id=\"T_94b89_level0_row3\" class=\"row_heading level0 row3\" >3</th>\n",
              "      <td id=\"T_94b89_row3_col0\" class=\"data row3 col0\" >Exp 3: SGD</td>\n",
              "      <td id=\"T_94b89_row3_col1\" class=\"data row3 col1\" >2.199200</td>\n",
              "      <td id=\"T_94b89_row3_col2\" class=\"data row3 col2\" >2.887100</td>\n",
              "      <td id=\"T_94b89_row3_col3\" class=\"data row3 col3\" >0.145200</td>\n",
              "    </tr>\n",
              "    <tr>\n",
              "      <th id=\"T_94b89_level0_row4\" class=\"row_heading level0 row4\" >4</th>\n",
              "      <td id=\"T_94b89_row4_col0\" class=\"data row4 col0\" >Exp 4: AdamW</td>\n",
              "      <td id=\"T_94b89_row4_col1\" class=\"data row4 col1\" >2.248800</td>\n",
              "      <td id=\"T_94b89_row4_col2\" class=\"data row4 col2\" >2.949200</td>\n",
              "      <td id=\"T_94b89_row4_col3\" class=\"data row4 col3\" >0.108100</td>\n",
              "    </tr>\n",
              "    <tr>\n",
              "      <th id=\"T_94b89_level0_row5\" class=\"row_heading level0 row5\" >5</th>\n",
              "      <td id=\"T_94b89_row5_col0\" class=\"data row5 col0\" >Exp 5: Dropout</td>\n",
              "      <td id=\"T_94b89_row5_col1\" class=\"data row5 col1\" >2.209100</td>\n",
              "      <td id=\"T_94b89_row5_col2\" class=\"data row5 col2\" >2.937100</td>\n",
              "      <td id=\"T_94b89_row5_col3\" class=\"data row5 col3\" >0.115400</td>\n",
              "    </tr>\n",
              "    <tr>\n",
              "      <th id=\"T_94b89_level0_row6\" class=\"row_heading level0 row6\" >6</th>\n",
              "      <td id=\"T_94b89_row6_col0\" class=\"data row6 col0\" >Exp 6: ReLU</td>\n",
              "      <td id=\"T_94b89_row6_col1\" class=\"data row6 col1\" >2.151200</td>\n",
              "      <td id=\"T_94b89_row6_col2\" class=\"data row6 col2\" >2.918500</td>\n",
              "      <td id=\"T_94b89_row6_col3\" class=\"data row6 col3\" >0.126600</td>\n",
              "    </tr>\n",
              "    <tr>\n",
              "      <th id=\"T_94b89_level0_row7\" class=\"row_heading level0 row7\" >7</th>\n",
              "      <td id=\"T_94b89_row7_col0\" class=\"data row7 col0\" >Exp 7: ReLU + SGD</td>\n",
              "      <td id=\"T_94b89_row7_col1\" class=\"data row7 col1\" >2.093500</td>\n",
              "      <td id=\"T_94b89_row7_col2\" class=\"data row7 col2\" >2.865100</td>\n",
              "      <td id=\"T_94b89_row7_col3\" class=\"data row7 col3\" >0.158200</td>\n",
              "    </tr>\n",
              "  </tbody>\n",
              "</table>\n"
            ],
            "text/plain": [
              "<pandas.io.formats.style.Styler at 0x2a22757aad0>"
            ]
          },
          "metadata": {},
          "output_type": "display_data"
        }
      ],
      "source": [
        "results = [\n",
        "    # Model name, MAE, RMSE, R²\n",
        "    [\"Baseline\", 2.2253, 2.9790, 0.0900],\n",
        "    [\"Exp 1: +Layer\", 2.2774, 3.0379, 0.0536],\n",
        "    [\"Exp 2: +Neurons\", 2.2054, 2.9024, 0.1362],\n",
        "    [\"Exp 3: SGD\", 2.1992, 2.8871, 0.1452],\n",
        "    [\"Exp 4: AdamW\", 2.2488, 2.9492, 0.1081],\n",
        "    [\"Exp 5: Dropout\", 2.2091, 2.9371, 0.1154],\n",
        "    [\"Exp 6: ReLU\", 2.1512, 2.9185, 0.1266],\n",
        "    [\"Exp 7: ReLU + SGD\", 2.0935, 2.8651, 0.1582]\n",
        "]\n",
        "\n",
        "df_results = pd.DataFrame(results, columns=[\"Model\", \"MAE\", \"RMSE\", \"R²\"])\n",
        "styled = style_results(df_results)\n",
        "display(styled)"
      ]
    },
    {
      "cell_type": "markdown",
      "metadata": {},
      "source": [
        "# Baseline\n",
        "\n",
        "O modelo baseline consiste em uma rede neural com duas camadas ocultas, cada uma contendo 120 neurônios, utilizando a função de ativação padrão, o otimizador Adam e sem Dropout. Ele obteve um MAE de 2.2253, RMSE de 2.9790 e um R² de 0.0900. Esses valores indicam uma performance inicial razoável, mas com espaço para melhorias tanto na precisão quanto na capacidade de explicação (R²)."
      ]
    },
    {
      "cell_type": "markdown",
      "metadata": {},
      "source": [
        "# Experimento 1: +Layer\n",
        "\n",
        "Neste experimento, foi adicionada uma terceira camada oculta com 120 neurônios, aumentando a profundidade da rede. A intenção era permitir a captura de padrões mais complexos nos dados. No entanto, o desempenho piorou: o MAE aumentou para 2.2774, o RMSE para 3.0379, e o R² caiu para 0.0536. Isso sugere que a rede mais profunda pode ter levado a overfitting ou dificultado a convergência do treinamento, sem benefícios claros na generalização."
      ]
    },
    {
      "cell_type": "markdown",
      "metadata": {},
      "source": [
        "# Experimento 2: +Neurons\n",
        "\n",
        "Aqui, as duas camadas ocultas do modelo baseline foram mantidas, mas o número de neurônios em cada uma foi aumentado de 120 para 256 neurônios. O objetivo foi dar à rede maior capacidade de representação. Os resultados mostraram leve melhora: MAE caiu para 2.2054, RMSE para 2.9024 e R² subiu para 0.1362. A alteração aumentou a flexibilidade do modelo sem os prejuízos observados na adição de uma camada extra, o que mostra que mais neurônios foi mais benéfico do que mais camadas."
      ]
    },
    {
      "cell_type": "markdown",
      "metadata": {},
      "source": [
        "# Experimento 3: SGD\n",
        "\n",
        "Neste experimento, foi mantida a arquitetura original do baseline, mas o otimizador Adam foi substituído por SGD (Stochastic Gradient Descent), com momentum igual a 0.9 e weight decay. Essa mudança busca testar um método de otimização mais simples, porém mais controlado. O modelo obteve melhorias: MAE de 2.1992, RMSE de 2.8871 e R² de 0.1452. Isso mostra que o SGD teve melhor desempenho na generalização, talvez por evitar os saltos maiores que o Adam pode provocar em algumas situações."
      ]
    },
    {
      "cell_type": "markdown",
      "metadata": {},
      "source": [
        "# Experimento 4: AdamW\n",
        "\n",
        "A arquitetura original foi mantida, mas o otimizador Adam foi substituído pelo AdamW, que aplica regularização de maneira diferente (usando weight decay desacoplado do gradiente). O desempenho foi ligeiramente melhor que o baseline (MAE = 2.2488, RMSE = 2.9492, R² = 0.1081), mas inferior ao do SGD. Isso indica que, para esse conjunto de dados, o AdamW não trouxe ganhos significativos em relação ao Adam."
      ]
    },
    {
      "cell_type": "markdown",
      "metadata": {},
      "source": [
        "# Experimento 5: Dropout\n",
        "\n",
        "Foi introduzido Dropout com taxa de 0.2 nas camadas ocultas da arquitetura do baseline, visando reduzir overfitting. O resultado teve leve melhora: MAE de 2.2091, RMSE de 2.9371 e R² de 0.1154. Isso mostra que o modelo baseline já estava relativamente bem regularizado, e o Dropout trouxe pequeno ganho na estabilidade, mas não foi uma mudança decisiva."
      ]
    },
    {
      "cell_type": "markdown",
      "metadata": {},
      "source": [
        "# Experimento 6: ReLU\n",
        "\n",
        "Neste experimento, a arquitetura e os demais parâmetros foram mantidos, mas foi substituída a função de ativação padrão por ReLU (Rectified Linear Unit), entre as camadas. O desempenho melhorou: MAE caiu para 2.1512, e RMSE para 2.9185 e R² subiu para 0.1266. Isso sugere que a ReLU, ao introduzir a não linearidade ao sistema, facilitou o aprendizado e permitiu melhor extração de características."
      ]
    },
    {
      "cell_type": "markdown",
      "metadata": {},
      "source": [
        "# Experimento 7: ReLU + SGD\n",
        "\n",
        "Este experimento combinou duas melhorias anteriores: a função de ativação ReLU e o otimizador SGD, mantendo a arquitetura original do baseline. O resultado foi o melhor entre todos os modelos testados: MAE de 2.0935, RMSE de 2.8651 e R² de 0.1582. Essa combinação tirou o melhor proveito da arquitetura original, mostrando que ajustes nos componentes do modelo (função de ativação e otimizador) foram mais impactantes do que mudanças estruturais."
      ]
    }
  ],
  "metadata": {
    "colab": {
      "provenance": []
    },
    "kernelspec": {
      "display_name": "Python 3",
      "name": "python3"
    },
    "language_info": {
      "codemirror_mode": {
        "name": "ipython",
        "version": 3
      },
      "file_extension": ".py",
      "mimetype": "text/x-python",
      "name": "python",
      "nbconvert_exporter": "python",
      "pygments_lexer": "ipython3",
      "version": "3.13.3"
    }
  },
  "nbformat": 4,
  "nbformat_minor": 0
}
