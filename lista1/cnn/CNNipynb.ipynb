{
  "cells": [
    {
      "cell_type": "markdown",
      "metadata": {
        "id": "9Z2REhZOI6_5"
      },
      "source": [
        "# IF867 - Introdução à Aprendizagem Profunda\n",
        "## 1ª atividade prática - 2025.1\n",
        "\n",
        "Discente(s):\n",
        "- Ana Sofia Lima (asosl)\n",
        "- João Vitor Mergulhão (jvlm2)\n",
        "\n",
        "## Instruções e requisitos\n",
        "- Objetivo: Implementar e treinar um Multi-Layer Perceptron e uma Rede Neural Convolucional, inteiramente em PyTorch.\n",
        "- Observação: A atividade pode ser feita em dupla.\n",
        "\n",
        "## Tarefa\n",
        "\n",
        "- Rede Neural Convolucional (CNN) (50% da nota):\n",
        "  - Implementação: Proponha e construa sua própria arquitetura de CNN.\n",
        "  - Implemente funções para o treinamento e avaliação do modelo.\n",
        "  - Métricas e Análise:\n",
        "    - Registre o tempo de treinamento de cada configuração.\n",
        "    - Gere e apresente a matriz de confusão para os resultados da classificação.\n",
        "    - Plote gráficos da função de loss e da acurácia ao longo das épocas de treinamento.\n",
        "  - Experimentação:\n",
        "    - Aplique e avalie técnicas de regularização (ex: Dropout, Batch Normalization).\n",
        "    - Implemente e analise o Grad-CAM para visualização e interpretabilidade.\n",
        "    - Explore outras técnicas relevantes para otimização ou análise de CNNs.\n",
        "  - Relatório: Documente no notebook os experimentos realizados, as configurações utilizadas e os resultados obtidos, analisando o impacto de cada alteração."
      ]
    },
    {
      "cell_type": "markdown",
      "metadata": {
        "id": "u6WGRDnR4QDG"
      },
      "source": [
        "O dataset escolhido foi o CIFAR10:\n",
        "- Imagens 32x32\n",
        "- composto por 10 classes"
      ]
    },
    {
      "cell_type": "markdown",
      "metadata": {
        "id": "p_mKdETU-HYT"
      },
      "source": [
        "## Imports"
      ]
    },
    {
      "cell_type": "code",
      "execution_count": null,
      "metadata": {},
      "outputs": [],
      "source": [
        "!pip install torchcam\n",
        "!pip install opencv-python"
      ]
    },
    {
      "cell_type": "code",
      "execution_count": 1,
      "metadata": {
        "id": "keRGeepXi04c"
      },
      "outputs": [],
      "source": [
        "import torch\n",
        "from  torch.utils.data import DataLoader, Subset\n",
        "import torch.nn as nn\n",
        "import torch.nn.functional as F\n",
        "import torch.optim as optim\n",
        "from torchcam.methods import GradCAM\n",
        "\n",
        "import torchvision\n",
        "import torchvision.transforms as transforms\n",
        "from torchvision.datasets import CIFAR10\n",
        "\n",
        "import matplotlib.pyplot as plt\n",
        "import numpy as np\n",
        "\n",
        "from sklearn import metrics\n",
        "from sklearn.model_selection import StratifiedShuffleSplit\n",
        "from sklearn.metrics import confusion_matrix, ConfusionMatrixDisplay\n",
        "\n",
        "from tqdm import tqdm\n",
        "\n",
        "import cv2\n",
        "\n",
        "device = torch.device(\"cuda\" if torch.cuda.is_available() else \"cpu\")"
      ]
    },
    {
      "cell_type": "markdown",
      "metadata": {
        "id": "8RTZpNtF-Nac"
      },
      "source": [
        "## Dataset setup"
      ]
    },
    {
      "cell_type": "code",
      "execution_count": 2,
      "metadata": {
        "id": "flg8fTwbiynv"
      },
      "outputs": [],
      "source": [
        "# Define as transformações com data augmentation para o treinamento\n",
        "train_transform = transforms.Compose([\n",
        "    transforms.RandomHorizontalFlip(),\n",
        "    transforms.RandomCrop(32, padding=4),\n",
        "    transforms.ToTensor(),\n",
        "    transforms.Normalize((0.5, 0.5, 0.5), (0.5, 0.5, 0.5))\n",
        "])\n",
        "\n",
        "# Define as transformações sem data augmentation\n",
        "val_test_transform = transforms.Compose([\n",
        "    transforms.ToTensor(),\n",
        "    transforms.Normalize((0.5, 0.5, 0.5), (0.5, 0.5, 0.5))\n",
        "])"
      ]
    },
    {
      "cell_type": "code",
      "execution_count": 3,
      "metadata": {
        "colab": {
          "base_uri": "https://localhost:8080/"
        },
        "id": "M2GRc6UL7XRS",
        "outputId": "b2bba913-2cf8-4dbf-e897-318ff7b306b7"
      },
      "outputs": [],
      "source": [
        "class_names = ['airplane', 'automobile', 'bird', 'cat', 'deer',\n",
        "               'dog', 'frog', 'horse', 'ship', 'truck']\n",
        "\n",
        "train_val_dataset = CIFAR10(root='./data', train=True, download=True, transform=train_transform)\n",
        "train_val_dataset_plain = CIFAR10(root='./data', train=True, download=True, transform=val_test_transform)\n",
        "\n",
        "# Extrai os rótulos\n",
        "targets = np.array(train_val_dataset_plain.targets)\n",
        "\n",
        "# Cria o validador estratificado\n",
        "splitter = StratifiedShuffleSplit(n_splits=1, test_size=0.2, random_state=42)\n",
        "\n",
        "# Gera os índices\n",
        "for train_idx, val_idx in splitter.split(np.zeros(len(targets)), targets):\n",
        "    train_dataset = Subset(train_val_dataset, train_idx)     # com augmentation\n",
        "    val_dataset = Subset(train_val_dataset_plain, val_idx)       # sem augmentation\n",
        "\n",
        "# Dataset de teste também sem augmentation\n",
        "test_dataset = CIFAR10(root='./data', train=False, download=False, transform=val_test_transform)"
      ]
    },
    {
      "cell_type": "code",
      "execution_count": 4,
      "metadata": {
        "id": "_OHK1EZ2XXcX"
      },
      "outputs": [],
      "source": [
        "train_loader = torch.utils.data.DataLoader(dataset=train_dataset, batch_size=32,\n",
        "                                          shuffle = True, num_workers=2)\n",
        "\n",
        "val_loader = torch.utils.data.DataLoader(dataset=val_dataset, batch_size=32,\n",
        "                                          shuffle = False, num_workers=2)\n",
        "\n",
        "test_loader = torch.utils.data.DataLoader(dataset=test_dataset, batch_size=32,\n",
        "                                          shuffle = False, num_workers=2)"
      ]
    },
    {
      "cell_type": "markdown",
      "metadata": {
        "id": "-kXxcL09-s5r"
      },
      "source": [
        "## Data visualization"
      ]
    },
    {
      "cell_type": "code",
      "execution_count": 15,
      "metadata": {
        "id": "asNVauH6itqj"
      },
      "outputs": [],
      "source": [
        "def imshow(img):\n",
        "    img = img / 2 + 0.5     # desnormalizar\n",
        "    npimg = img.numpy()\n",
        "    plt.imshow(np.transpose(npimg, (1, 2, 0)))\n",
        "    plt.axis('off')"
      ]
    },
    {
      "cell_type": "code",
      "execution_count": 17,
      "metadata": {
        "colab": {
          "base_uri": "https://localhost:8080/",
          "height": 429
        },
        "id": "dqCsSENY8mWB",
        "outputId": "d4075bc6-fb8e-44da-e6f7-59e2886509da"
      },
      "outputs": [
        {
          "data": {
            "image/png": "[encoded data removed]",
            "text/plain": [
              "<Figure size 1200x500 with 10 Axes>"
            ]
          },
          "metadata": {},
          "output_type": "display_data"
        }
      ],
      "source": [
        "classes = test_dataset.classes\n",
        "\n",
        "# Encontrar uma imagem de cada classe\n",
        "images_per_class = {}\n",
        "# Itera sobre o dataset até encontrar uma imagem para cada uma das 10 classes\n",
        "for img, label in test_dataset:\n",
        "    class_name = classes[label]\n",
        "    if class_name not in images_per_class:\n",
        "        images_per_class[class_name] = img\n",
        "    # Para de procurar quando já tiver uma imagem de cada classe\n",
        "    if len(images_per_class) == len(classes):\n",
        "        break\n",
        "\n",
        "# Criar uma figura para exibir as imagens\n",
        "fig = plt.figure(figsize=(12, 5))\n",
        "\n",
        "# Exibe uma imagem para cada classe\n",
        "for i, class_name in enumerate(classes):\n",
        "    ax = fig.add_subplot(2, 5, i + 1) # Cria uma grade 2x5 de subplots\n",
        "    ax.set_title(class_name)\n",
        "    imshow(images_per_class[class_name])\n",
        "\n",
        "plt.show()"
      ]
    },
    {
      "cell_type": "markdown",
      "metadata": {
        "id": "u-RSOuAVDseh"
      },
      "source": [
        "## Evaluation Functions"
      ]
    },
    {
      "cell_type": "code",
      "execution_count": 55,
      "metadata": {
        "id": "jRfH4sk5ZOgz"
      },
      "outputs": [],
      "source": [
        "def evaluate(net, loader, loss_function):\n",
        "    net.eval()\n",
        "    val_loss = 0.0\n",
        "    with torch.no_grad():\n",
        "        for images, labels in loader:\n",
        "            images = images.to(device)\n",
        "            labels = labels.to(device)\n",
        "            outputs = net(images)\n",
        "            loss = loss_function(outputs, labels)\n",
        "            val_loss += loss.item()\n",
        "    net.train()\n",
        "    return val_loss / len(loader)"
      ]
    },
    {
      "cell_type": "code",
      "execution_count": 72,
      "metadata": {
        "id": "NpQkA9sGRKJG"
      },
      "outputs": [],
      "source": [
        "def plotTrainVal(train_loss, val_loss, train_acc, val_acc):\n",
        "    fig, axes = plt.subplots(1, 2, figsize=(12, 5))\n",
        "\n",
        "    # Gráfico de Loss\n",
        "    axes[0].plot(train_loss, label='Treinamento')\n",
        "    axes[0].plot(val_loss, label='Validação')\n",
        "    axes[0].set_title('Loss por Época')\n",
        "    axes[0].set_xlabel('Época')\n",
        "    axes[0].set_ylabel('Loss')\n",
        "    axes[0].legend()\n",
        "    axes[0].grid(True)\n",
        "\n",
        "    # Gráfico de Acurácia\n",
        "    axes[1].plot(train_acc, label='Treinamento')\n",
        "    axes[1].plot(val_acc, label='Validação')\n",
        "    axes[1].set_title('Acurácia por Época')\n",
        "    axes[1].set_xlabel('Época')\n",
        "    axes[1].set_ylabel('Acurácia')\n",
        "    axes[1].legend()\n",
        "    axes[1].grid(True)\n",
        "\n",
        "    plt.tight_layout()\n",
        "    plt.show()"
      ]
    },
    {
      "cell_type": "code",
      "execution_count": 56,
      "metadata": {
        "id": "yVUhkRjVUOuA"
      },
      "outputs": [],
      "source": [
        "def get_scores(targets, predictions):\n",
        "    return {\n",
        "        \"accuracy\": metrics.accuracy_score(targets, predictions),\n",
        "        \"balanced_accuracy\": metrics.balanced_accuracy_score(targets, predictions),\n",
        "        \"precision\": metrics.precision_score(targets, predictions, average=\"weighted\"),\n",
        "        \"recall\": metrics.recall_score(targets, predictions, average=\"weighted\"),\n",
        "        \"f1_score\": metrics.f1_score(targets, predictions, average=\"weighted\")\n",
        "    }"
      ]
    },
    {
      "cell_type": "code",
      "execution_count": 57,
      "metadata": {
        "id": "ipvsVq5uEPMS"
      },
      "outputs": [],
      "source": [
        "def makePredictions(net, test_loader):\n",
        "  net.eval()\n",
        "  predictions = []\n",
        "  labels = []\n",
        "  for images, label in test_loader:\n",
        "    images = images.to(device)\n",
        "    label = label.to(device)\n",
        "\n",
        "    output = net(images)\n",
        "    _, predicted = torch.max(output,1)\n",
        "\n",
        "    predictions.extend(predicted.cpu().numpy())\n",
        "    labels.extend(label.cpu().numpy())\n",
        "\n",
        "  return labels, predictions"
      ]
    },
    {
      "cell_type": "markdown",
      "metadata": {
        "id": "Q3TGE1TEDopF"
      },
      "source": [
        "## CNN Definition"
      ]
    },
    {
      "cell_type": "markdown",
      "metadata": {},
      "source": [
        "A arquitetura base para o projeto é uma versão simplificada da VGG. Com todos os kernels das convoluções com dimensão 3x3 e paddings = 1.\n",
        "\n",
        "Também há a possibilidade de adicionar dropout nas camadas lineares e batch normalization entre as convoluções.\n",
        "\n",
        "Detalhamento:\n",
        "\n",
        "- Bloco 1:\n",
        "    - Conv2d (3 -> 64)\n",
        "    - ReLU\n",
        "    - MaxPool2d(2, 2)\n",
        "- Bloco 2:\n",
        "    - Conv2d(64 → 128)\n",
        "    - ReLU\n",
        "    - Conv2d(128 → 128)\n",
        "    - ReLU\n",
        "    - MaxPool2d(2, 2)\n",
        "- Bloco 3:\n",
        "    - Conv2d(128 → 256)\n",
        "    - ReLU\n",
        "    - Conv2d(256 → 256)\n",
        "    - ReLU\n",
        "    - MaxPool2d(2, 2)\n",
        "\n",
        "- Classificador:\n",
        "    - Linear (4096 -> 128)\n",
        "    - Relu\n",
        "    - Linear (128 -> 64)\n",
        "    - Relu\n",
        "    - Linear (64 -> 10)"
      ]
    },
    {
      "cell_type": "code",
      "execution_count": 6,
      "metadata": {
        "id": "k1xss6wU9jF3"
      },
      "outputs": [],
      "source": [
        "#Definir arquitetura da rede\n",
        "\n",
        "# bloco convolucional -> convoluções seguidas de um max pool\n",
        "def conv_block(num_convs, out_channels, batch_norm=False):\n",
        "    layers = []\n",
        "    for _ in range(num_convs):\n",
        "        layers.append(nn.LazyConv2d(out_channels, kernel_size=3, padding=1))\n",
        "\n",
        "        # BatchNorm após convolução\n",
        "        if batch_norm:\n",
        "          layers.append(nn.LazyBatchNorm2d())\n",
        "\n",
        "        layers.append(nn.ReLU())\n",
        "\n",
        "    layers.append(nn.MaxPool2d(kernel_size=2, stride=2))\n",
        "    return nn.Sequential(*layers)\n",
        "\n",
        "class CNN(nn.Module):\n",
        "    def __init__(self, arch, num_classes=10, batch_norm=False, dropout=0.0):\n",
        "        super().__init__()\n",
        "\n",
        "        # camadas de convolução -> extração de features\n",
        "        conv_blks = []\n",
        "        for (num_convs, out_channels) in arch:\n",
        "            conv_blks.append(conv_block(num_convs, out_channels, batch_norm))\n",
        "\n",
        "        self.feature_extractor = nn.Sequential(*conv_blks)\n",
        "\n",
        "        # Calcular a dimensão da saída do feature extractor automaticamente\n",
        "        with torch.no_grad():\n",
        "            dummy_input = torch.zeros(1, 3, 32, 32)\n",
        "            dummy_output = self.feature_extractor(dummy_input)\n",
        "            flattened_size = dummy_output.view(1, -1).shape[1]  # total de features\n",
        "\n",
        "        # camadas completamente conectadas -> classificação\n",
        "        self.classifier = nn.Sequential(\n",
        "            nn.Flatten(),\n",
        "            nn.Linear(flattened_size, 128),\n",
        "            nn.ReLU(),\n",
        "            nn.Dropout(p=dropout),\n",
        "            nn.Linear(128, 64),\n",
        "            nn.ReLU(),\n",
        "            nn.Dropout(p=dropout),\n",
        "            nn.Linear(64, num_classes)\n",
        "        )\n",
        "\n",
        "    def forward(self, x):\n",
        "        x = self.feature_extractor(x)\n",
        "        x = self.classifier(x)\n",
        "        return x\n"
      ]
    },
    {
      "cell_type": "markdown",
      "metadata": {
        "id": "aNzlsyYYZK35"
      },
      "source": [
        "## Train Loop"
      ]
    },
    {
      "cell_type": "code",
      "execution_count": 51,
      "metadata": {
        "id": "_uBREXymM9fA"
      },
      "outputs": [],
      "source": [
        "device = torch.device(\"cuda\" if torch.cuda.is_available() else \"cpu\")\n",
        "\n",
        "def train_model(net, train_loader, val_loader, criterion, optimizer, device, num_epochs=20, patience=3):\n",
        "    net.to(device)\n",
        "\n",
        "    train_losses = []\n",
        "    val_losses = []\n",
        "\n",
        "    train_acc = []\n",
        "    val_acc = []\n",
        "\n",
        "    best_loss = float('inf')\n",
        "    best_model_state = None\n",
        "    patience_counter = 0\n",
        "\n",
        "    for epoch in tqdm(range(num_epochs)):\n",
        "        net.train()\n",
        "        epoch_loss = 0.0\n",
        "        train_correct = 0\n",
        "        train_total = 0\n",
        "\n",
        "        for i, (inputs, labels) in enumerate(train_loader, 0):\n",
        "            inputs, labels = inputs.to(device), labels.to(device)\n",
        "\n",
        "            train_total += 1\n",
        "\n",
        "            optimizer.zero_grad()\n",
        "            outputs = net(inputs)\n",
        "            loss = criterion(outputs, labels)\n",
        "            loss.backward()\n",
        "            optimizer.step()\n",
        "\n",
        "            epoch_loss += loss.item()\n",
        "            _, preds = torch.max(outputs, 1)\n",
        "            train_correct += (preds == labels).sum().item()     \n",
        "\n",
        "            if (i + 1) % 1000 == 0:\n",
        "              tqdm.write(f'Epoch {epoch + 1}/{num_epochs}, Step {i + 1}/{len(train_loader)}, Loss: {loss:.4f}')\n",
        "\n",
        "        avg_train_loss = epoch_loss / len(train_loader)\n",
        "        train_losses.append(epoch_loss / len(train_loader))\n",
        "        train_acc.append(train_correct / train_total)\n",
        "\n",
        "        # Validação\n",
        "        net.eval()\n",
        "        val_loss = 0.0\n",
        "        with torch.no_grad():\n",
        "            val_correct = 0\n",
        "            val_total = 0\n",
        "\n",
        "            for inputs, labels in val_loader:\n",
        "                val_total += 1\n",
        "                inputs, labels = inputs.to(device), labels.to(device)\n",
        "                outputs = net(inputs)\n",
        "                loss = criterion(outputs, labels)\n",
        "                val_loss += loss.item()\n",
        "                _, preds = torch.max(outputs, 1)\n",
        "                val_correct += (preds == labels).sum().item()\n",
        "\n",
        "        avg_val_loss = val_loss / len(val_loader)\n",
        "        val_losses.append(avg_val_loss)\n",
        "        val_acc.append(val_correct / val_total)\n",
        "\n",
        "        tqdm.write(f'Epoch {epoch+1} completed. Train Loss: {avg_train_loss:.4f} | Val Loss: {avg_val_loss:.4f}')\n",
        "\n",
        "        # Early stopping\n",
        "        if avg_val_loss < best_loss:\n",
        "            best_loss = avg_val_loss\n",
        "            best_model_state = net.state_dict()\n",
        "            patience_counter = 0\n",
        "        else:\n",
        "            patience_counter += 1\n",
        "            if patience_counter >= patience:\n",
        "                tqdm.write(f\"Early stopping at epoch {epoch+1}\")\n",
        "                break\n",
        "\n",
        "    # Restaura melhor modelo encontrado\n",
        "    if best_model_state is not None:\n",
        "        net.load_state_dict(best_model_state)\n",
        "\n",
        "    return net, train_losses, val_losses, train_acc, val_acc"
      ]
    },
    {
      "cell_type": "markdown",
      "metadata": {
        "id": "gdX5gFtUD6MK"
      },
      "source": [
        "## Experiment 1"
      ]
    },
    {
      "cell_type": "markdown",
      "metadata": {},
      "source": [
        "Modelo treinado sem nenhuma técnica de regularização"
      ]
    },
    {
      "cell_type": "markdown",
      "metadata": {},
      "source": [
        " | Métrica              | Valor     |\n",
        "|----------------------|-----------|\n",
        "| Acurácia             | 0.821    |\n",
        "| Acurácia Balanceada  | 0.821    |\n",
        "| Precisão             | 0.8209    |\n",
        "| Recal                | 0.821   |\n",
        "| F1-Score             | 0.8199    |"
      ]
    },
    {
      "cell_type": "markdown",
      "metadata": {},
      "source": [
        "- Treinou por 27 épocas até o early stopping\n",
        "- 7 minutos e 34 segundos -> média de 16,8 s por época"
      ]
    },
    {
      "cell_type": "code",
      "execution_count": 40,
      "metadata": {
        "id": "ffBpTEJxEjt8"
      },
      "outputs": [],
      "source": [
        "# Hiperparâmetros\n",
        "arch=((1, 64),\n",
        "      (2, 128),\n",
        "      (2, 256))\n",
        "\n",
        "batch_size = 32\n",
        "learning_rate = 1e-3\n",
        "dropout = 0\n",
        "batch_norm = False\n",
        "num_epochs=40\n",
        "patience=5"
      ]
    },
    {
      "cell_type": "code",
      "execution_count": 42,
      "metadata": {
        "id": "E0ys4qEuiu2r"
      },
      "outputs": [],
      "source": [
        "#instancia a rede\n",
        "net = CNN(arch=((1, 64), (2, 128), (2, 256)))\n",
        "net.to(device)\n",
        "\n",
        "#função de perda (loss)\n",
        "criterion = nn.CrossEntropyLoss()\n",
        "\n",
        "#otimizador\n",
        "optimizer = optim.Adam(net.parameters(), lr=learning_rate)"
      ]
    },
    {
      "cell_type": "code",
      "execution_count": 52,
      "metadata": {
        "colab": {
          "base_uri": "https://localhost:8080/"
        },
        "id": "lFN8i4PqkHkI",
        "outputId": "a53c698a-207d-4cf3-c029-ab6c8a8f0b6b"
      },
      "outputs": [
        {
          "name": "stderr",
          "output_type": "stream",
          "text": [
            "  0%|          | 0/40 [00:11<?, ?it/s]"
          ]
        },
        {
          "name": "stdout",
          "output_type": "stream",
          "text": [
            "Epoch 1/40, Step 1000/1250, Loss: 0.9510\n"
          ]
        },
        {
          "name": "stderr",
          "output_type": "stream",
          "text": [
            "  2%|▎         | 1/40 [00:16<10:57, 16.85s/it]"
          ]
        },
        {
          "name": "stdout",
          "output_type": "stream",
          "text": [
            "Epoch 1 completed. Train Loss: 1.0422 | Val Loss: 0.9584\n"
          ]
        },
        {
          "name": "stderr",
          "output_type": "stream",
          "text": [
            "  2%|▎         | 1/40 [00:28<10:57, 16.85s/it]"
          ]
        },
        {
          "name": "stdout",
          "output_type": "stream",
          "text": [
            "Epoch 2/40, Step 1000/1250, Loss: 0.7830\n"
          ]
        },
        {
          "name": "stderr",
          "output_type": "stream",
          "text": [
            "  5%|▌         | 2/40 [00:34<10:47, 17.03s/it]"
          ]
        },
        {
          "name": "stdout",
          "output_type": "stream",
          "text": [
            "Epoch 2 completed. Train Loss: 0.9448 | Val Loss: 0.9087\n"
          ]
        },
        {
          "name": "stderr",
          "output_type": "stream",
          "text": [
            "  5%|▌         | 2/40 [00:45<10:47, 17.03s/it]"
          ]
        },
        {
          "name": "stdout",
          "output_type": "stream",
          "text": [
            "Epoch 3/40, Step 1000/1250, Loss: 0.8073\n"
          ]
        },
        {
          "name": "stderr",
          "output_type": "stream",
          "text": [
            "  8%|▊         | 3/40 [00:50<10:28, 16.98s/it]"
          ]
        },
        {
          "name": "stdout",
          "output_type": "stream",
          "text": [
            "Epoch 3 completed. Train Loss: 0.8744 | Val Loss: 0.8644\n"
          ]
        },
        {
          "name": "stderr",
          "output_type": "stream",
          "text": [
            "  8%|▊         | 3/40 [01:03<10:28, 16.98s/it]"
          ]
        },
        {
          "name": "stdout",
          "output_type": "stream",
          "text": [
            "Epoch 4/40, Step 1000/1250, Loss: 0.8950\n"
          ]
        },
        {
          "name": "stderr",
          "output_type": "stream",
          "text": [
            " 10%|█         | 4/40 [01:08<10:19, 17.20s/it]"
          ]
        },
        {
          "name": "stdout",
          "output_type": "stream",
          "text": [
            "Epoch 4 completed. Train Loss: 0.8171 | Val Loss: 0.7509\n"
          ]
        },
        {
          "name": "stderr",
          "output_type": "stream",
          "text": [
            " 10%|█         | 4/40 [01:19<10:19, 17.20s/it]"
          ]
        },
        {
          "name": "stdout",
          "output_type": "stream",
          "text": [
            "Epoch 5/40, Step 1000/1250, Loss: 0.6014\n"
          ]
        },
        {
          "name": "stderr",
          "output_type": "stream",
          "text": [
            " 12%|█▎        | 5/40 [01:25<09:55, 17.03s/it]"
          ]
        },
        {
          "name": "stdout",
          "output_type": "stream",
          "text": [
            "Epoch 5 completed. Train Loss: 0.7696 | Val Loss: 0.7386\n"
          ]
        },
        {
          "name": "stderr",
          "output_type": "stream",
          "text": [
            " 12%|█▎        | 5/40 [01:35<09:55, 17.03s/it]"
          ]
        },
        {
          "name": "stdout",
          "output_type": "stream",
          "text": [
            "Epoch 6/40, Step 1000/1250, Loss: 0.5506\n"
          ]
        },
        {
          "name": "stderr",
          "output_type": "stream",
          "text": [
            " 15%|█▌        | 6/40 [01:41<09:26, 16.66s/it]"
          ]
        },
        {
          "name": "stdout",
          "output_type": "stream",
          "text": [
            "Epoch 6 completed. Train Loss: 0.7351 | Val Loss: 0.7107\n"
          ]
        },
        {
          "name": "stderr",
          "output_type": "stream",
          "text": [
            " 15%|█▌        | 6/40 [01:53<09:26, 16.66s/it]"
          ]
        },
        {
          "name": "stdout",
          "output_type": "stream",
          "text": [
            "Epoch 7/40, Step 1000/1250, Loss: 0.7036\n"
          ]
        },
        {
          "name": "stderr",
          "output_type": "stream",
          "text": [
            " 18%|█▊        | 7/40 [01:58<09:15, 16.85s/it]"
          ]
        },
        {
          "name": "stdout",
          "output_type": "stream",
          "text": [
            "Epoch 7 completed. Train Loss: 0.6975 | Val Loss: 0.7040\n"
          ]
        },
        {
          "name": "stderr",
          "output_type": "stream",
          "text": [
            " 18%|█▊        | 7/40 [02:10<09:15, 16.85s/it]"
          ]
        },
        {
          "name": "stdout",
          "output_type": "stream",
          "text": [
            "Epoch 8/40, Step 1000/1250, Loss: 0.6898\n"
          ]
        },
        {
          "name": "stderr",
          "output_type": "stream",
          "text": [
            " 20%|██        | 8/40 [02:15<08:59, 16.86s/it]"
          ]
        },
        {
          "name": "stdout",
          "output_type": "stream",
          "text": [
            "Epoch 8 completed. Train Loss: 0.6648 | Val Loss: 0.6870\n"
          ]
        },
        {
          "name": "stderr",
          "output_type": "stream",
          "text": [
            " 20%|██        | 8/40 [02:27<08:59, 16.86s/it]"
          ]
        },
        {
          "name": "stdout",
          "output_type": "stream",
          "text": [
            "Epoch 9/40, Step 1000/1250, Loss: 0.7793\n"
          ]
        },
        {
          "name": "stderr",
          "output_type": "stream",
          "text": [
            " 22%|██▎       | 9/40 [02:32<08:44, 16.92s/it]"
          ]
        },
        {
          "name": "stdout",
          "output_type": "stream",
          "text": [
            "Epoch 9 completed. Train Loss: 0.6421 | Val Loss: 0.6519\n"
          ]
        },
        {
          "name": "stderr",
          "output_type": "stream",
          "text": [
            " 22%|██▎       | 9/40 [02:43<08:44, 16.92s/it]"
          ]
        },
        {
          "name": "stdout",
          "output_type": "stream",
          "text": [
            "Epoch 10/40, Step 1000/1250, Loss: 0.5260\n"
          ]
        },
        {
          "name": "stderr",
          "output_type": "stream",
          "text": [
            " 25%|██▌       | 10/40 [02:48<08:25, 16.85s/it]"
          ]
        },
        {
          "name": "stdout",
          "output_type": "stream",
          "text": [
            "Epoch 10 completed. Train Loss: 0.6228 | Val Loss: 0.6576\n"
          ]
        },
        {
          "name": "stderr",
          "output_type": "stream",
          "text": [
            " 25%|██▌       | 10/40 [02:59<08:25, 16.85s/it]"
          ]
        },
        {
          "name": "stdout",
          "output_type": "stream",
          "text": [
            "Epoch 11/40, Step 1000/1250, Loss: 0.6522\n"
          ]
        },
        {
          "name": "stderr",
          "output_type": "stream",
          "text": [
            " 28%|██▊       | 11/40 [03:05<08:03, 16.68s/it]"
          ]
        },
        {
          "name": "stdout",
          "output_type": "stream",
          "text": [
            "Epoch 11 completed. Train Loss: 0.6035 | Val Loss: 0.6343\n"
          ]
        },
        {
          "name": "stderr",
          "output_type": "stream",
          "text": [
            " 28%|██▊       | 11/40 [03:16<08:03, 16.68s/it]"
          ]
        },
        {
          "name": "stdout",
          "output_type": "stream",
          "text": [
            "Epoch 12/40, Step 1000/1250, Loss: 0.7405\n"
          ]
        },
        {
          "name": "stderr",
          "output_type": "stream",
          "text": [
            " 30%|███       | 12/40 [03:21<07:45, 16.63s/it]"
          ]
        },
        {
          "name": "stdout",
          "output_type": "stream",
          "text": [
            "Epoch 12 completed. Train Loss: 0.5838 | Val Loss: 0.6370\n"
          ]
        },
        {
          "name": "stderr",
          "output_type": "stream",
          "text": [
            " 30%|███       | 12/40 [03:33<07:45, 16.63s/it]"
          ]
        },
        {
          "name": "stdout",
          "output_type": "stream",
          "text": [
            "Epoch 13/40, Step 1000/1250, Loss: 0.6881\n"
          ]
        },
        {
          "name": "stderr",
          "output_type": "stream",
          "text": [
            " 32%|███▎      | 13/40 [03:38<07:30, 16.68s/it]"
          ]
        },
        {
          "name": "stdout",
          "output_type": "stream",
          "text": [
            "Epoch 13 completed. Train Loss: 0.5732 | Val Loss: 0.6556\n"
          ]
        },
        {
          "name": "stderr",
          "output_type": "stream",
          "text": [
            " 32%|███▎      | 13/40 [03:50<07:30, 16.68s/it]"
          ]
        },
        {
          "name": "stdout",
          "output_type": "stream",
          "text": [
            "Epoch 14/40, Step 1000/1250, Loss: 0.8196\n"
          ]
        },
        {
          "name": "stderr",
          "output_type": "stream",
          "text": [
            " 35%|███▌      | 14/40 [03:55<07:13, 16.69s/it]"
          ]
        },
        {
          "name": "stdout",
          "output_type": "stream",
          "text": [
            "Epoch 14 completed. Train Loss: 0.5565 | Val Loss: 0.6119\n"
          ]
        },
        {
          "name": "stderr",
          "output_type": "stream",
          "text": [
            " 35%|███▌      | 14/40 [04:07<07:13, 16.69s/it]"
          ]
        },
        {
          "name": "stdout",
          "output_type": "stream",
          "text": [
            "Epoch 15/40, Step 1000/1250, Loss: 0.5077\n"
          ]
        },
        {
          "name": "stderr",
          "output_type": "stream",
          "text": [
            " 38%|███▊      | 15/40 [04:12<07:04, 16.97s/it]"
          ]
        },
        {
          "name": "stdout",
          "output_type": "stream",
          "text": [
            "Epoch 15 completed. Train Loss: 0.5483 | Val Loss: 0.6113\n"
          ]
        },
        {
          "name": "stderr",
          "output_type": "stream",
          "text": [
            " 38%|███▊      | 15/40 [04:25<07:04, 16.97s/it]"
          ]
        },
        {
          "name": "stdout",
          "output_type": "stream",
          "text": [
            "Epoch 16/40, Step 1000/1250, Loss: 0.7678\n"
          ]
        },
        {
          "name": "stderr",
          "output_type": "stream",
          "text": [
            " 40%|████      | 16/40 [04:30<06:49, 17.07s/it]"
          ]
        },
        {
          "name": "stdout",
          "output_type": "stream",
          "text": [
            "Epoch 16 completed. Train Loss: 0.5284 | Val Loss: 0.6108\n"
          ]
        },
        {
          "name": "stderr",
          "output_type": "stream",
          "text": [
            " 40%|████      | 16/40 [04:41<06:49, 17.07s/it]"
          ]
        },
        {
          "name": "stdout",
          "output_type": "stream",
          "text": [
            "Epoch 17/40, Step 1000/1250, Loss: 0.3417\n"
          ]
        },
        {
          "name": "stderr",
          "output_type": "stream",
          "text": [
            " 42%|████▎     | 17/40 [04:47<06:32, 17.06s/it]"
          ]
        },
        {
          "name": "stdout",
          "output_type": "stream",
          "text": [
            "Epoch 17 completed. Train Loss: 0.5175 | Val Loss: 0.6161\n"
          ]
        },
        {
          "name": "stderr",
          "output_type": "stream",
          "text": [
            " 42%|████▎     | 17/40 [04:58<06:32, 17.06s/it]"
          ]
        },
        {
          "name": "stdout",
          "output_type": "stream",
          "text": [
            "Epoch 18/40, Step 1000/1250, Loss: 0.3420\n"
          ]
        },
        {
          "name": "stderr",
          "output_type": "stream",
          "text": [
            " 45%|████▌     | 18/40 [05:03<06:10, 16.82s/it]"
          ]
        },
        {
          "name": "stdout",
          "output_type": "stream",
          "text": [
            "Epoch 18 completed. Train Loss: 0.5063 | Val Loss: 0.6352\n"
          ]
        },
        {
          "name": "stderr",
          "output_type": "stream",
          "text": [
            " 45%|████▌     | 18/40 [05:15<06:10, 16.82s/it]"
          ]
        },
        {
          "name": "stdout",
          "output_type": "stream",
          "text": [
            "Epoch 19/40, Step 1000/1250, Loss: 0.3049\n"
          ]
        },
        {
          "name": "stderr",
          "output_type": "stream",
          "text": [
            " 48%|████▊     | 19/40 [05:20<05:51, 16.73s/it]"
          ]
        },
        {
          "name": "stdout",
          "output_type": "stream",
          "text": [
            "Epoch 19 completed. Train Loss: 0.4971 | Val Loss: 0.6154\n"
          ]
        },
        {
          "name": "stderr",
          "output_type": "stream",
          "text": [
            " 48%|████▊     | 19/40 [05:31<05:51, 16.73s/it]"
          ]
        },
        {
          "name": "stdout",
          "output_type": "stream",
          "text": [
            "Epoch 20/40, Step 1000/1250, Loss: 0.4521\n"
          ]
        },
        {
          "name": "stderr",
          "output_type": "stream",
          "text": [
            " 50%|█████     | 20/40 [05:36<05:34, 16.71s/it]"
          ]
        },
        {
          "name": "stdout",
          "output_type": "stream",
          "text": [
            "Epoch 20 completed. Train Loss: 0.4893 | Val Loss: 0.6035\n"
          ]
        },
        {
          "name": "stderr",
          "output_type": "stream",
          "text": [
            " 50%|█████     | 20/40 [05:48<05:34, 16.71s/it]"
          ]
        },
        {
          "name": "stdout",
          "output_type": "stream",
          "text": [
            "Epoch 21/40, Step 1000/1250, Loss: 0.5463\n"
          ]
        },
        {
          "name": "stderr",
          "output_type": "stream",
          "text": [
            " 52%|█████▎    | 21/40 [05:53<05:16, 16.68s/it]"
          ]
        },
        {
          "name": "stdout",
          "output_type": "stream",
          "text": [
            "Epoch 21 completed. Train Loss: 0.4762 | Val Loss: 0.5916\n"
          ]
        },
        {
          "name": "stderr",
          "output_type": "stream",
          "text": [
            " 52%|█████▎    | 21/40 [06:05<05:16, 16.68s/it]"
          ]
        },
        {
          "name": "stdout",
          "output_type": "stream",
          "text": [
            "Epoch 22/40, Step 1000/1250, Loss: 0.3234\n"
          ]
        },
        {
          "name": "stderr",
          "output_type": "stream",
          "text": [
            " 55%|█████▌    | 22/40 [06:10<05:03, 16.88s/it]"
          ]
        },
        {
          "name": "stdout",
          "output_type": "stream",
          "text": [
            "Epoch 22 completed. Train Loss: 0.4777 | Val Loss: 0.5644\n"
          ]
        },
        {
          "name": "stderr",
          "output_type": "stream",
          "text": [
            " 55%|█████▌    | 22/40 [06:22<05:03, 16.88s/it]"
          ]
        },
        {
          "name": "stdout",
          "output_type": "stream",
          "text": [
            "Epoch 23/40, Step 1000/1250, Loss: 0.2743\n"
          ]
        },
        {
          "name": "stderr",
          "output_type": "stream",
          "text": [
            " 57%|█████▊    | 23/40 [06:27<04:47, 16.90s/it]"
          ]
        },
        {
          "name": "stdout",
          "output_type": "stream",
          "text": [
            "Epoch 23 completed. Train Loss: 0.4633 | Val Loss: 0.5859\n"
          ]
        },
        {
          "name": "stderr",
          "output_type": "stream",
          "text": [
            " 57%|█████▊    | 23/40 [06:38<04:47, 16.90s/it]"
          ]
        },
        {
          "name": "stdout",
          "output_type": "stream",
          "text": [
            "Epoch 24/40, Step 1000/1250, Loss: 0.3776\n"
          ]
        },
        {
          "name": "stderr",
          "output_type": "stream",
          "text": [
            " 60%|██████    | 24/40 [06:43<04:27, 16.74s/it]"
          ]
        },
        {
          "name": "stdout",
          "output_type": "stream",
          "text": [
            "Epoch 24 completed. Train Loss: 0.4536 | Val Loss: 0.5894\n"
          ]
        },
        {
          "name": "stderr",
          "output_type": "stream",
          "text": [
            " 60%|██████    | 24/40 [06:54<04:27, 16.74s/it]"
          ]
        },
        {
          "name": "stdout",
          "output_type": "stream",
          "text": [
            "Epoch 25/40, Step 1000/1250, Loss: 0.7832\n"
          ]
        },
        {
          "name": "stderr",
          "output_type": "stream",
          "text": [
            " 62%|██████▎   | 25/40 [07:00<04:08, 16.60s/it]"
          ]
        },
        {
          "name": "stdout",
          "output_type": "stream",
          "text": [
            "Epoch 25 completed. Train Loss: 0.4451 | Val Loss: 0.5732\n"
          ]
        },
        {
          "name": "stderr",
          "output_type": "stream",
          "text": [
            " 62%|██████▎   | 25/40 [07:11<04:08, 16.60s/it]"
          ]
        },
        {
          "name": "stdout",
          "output_type": "stream",
          "text": [
            "Epoch 26/40, Step 1000/1250, Loss: 0.5959\n"
          ]
        },
        {
          "name": "stderr",
          "output_type": "stream",
          "text": [
            " 65%|██████▌   | 26/40 [07:17<03:54, 16.75s/it]"
          ]
        },
        {
          "name": "stdout",
          "output_type": "stream",
          "text": [
            "Epoch 26 completed. Train Loss: 0.4454 | Val Loss: 0.6221\n"
          ]
        },
        {
          "name": "stderr",
          "output_type": "stream",
          "text": [
            " 65%|██████▌   | 26/40 [07:29<03:54, 16.75s/it]"
          ]
        },
        {
          "name": "stdout",
          "output_type": "stream",
          "text": [
            "Epoch 27/40, Step 1000/1250, Loss: 0.2990\n"
          ]
        },
        {
          "name": "stderr",
          "output_type": "stream",
          "text": [
            " 65%|██████▌   | 26/40 [07:34<04:04, 17.46s/it]"
          ]
        },
        {
          "name": "stdout",
          "output_type": "stream",
          "text": [
            "Epoch 27 completed. Train Loss: 0.4318 | Val Loss: 0.5782\n",
            "Early stopping at epoch 27\n"
          ]
        },
        {
          "name": "stderr",
          "output_type": "stream",
          "text": [
            "\n"
          ]
        }
      ],
      "source": [
        "net, train_losses, val_losses, train_acc, val_acc = train_model(net, \n",
        "                                                                train_loader, \n",
        "                                                                val_loader, \n",
        "                                                                criterion, \n",
        "                                                                optimizer, \n",
        "                                                                device, \n",
        "                                                                num_epochs=num_epochs, \n",
        "                                                                patience=patience)\n",
        "\n",
        "# salvar o modelo treinado\n",
        "torch.save(net.state_dict(), \"best_model_exp1.pth\")"
      ]
    },
    {
      "cell_type": "code",
      "execution_count": 73,
      "metadata": {
        "colab": {
          "base_uri": "https://localhost:8080/",
          "height": 474
        },
        "id": "7aX-rNsNRZAX",
        "outputId": "59d2dbce-6040-4a2f-e625-881542214f16"
      },
      "outputs": [
        {
          "data": {
            "image/png": "[encoded data removed]",
            "text/plain": [
              "<Figure size 1200x500 with 2 Axes>"
            ]
          },
          "metadata": {},
          "output_type": "display_data"
        }
      ],
      "source": [
        "plotTrainVal(train_losses, val_losses, train_acc, val_acc)"
      ]
    },
    {
      "cell_type": "code",
      "execution_count": 63,
      "metadata": {
        "colab": {
          "base_uri": "https://localhost:8080/"
        },
        "id": "nx5PuXc9UkE_",
        "outputId": "a56e1e98-32e5-4b5a-eed6-4fdbadd8c9a6"
      },
      "outputs": [
        {
          "data": {
            "text/plain": [
              "{'accuracy': 0.821,\n",
              " 'balanced_accuracy': 0.8210000000000001,\n",
              " 'precision': 0.820982136221598,\n",
              " 'recall': 0.821,\n",
              " 'f1_score': 0.8199234401769443}"
            ]
          },
          "execution_count": 63,
          "metadata": {},
          "output_type": "execute_result"
        }
      ],
      "source": [
        "targets, predictions = makePredictions(net, test_loader)\n",
        "\n",
        "get_scores(targets, predictions)"
      ]
    },
    {
      "cell_type": "code",
      "execution_count": null,
      "metadata": {
        "colab": {
          "base_uri": "https://localhost:8080/",
          "height": 523
        },
        "id": "_1g8twSQqJFo",
        "outputId": "4422fab0-0885-43e6-d3c6-65d69f2dd08c"
      },
      "outputs": [
        {
          "data": {
            "image/png": "[encoded data removed]",
            "text/plain": [
              "<Figure size 640x480 with 2 Axes>"
            ]
          },
          "metadata": {},
          "output_type": "display_data"
        }
      ],
      "source": [
        "cm = confusion_matrix(targets, predictions)\n",
        "\n",
        "# Plotar a matriz de confusão\n",
        "disp = ConfusionMatrixDisplay(confusion_matrix=cm,\n",
        "                              display_labels=class_names)\n",
        "disp.plot(cmap=plt.cm.Blues, xticks_rotation=45)  # pode mudar o colormap se quiser\n",
        "plt.title(\"Matriz de Confusão\")\n",
        "plt.show()"
      ]
    },
    {
      "cell_type": "markdown",
      "metadata": {},
      "source": [
        "## Experiment 2: Batch Normalization"
      ]
    },
    {
      "cell_type": "markdown",
      "metadata": {},
      "source": [
        "Neste experimento foram realizadas operações de batch normalizations após cada convolução."
      ]
    },
    {
      "cell_type": "markdown",
      "metadata": {},
      "source": [
        "| Métrica              | Valor     |\n",
        "|----------------------|-----------|\n",
        "| Acurácia             | 0.8655    |\n",
        "| Acurácia Balanceada  | 0.8655    |\n",
        "| Precisão             | 0.8687    |\n",
        "| Revocação (Recall)   | 0.8655    |\n",
        "| F1-Score             | 0.8646    |"
      ]
    },
    {
      "cell_type": "markdown",
      "metadata": {},
      "source": [
        "- Treinou por 26 épocas até o early stopping\n",
        "- 6 minutos e 10 segundos -> média de 14,2 s por época"
      ]
    },
    {
      "cell_type": "markdown",
      "metadata": {},
      "source": [
        "Comparação com o experimento anterior:\n",
        "- 15% mais rápido que o treinamento anterior. \n",
        "- Aumento de 4,4% na acurácia.\n",
        "- O treinamento ocorreu de forma mais suave, com menos variação no loss e na acurácia."
      ]
    },
    {
      "cell_type": "code",
      "execution_count": 74,
      "metadata": {},
      "outputs": [],
      "source": [
        "# Hiperparâmetros\n",
        "arch=((1, 64),\n",
        "      (2, 128),\n",
        "      (2, 256))\n",
        "\n",
        "batch_size = 32\n",
        "learning_rate = 1e-3\n",
        "dropout = 0\n",
        "batch_norm = True\n",
        "num_epochs=40\n",
        "patience=5"
      ]
    },
    {
      "cell_type": "code",
      "execution_count": 76,
      "metadata": {},
      "outputs": [],
      "source": [
        "#instancia a rede\n",
        "net = CNN(arch=((1, 64), (2, 128), (2, 256)), batch_norm=batch_norm)\n",
        "net.to(device)\n",
        "\n",
        "#função de perda (loss)\n",
        "criterion = nn.CrossEntropyLoss()\n",
        "\n",
        "#otimizador\n",
        "optimizer = optim.Adam(net.parameters(), lr=learning_rate)"
      ]
    },
    {
      "cell_type": "code",
      "execution_count": 77,
      "metadata": {},
      "outputs": [
        {
          "name": "stderr",
          "output_type": "stream",
          "text": [
            "  0%|          | 0/40 [00:10<?, ?it/s]"
          ]
        },
        {
          "name": "stdout",
          "output_type": "stream",
          "text": [
            "Epoch 1/40, Step 1000/1250, Loss: 1.2488\n"
          ]
        },
        {
          "name": "stderr",
          "output_type": "stream",
          "text": [
            "  2%|▎         | 1/40 [00:15<10:00, 15.39s/it]"
          ]
        },
        {
          "name": "stdout",
          "output_type": "stream",
          "text": [
            "Epoch 1 completed. Train Loss: 1.5265 | Val Loss: 1.2727\n"
          ]
        },
        {
          "name": "stderr",
          "output_type": "stream",
          "text": [
            "  2%|▎         | 1/40 [00:25<10:00, 15.39s/it]"
          ]
        },
        {
          "name": "stdout",
          "output_type": "stream",
          "text": [
            "Epoch 2/40, Step 1000/1250, Loss: 1.3758\n"
          ]
        },
        {
          "name": "stderr",
          "output_type": "stream",
          "text": [
            "  5%|▌         | 2/40 [00:30<09:42, 15.33s/it]"
          ]
        },
        {
          "name": "stdout",
          "output_type": "stream",
          "text": [
            "Epoch 2 completed. Train Loss: 1.1403 | Val Loss: 1.1189\n"
          ]
        },
        {
          "name": "stderr",
          "output_type": "stream",
          "text": [
            "  5%|▌         | 2/40 [00:40<09:42, 15.33s/it]"
          ]
        },
        {
          "name": "stdout",
          "output_type": "stream",
          "text": [
            "Epoch 3/40, Step 1000/1250, Loss: 0.6348\n"
          ]
        },
        {
          "name": "stderr",
          "output_type": "stream",
          "text": [
            "  8%|▊         | 3/40 [00:45<09:20, 15.15s/it]"
          ]
        },
        {
          "name": "stdout",
          "output_type": "stream",
          "text": [
            "Epoch 3 completed. Train Loss: 0.9570 | Val Loss: 0.8680\n"
          ]
        },
        {
          "name": "stderr",
          "output_type": "stream",
          "text": [
            "  8%|▊         | 3/40 [00:55<09:20, 15.15s/it]"
          ]
        },
        {
          "name": "stdout",
          "output_type": "stream",
          "text": [
            "Epoch 4/40, Step 1000/1250, Loss: 0.6200\n"
          ]
        },
        {
          "name": "stderr",
          "output_type": "stream",
          "text": [
            " 10%|█         | 4/40 [01:00<08:56, 14.90s/it]"
          ]
        },
        {
          "name": "stdout",
          "output_type": "stream",
          "text": [
            "Epoch 4 completed. Train Loss: 0.8257 | Val Loss: 0.7605\n"
          ]
        },
        {
          "name": "stderr",
          "output_type": "stream",
          "text": [
            " 10%|█         | 4/40 [01:09<08:56, 14.90s/it]"
          ]
        },
        {
          "name": "stdout",
          "output_type": "stream",
          "text": [
            "Epoch 5/40, Step 1000/1250, Loss: 0.7829\n"
          ]
        },
        {
          "name": "stderr",
          "output_type": "stream",
          "text": [
            " 12%|█▎        | 5/40 [01:14<08:33, 14.66s/it]"
          ]
        },
        {
          "name": "stdout",
          "output_type": "stream",
          "text": [
            "Epoch 5 completed. Train Loss: 0.7413 | Val Loss: 0.7021\n"
          ]
        },
        {
          "name": "stderr",
          "output_type": "stream",
          "text": [
            " 12%|█▎        | 5/40 [01:24<08:33, 14.66s/it]"
          ]
        },
        {
          "name": "stdout",
          "output_type": "stream",
          "text": [
            "Epoch 6/40, Step 1000/1250, Loss: 0.8007\n"
          ]
        },
        {
          "name": "stderr",
          "output_type": "stream",
          "text": [
            " 15%|█▌        | 6/40 [01:28<08:11, 14.47s/it]"
          ]
        },
        {
          "name": "stdout",
          "output_type": "stream",
          "text": [
            "Epoch 6 completed. Train Loss: 0.6674 | Val Loss: 0.6752\n"
          ]
        },
        {
          "name": "stderr",
          "output_type": "stream",
          "text": [
            " 15%|█▌        | 6/40 [01:38<08:11, 14.47s/it]"
          ]
        },
        {
          "name": "stdout",
          "output_type": "stream",
          "text": [
            "Epoch 7/40, Step 1000/1250, Loss: 0.5009\n"
          ]
        },
        {
          "name": "stderr",
          "output_type": "stream",
          "text": [
            " 18%|█▊        | 7/40 [01:42<07:54, 14.38s/it]"
          ]
        },
        {
          "name": "stdout",
          "output_type": "stream",
          "text": [
            "Epoch 7 completed. Train Loss: 0.6126 | Val Loss: 0.5505\n"
          ]
        },
        {
          "name": "stderr",
          "output_type": "stream",
          "text": [
            " 18%|█▊        | 7/40 [01:52<07:54, 14.38s/it]"
          ]
        },
        {
          "name": "stdout",
          "output_type": "stream",
          "text": [
            "Epoch 8/40, Step 1000/1250, Loss: 0.5401\n"
          ]
        },
        {
          "name": "stderr",
          "output_type": "stream",
          "text": [
            " 20%|██        | 8/40 [01:57<07:39, 14.37s/it]"
          ]
        },
        {
          "name": "stdout",
          "output_type": "stream",
          "text": [
            "Epoch 8 completed. Train Loss: 0.5698 | Val Loss: 0.6604\n"
          ]
        },
        {
          "name": "stderr",
          "output_type": "stream",
          "text": [
            " 20%|██        | 8/40 [02:06<07:39, 14.37s/it]"
          ]
        },
        {
          "name": "stdout",
          "output_type": "stream",
          "text": [
            "Epoch 9/40, Step 1000/1250, Loss: 0.7846\n"
          ]
        },
        {
          "name": "stderr",
          "output_type": "stream",
          "text": [
            " 22%|██▎       | 9/40 [02:11<07:23, 14.29s/it]"
          ]
        },
        {
          "name": "stdout",
          "output_type": "stream",
          "text": [
            "Epoch 9 completed. Train Loss: 0.5274 | Val Loss: 0.5263\n"
          ]
        },
        {
          "name": "stderr",
          "output_type": "stream",
          "text": [
            " 22%|██▎       | 9/40 [02:20<07:23, 14.29s/it]"
          ]
        },
        {
          "name": "stdout",
          "output_type": "stream",
          "text": [
            "Epoch 10/40, Step 1000/1250, Loss: 0.5242\n"
          ]
        },
        {
          "name": "stderr",
          "output_type": "stream",
          "text": [
            " 25%|██▌       | 10/40 [02:25<07:07, 14.26s/it]"
          ]
        },
        {
          "name": "stdout",
          "output_type": "stream",
          "text": [
            "Epoch 10 completed. Train Loss: 0.4877 | Val Loss: 0.4986\n"
          ]
        },
        {
          "name": "stderr",
          "output_type": "stream",
          "text": [
            " 25%|██▌       | 10/40 [02:34<07:07, 14.26s/it]"
          ]
        },
        {
          "name": "stdout",
          "output_type": "stream",
          "text": [
            "Epoch 11/40, Step 1000/1250, Loss: 0.2354\n"
          ]
        },
        {
          "name": "stderr",
          "output_type": "stream",
          "text": [
            " 28%|██▊       | 11/40 [02:39<06:50, 14.14s/it]"
          ]
        },
        {
          "name": "stdout",
          "output_type": "stream",
          "text": [
            "Epoch 11 completed. Train Loss: 0.4535 | Val Loss: 0.4891\n"
          ]
        },
        {
          "name": "stderr",
          "output_type": "stream",
          "text": [
            " 28%|██▊       | 11/40 [02:48<06:50, 14.14s/it]"
          ]
        },
        {
          "name": "stdout",
          "output_type": "stream",
          "text": [
            "Epoch 12/40, Step 1000/1250, Loss: 0.4645\n"
          ]
        },
        {
          "name": "stderr",
          "output_type": "stream",
          "text": [
            " 30%|███       | 12/40 [02:53<06:34, 14.10s/it]"
          ]
        },
        {
          "name": "stdout",
          "output_type": "stream",
          "text": [
            "Epoch 12 completed. Train Loss: 0.4300 | Val Loss: 0.4893\n"
          ]
        },
        {
          "name": "stderr",
          "output_type": "stream",
          "text": [
            " 30%|███       | 12/40 [03:02<06:34, 14.10s/it]"
          ]
        },
        {
          "name": "stdout",
          "output_type": "stream",
          "text": [
            "Epoch 13/40, Step 1000/1250, Loss: 0.5127\n"
          ]
        },
        {
          "name": "stderr",
          "output_type": "stream",
          "text": [
            " 32%|███▎      | 13/40 [03:07<06:19, 14.06s/it]"
          ]
        },
        {
          "name": "stdout",
          "output_type": "stream",
          "text": [
            "Epoch 13 completed. Train Loss: 0.4017 | Val Loss: 0.4692\n"
          ]
        },
        {
          "name": "stderr",
          "output_type": "stream",
          "text": [
            " 32%|███▎      | 13/40 [03:16<06:19, 14.06s/it]"
          ]
        },
        {
          "name": "stdout",
          "output_type": "stream",
          "text": [
            "Epoch 14/40, Step 1000/1250, Loss: 0.5790\n"
          ]
        },
        {
          "name": "stderr",
          "output_type": "stream",
          "text": [
            " 35%|███▌      | 14/40 [03:21<06:05, 14.08s/it]"
          ]
        },
        {
          "name": "stdout",
          "output_type": "stream",
          "text": [
            "Epoch 14 completed. Train Loss: 0.3764 | Val Loss: 0.4503\n"
          ]
        },
        {
          "name": "stderr",
          "output_type": "stream",
          "text": [
            " 35%|███▌      | 14/40 [03:30<06:05, 14.08s/it]"
          ]
        },
        {
          "name": "stdout",
          "output_type": "stream",
          "text": [
            "Epoch 15/40, Step 1000/1250, Loss: 0.3454\n"
          ]
        },
        {
          "name": "stderr",
          "output_type": "stream",
          "text": [
            " 38%|███▊      | 15/40 [03:35<05:51, 14.04s/it]"
          ]
        },
        {
          "name": "stdout",
          "output_type": "stream",
          "text": [
            "Epoch 15 completed. Train Loss: 0.3506 | Val Loss: 0.4819\n"
          ]
        },
        {
          "name": "stderr",
          "output_type": "stream",
          "text": [
            " 38%|███▊      | 15/40 [03:44<05:51, 14.04s/it]"
          ]
        },
        {
          "name": "stdout",
          "output_type": "stream",
          "text": [
            "Epoch 16/40, Step 1000/1250, Loss: 0.6235\n"
          ]
        },
        {
          "name": "stderr",
          "output_type": "stream",
          "text": [
            " 40%|████      | 16/40 [03:49<05:37, 14.07s/it]"
          ]
        },
        {
          "name": "stdout",
          "output_type": "stream",
          "text": [
            "Epoch 16 completed. Train Loss: 0.3369 | Val Loss: 0.4296\n"
          ]
        },
        {
          "name": "stderr",
          "output_type": "stream",
          "text": [
            " 40%|████      | 16/40 [03:58<05:37, 14.07s/it]"
          ]
        },
        {
          "name": "stdout",
          "output_type": "stream",
          "text": [
            "Epoch 17/40, Step 1000/1250, Loss: 0.1570\n"
          ]
        },
        {
          "name": "stderr",
          "output_type": "stream",
          "text": [
            " 42%|████▎     | 17/40 [04:03<05:23, 14.05s/it]"
          ]
        },
        {
          "name": "stdout",
          "output_type": "stream",
          "text": [
            "Epoch 17 completed. Train Loss: 0.3103 | Val Loss: 0.4334\n"
          ]
        },
        {
          "name": "stderr",
          "output_type": "stream",
          "text": [
            " 42%|████▎     | 17/40 [04:13<05:23, 14.05s/it]"
          ]
        },
        {
          "name": "stdout",
          "output_type": "stream",
          "text": [
            "Epoch 18/40, Step 1000/1250, Loss: 0.1466\n"
          ]
        },
        {
          "name": "stderr",
          "output_type": "stream",
          "text": [
            " 45%|████▌     | 18/40 [04:17<05:09, 14.08s/it]"
          ]
        },
        {
          "name": "stdout",
          "output_type": "stream",
          "text": [
            "Epoch 18 completed. Train Loss: 0.3006 | Val Loss: 0.4470\n"
          ]
        },
        {
          "name": "stderr",
          "output_type": "stream",
          "text": [
            " 45%|████▌     | 18/40 [04:27<05:09, 14.08s/it]"
          ]
        },
        {
          "name": "stdout",
          "output_type": "stream",
          "text": [
            "Epoch 19/40, Step 1000/1250, Loss: 0.0440\n"
          ]
        },
        {
          "name": "stderr",
          "output_type": "stream",
          "text": [
            " 48%|████▊     | 19/40 [04:31<04:56, 14.12s/it]"
          ]
        },
        {
          "name": "stdout",
          "output_type": "stream",
          "text": [
            "Epoch 19 completed. Train Loss: 0.2757 | Val Loss: 0.4608\n"
          ]
        },
        {
          "name": "stderr",
          "output_type": "stream",
          "text": [
            " 48%|████▊     | 19/40 [04:41<04:56, 14.12s/it]"
          ]
        },
        {
          "name": "stdout",
          "output_type": "stream",
          "text": [
            "Epoch 20/40, Step 1000/1250, Loss: 0.2277\n"
          ]
        },
        {
          "name": "stderr",
          "output_type": "stream",
          "text": [
            " 50%|█████     | 20/40 [04:46<04:44, 14.21s/it]"
          ]
        },
        {
          "name": "stdout",
          "output_type": "stream",
          "text": [
            "Epoch 20 completed. Train Loss: 0.2674 | Val Loss: 0.4272\n"
          ]
        },
        {
          "name": "stderr",
          "output_type": "stream",
          "text": [
            " 50%|█████     | 20/40 [04:56<04:44, 14.21s/it]"
          ]
        },
        {
          "name": "stdout",
          "output_type": "stream",
          "text": [
            "Epoch 21/40, Step 1000/1250, Loss: 0.1269\n"
          ]
        },
        {
          "name": "stderr",
          "output_type": "stream",
          "text": [
            " 52%|█████▎    | 21/40 [05:00<04:29, 14.20s/it]"
          ]
        },
        {
          "name": "stdout",
          "output_type": "stream",
          "text": [
            "Epoch 21 completed. Train Loss: 0.2545 | Val Loss: 0.4107\n"
          ]
        },
        {
          "name": "stderr",
          "output_type": "stream",
          "text": [
            " 52%|█████▎    | 21/40 [05:10<04:29, 14.20s/it]"
          ]
        },
        {
          "name": "stdout",
          "output_type": "stream",
          "text": [
            "Epoch 22/40, Step 1000/1250, Loss: 0.0746\n"
          ]
        },
        {
          "name": "stderr",
          "output_type": "stream",
          "text": [
            " 55%|█████▌    | 22/40 [05:14<04:15, 14.18s/it]"
          ]
        },
        {
          "name": "stdout",
          "output_type": "stream",
          "text": [
            "Epoch 22 completed. Train Loss: 0.2456 | Val Loss: 0.4246\n"
          ]
        },
        {
          "name": "stderr",
          "output_type": "stream",
          "text": [
            " 55%|█████▌    | 22/40 [05:24<04:15, 14.18s/it]"
          ]
        },
        {
          "name": "stdout",
          "output_type": "stream",
          "text": [
            "Epoch 23/40, Step 1000/1250, Loss: 0.4226\n"
          ]
        },
        {
          "name": "stderr",
          "output_type": "stream",
          "text": [
            " 57%|█████▊    | 23/40 [05:28<04:00, 14.12s/it]"
          ]
        },
        {
          "name": "stdout",
          "output_type": "stream",
          "text": [
            "Epoch 23 completed. Train Loss: 0.2283 | Val Loss: 0.4128\n"
          ]
        },
        {
          "name": "stderr",
          "output_type": "stream",
          "text": [
            " 57%|█████▊    | 23/40 [05:38<04:00, 14.12s/it]"
          ]
        },
        {
          "name": "stdout",
          "output_type": "stream",
          "text": [
            "Epoch 24/40, Step 1000/1250, Loss: 0.2660\n"
          ]
        },
        {
          "name": "stderr",
          "output_type": "stream",
          "text": [
            " 60%|██████    | 24/40 [05:42<03:45, 14.11s/it]"
          ]
        },
        {
          "name": "stdout",
          "output_type": "stream",
          "text": [
            "Epoch 24 completed. Train Loss: 0.2156 | Val Loss: 0.4602\n"
          ]
        },
        {
          "name": "stderr",
          "output_type": "stream",
          "text": [
            " 60%|██████    | 24/40 [05:52<03:45, 14.11s/it]"
          ]
        },
        {
          "name": "stdout",
          "output_type": "stream",
          "text": [
            "Epoch 25/40, Step 1000/1250, Loss: 0.1099\n"
          ]
        },
        {
          "name": "stderr",
          "output_type": "stream",
          "text": [
            " 62%|██████▎   | 25/40 [05:56<03:31, 14.08s/it]"
          ]
        },
        {
          "name": "stdout",
          "output_type": "stream",
          "text": [
            "Epoch 25 completed. Train Loss: 0.2116 | Val Loss: 0.4319\n"
          ]
        },
        {
          "name": "stderr",
          "output_type": "stream",
          "text": [
            " 62%|██████▎   | 25/40 [06:06<03:31, 14.08s/it]"
          ]
        },
        {
          "name": "stdout",
          "output_type": "stream",
          "text": [
            "Epoch 26/40, Step 1000/1250, Loss: 0.1824\n"
          ]
        },
        {
          "name": "stderr",
          "output_type": "stream",
          "text": [
            " 62%|██████▎   | 25/40 [06:10<03:42, 14.83s/it]"
          ]
        },
        {
          "name": "stdout",
          "output_type": "stream",
          "text": [
            "Epoch 26 completed. Train Loss: 0.1959 | Val Loss: 0.4583\n",
            "Early stopping at epoch 26\n"
          ]
        },
        {
          "name": "stderr",
          "output_type": "stream",
          "text": [
            "\n"
          ]
        }
      ],
      "source": [
        "net, train_losses, val_losses, train_acc, val_acc = train_model(net, \n",
        "                                                                train_loader, \n",
        "                                                                val_loader, \n",
        "                                                                criterion, \n",
        "                                                                optimizer, \n",
        "                                                                device, \n",
        "                                                                num_epochs=num_epochs, \n",
        "                                                                patience=patience)\n",
        "\n",
        "# salvar o modelo treinado\n",
        "torch.save(net.state_dict(), \"best_model_exp2.pth\")"
      ]
    },
    {
      "cell_type": "code",
      "execution_count": 78,
      "metadata": {},
      "outputs": [
        {
          "data": {
            "image/png": "[encoded data removed]",
            "text/plain": [
              "<Figure size 1200x500 with 2 Axes>"
            ]
          },
          "metadata": {},
          "output_type": "display_data"
        }
      ],
      "source": [
        "plotTrainVal(train_losses, val_losses, train_acc, val_acc)"
      ]
    },
    {
      "cell_type": "code",
      "execution_count": 79,
      "metadata": {},
      "outputs": [
        {
          "data": {
            "text/plain": [
              "{'accuracy': 0.8655,\n",
              " 'balanced_accuracy': 0.8654999999999999,\n",
              " 'precision': 0.8686685969175907,\n",
              " 'recall': 0.8655,\n",
              " 'f1_score': 0.8645830146058364}"
            ]
          },
          "execution_count": 79,
          "metadata": {},
          "output_type": "execute_result"
        }
      ],
      "source": [
        "targets, predictions = makePredictions(net, test_loader)\n",
        "\n",
        "get_scores(targets, predictions)"
      ]
    },
    {
      "cell_type": "markdown",
      "metadata": {},
      "source": [
        "## Grad-cam"
      ]
    },
    {
      "cell_type": "code",
      "execution_count": 65,
      "metadata": {},
      "outputs": [],
      "source": [
        "def show_cam_on_image(img):\n",
        "    img = img.cpu()\n",
        "    scores = net(img.unsqueeze(0))  # adiciona batch dimension\n",
        "\n",
        "    # Extrair heatmap para a classe predita\n",
        "    class_id = scores.argmax().item()\n",
        "    activation_map = cam_extractor(class_id, scores)[0].cpu()\n",
        "\n",
        "    img = img.permute(1, 2, 0).numpy()\n",
        "    img = (img - img.min()) / (img.max() - img.min())\n",
        "    heatmap = activation_map.squeeze().numpy()\n",
        "    heatmap = (heatmap - heatmap.min()) / (heatmap.max() - heatmap.min())\n",
        "    resized_map = cv2.resize(heatmap, dsize=(32, 32), interpolation=cv2.INTER_LINEAR)\n",
        "\n",
        "    resized_map = plt.cm.jet(resized_map)[..., :3]\n",
        "    cam = resized_map * 0.5 + img * 0.5\n",
        "    plt.imshow(cam)\n",
        "    plt.axis('off')"
      ]
    },
    {
      "cell_type": "code",
      "execution_count": 66,
      "metadata": {},
      "outputs": [],
      "source": [
        "net = CNN(arch=((1, 64), (2, 128), (2, 256)))\n",
        "net.cpu()\n",
        "\n",
        "net.load_state_dict(torch.load(\"best_model_exp1.pth\", weights_only=True))\n",
        "\n",
        "target_layer = net.feature_extractor[-1][0]  # <- último conv do último bloco\n",
        "# GradCAM com essa camada\n",
        "cam_extractor = GradCAM(net, target_layer=target_layer)"
      ]
    },
    {
      "cell_type": "code",
      "execution_count": 67,
      "metadata": {},
      "outputs": [],
      "source": [
        "classes = test_dataset.classes\n",
        "\n",
        "cat_imgs = []\n",
        "# Itera sobre o dataset até encontrar uma imagem para cada uma das 10 classes\n",
        "for img, label in test_dataset:\n",
        "    class_name = classes[label]\n",
        "    if class_name == 'cat':\n",
        "        cat_imgs.append(img)\n",
        "    # Para de procurar quando já tiver uma imagem de cada classe\n",
        "    if len(cat_imgs) == 10:\n",
        "        break"
      ]
    },
    {
      "cell_type": "code",
      "execution_count": 68,
      "metadata": {},
      "outputs": [
        {
          "data": {
            "image/png": "[encoded data removed]",
            "text/plain": [
              "<Figure size 1200x500 with 10 Axes>"
            ]
          },
          "metadata": {},
          "output_type": "display_data"
        }
      ],
      "source": [
        "# Criar uma figura para exibir as imagens\n",
        "fig = plt.figure(figsize=(12, 5))\n",
        "\n",
        "# Exibe uma imagem para cada classe\n",
        "for i in range(10):\n",
        "    ax = fig.add_subplot(2, 5, i + 1) # Cria uma grade 2x5 de subplots\n",
        "    img = cat_imgs[i%5]\n",
        "\n",
        "    if i > 4:\n",
        "        show_cam_on_image(img)\n",
        "    else:\n",
        "        imshow(img)\n",
        "\n",
        "\n",
        "plt.show()"
      ]
    },
    {
      "cell_type": "code",
      "execution_count": 71,
      "metadata": {},
      "outputs": [
        {
          "data": {
            "image/png": "[encoded data removed]",
            "text/plain": [
              "<Figure size 640x480 with 2 Axes>"
            ]
          },
          "metadata": {},
          "output_type": "display_data"
        }
      ],
      "source": [
        "fig = plt.figure()\n",
        "\n",
        "idx = 7\n",
        "\n",
        "# Exibe uma imagem para cada classe\n",
        "ax = fig.add_subplot(1, 2, 1)\n",
        "show_cam_on_image(cat_imgs[idx])\n",
        "\n",
        "ax = fig.add_subplot(1, 2, 2)\n",
        "imshow(cat_imgs[idx])\n"
      ]
    },
    {
      "cell_type": "code",
      "execution_count": null,
      "metadata": {},
      "outputs": [],
      "source": []
    }
  ],
  "metadata": {
    "accelerator": "GPU",
    "colab": {
      "gpuType": "T4",
      "provenance": []
    },
    "kernelspec": {
      "display_name": "Python 3",
      "name": "python3"
    },
    "language_info": {
      "name": "python"
    }
  },
  "nbformat": 4,
  "nbformat_minor": 0
}
