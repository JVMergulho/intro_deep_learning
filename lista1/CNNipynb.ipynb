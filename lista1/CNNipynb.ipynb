{
  "nbformat": 4,
  "nbformat_minor": 0,
  "metadata": {
    "colab": {
      "provenance": [],
      "gpuType": "T4"
    },
    "kernelspec": {
      "name": "python3",
      "display_name": "Python 3"
    },
    "language_info": {
      "name": "python"
    },
    "accelerator": "GPU"
  },
  "cells": [
    {
      "cell_type": "markdown",
      "source": [
        "# IF867 - Introdução à Aprendizagem Profunda\n",
        "## 1ª atividade prática - 2025.1\n",
        "\n",
        "Discente(s):\n",
        "- Ana Sofia Lima (asosl)\n",
        "- João Vitor Mergulhão (jvlm2)\n",
        "\n",
        "## Instruções e requisitos\n",
        "- Objetivo: Implementar e treinar um Multi-Layer Perceptron e uma Rede Neural Convolucional, inteiramente em PyTorch.\n",
        "- Observação: A atividade pode ser feita em dupla.\n",
        "\n",
        "## Tarefa\n",
        "\n",
        "- Rede Neural Convolucional (CNN) (50% da nota):\n",
        "  - Implementação: Proponha e construa sua própria arquitetura de CNN.\n",
        "  - Implemente funções para o treinamento e avaliação do modelo.\n",
        "  - Métricas e Análise:\n",
        "    - Registre o tempo de treinamento de cada configuração.\n",
        "    - Gere e apresente a matriz de confusão para os resultados da classificação.\n",
        "    - Plote gráficos da função de loss e da acurácia ao longo das épocas de treinamento.\n",
        "  - Experimentação:\n",
        "    - Aplique e avalie técnicas de regularização (ex: Dropout, Batch Normalization).\n",
        "    - Implemente e analise o Grad-CAM para visualização e interpretabilidade.\n",
        "    - Explore outras técnicas relevantes para otimização ou análise de CNNs.\n",
        "  - Relatório: Documente no notebook os experimentos realizados, as configurações utilizadas e os resultados obtidos, analisando o impacto de cada alteração."
      ],
      "metadata": {
        "id": "9Z2REhZOI6_5"
      }
    },
    {
      "cell_type": "markdown",
      "source": [
        "O dataset escolhido foi o CIFAR10:\n",
        "- Imagens 32x32\n",
        "- composto por 10 classes"
      ],
      "metadata": {
        "id": "u6WGRDnR4QDG"
      }
    },
    {
      "cell_type": "markdown",
      "source": [
        "## Imports"
      ],
      "metadata": {
        "id": "p_mKdETU-HYT"
      }
    },
    {
      "cell_type": "code",
      "source": [
        "import torch\n",
        "from  torch.utils.data import DataLoader, Subset\n",
        "import torch.nn as nn\n",
        "import torch.nn.functional as F\n",
        "import torch.optim as optim\n",
        "\n",
        "import torchvision\n",
        "import torchvision.transforms as transforms\n",
        "from torchvision.datasets import CIFAR10\n",
        "\n",
        "import matplotlib.pyplot as plt\n",
        "import numpy as np\n",
        "\n",
        "from sklearn import metrics\n",
        "from sklearn.model_selection import StratifiedShuffleSplit\n",
        "from sklearn.metrics import confusion_matrix, ConfusionMatrixDisplay\n",
        "\n",
        "from tqdm import tqdm\n",
        "\n",
        "device = torch.device(\"cuda\" if torch.cuda.is_available() else \"cpu\")"
      ],
      "metadata": {
        "id": "keRGeepXi04c"
      },
      "execution_count": null,
      "outputs": []
    },
    {
      "cell_type": "markdown",
      "source": [
        "## Dataset setup"
      ],
      "metadata": {
        "id": "8RTZpNtF-Nac"
      }
    },
    {
      "cell_type": "code",
      "source": [
        "# Define as transformações com data augmentation para o treinamento\n",
        "train_transform = transforms.Compose([\n",
        "    transforms.RandomHorizontalFlip(),\n",
        "    transforms.RandomCrop(32, padding=4),\n",
        "    transforms.ToTensor(),\n",
        "    transforms.Normalize((0.5, 0.5, 0.5), (0.5, 0.5, 0.5))\n",
        "])\n",
        "\n",
        "# Define as transformações sem data augmentation\n",
        "val_test_transform = transforms.Compose([\n",
        "    transforms.ToTensor(),\n",
        "    transforms.Normalize((0.5, 0.5, 0.5), (0.5, 0.5, 0.5))\n",
        "])"
      ],
      "metadata": {
        "id": "flg8fTwbiynv"
      },
      "execution_count": null,
      "outputs": []
    },
    {
      "cell_type": "code",
      "source": [
        "train_val_dataset = CIFAR10(root='./data', train=True, download=True, transform=train_transform)\n",
        "train_val_dataset_plain = CIFAR10(root='./data', train=True, download=True, transform=val_test_transform)\n",
        "\n",
        "# Extrai os rótulos\n",
        "targets = np.array(train_val_dataset_plain.targets)\n",
        "\n",
        "# Cria o validador estratificado\n",
        "splitter = StratifiedShuffleSplit(n_splits=1, test_size=0.2, random_state=42)\n",
        "\n",
        "# Gera os índices\n",
        "for train_idx, val_idx in splitter.split(np.zeros(len(targets)), targets):\n",
        "    train_dataset = Subset(train_val_dataset, train_idx)     # com augmentation\n",
        "    val_dataset = Subset(train_val_dataset_plain, val_idx)       # sem augmentation\n",
        "\n",
        "# Dataset de teste também sem augmentation\n",
        "test_dataset = CIFAR10(root='./data', train=False, download=False, transform=val_test_transform)"
      ],
      "metadata": {
        "id": "M2GRc6UL7XRS",
        "colab": {
          "base_uri": "https://localhost:8080/"
        },
        "outputId": "b2bba913-2cf8-4dbf-e897-318ff7b306b7"
      },
      "execution_count": null,
      "outputs": [
        {
          "output_type": "stream",
          "name": "stderr",
          "text": [
            "100%|██████████| 170M/170M [00:03<00:00, 43.8MB/s]\n"
          ]
        }
      ]
    },
    {
      "cell_type": "code",
      "source": [
        "train_loader = torch.utils.data.DataLoader(dataset=train_dataset, batch_size=32,\n",
        "                                          shuffle = True, num_workers=2)\n",
        "\n",
        "val_loader = torch.utils.data.DataLoader(dataset=val_dataset, batch_size=32,\n",
        "                                          shuffle = False, num_workers=2)\n",
        "\n",
        "test_loader = torch.utils.data.DataLoader(dataset=test_dataset, batch_size=32,\n",
        "                                          shuffle = False, num_workers=2)"
      ],
      "metadata": {
        "id": "_OHK1EZ2XXcX"
      },
      "execution_count": null,
      "outputs": []
    },
    {
      "cell_type": "markdown",
      "source": [
        "## Data visualization"
      ],
      "metadata": {
        "id": "-kXxcL09-s5r"
      }
    },
    {
      "cell_type": "code",
      "source": [
        "def imshow(img):\n",
        "    img = img / 2 + 0.5     # desnormalizar\n",
        "    npimg = img.numpy()\n",
        "    plt.imshow(np.transpose(npimg, (1, 2, 0)))\n",
        "    plt.axis('off')"
      ],
      "metadata": {
        "id": "asNVauH6itqj"
      },
      "execution_count": null,
      "outputs": []
    },
    {
      "cell_type": "code",
      "source": [
        "classes = test_dataset.classes\n",
        "\n",
        "# Encontrar uma imagem de cada classe\n",
        "images_per_class = {}\n",
        "# Itera sobre o dataset até encontrar uma imagem para cada uma das 10 classes\n",
        "for img, label in test_dataset:\n",
        "    class_name = classes[label]\n",
        "    if class_name not in images_per_class:\n",
        "        images_per_class[class_name] = img\n",
        "    # Para de procurar quando já tiver uma imagem de cada classe\n",
        "    if len(images_per_class) == len(classes):\n",
        "        break\n",
        "\n",
        "# Criar uma figura para exibir as imagens\n",
        "fig = plt.figure(figsize=(12, 5))\n",
        "\n",
        "# Exibe uma imagem para cada classe\n",
        "for i, class_name in enumerate(classes):\n",
        "    ax = fig.add_subplot(2, 5, i + 1) # Cria uma grade 2x5 de subplots\n",
        "    ax.set_title(class_name)\n",
        "    imshow(images_per_class[class_name])\n",
        "\n",
        "plt.show()"
      ],
      "metadata": {
        "colab": {
          "base_uri": "https://localhost:8080/",
          "height": 429
        },
        "id": "dqCsSENY8mWB",
        "outputId": "d4075bc6-fb8e-44da-e6f7-59e2886509da"
      },
      "execution_count": null,
      "outputs": [
        {
          "output_type": "display_data",
          "data": {
            "text/plain": [
              "<Figure size 1200x500 with 10 Axes>"
            ],
            "image/png": "[encoded data removed]"
          },
          "metadata": {}
        }
      ]
    },
    {
      "cell_type": "markdown",
      "source": [
        "## Evaluation Functions"
      ],
      "metadata": {
        "id": "u-RSOuAVDseh"
      }
    },
    {
      "cell_type": "code",
      "source": [
        "def evaluate(net, loader, loss_function):\n",
        "    net.eval()\n",
        "    val_loss = 0.0\n",
        "    with torch.no_grad():\n",
        "        for images, labels in loader:\n",
        "            images = images.to(device)\n",
        "            labels = labels.to(device)\n",
        "            outputs = net(images)\n",
        "            loss = loss_function(outputs, labels)\n",
        "            val_loss += loss.item()\n",
        "    net.train()\n",
        "    return val_loss / len(loader)"
      ],
      "metadata": {
        "id": "jRfH4sk5ZOgz"
      },
      "execution_count": null,
      "outputs": []
    },
    {
      "cell_type": "code",
      "source": [
        "def plotLoss(train_losses, val_losses):\n",
        "    plt.plot(train_losses, label='Treinamento')\n",
        "    plt.plot(val_losses, label='Validação')\n",
        "    plt.xlabel('Época')\n",
        "    plt.ylabel('Loss')\n",
        "    plt.title('Loss de Treinamento e Validação')\n",
        "    plt.legend()\n",
        "    plt.grid(True)\n",
        "    plt.show()\n"
      ],
      "metadata": {
        "id": "NpQkA9sGRKJG"
      },
      "execution_count": null,
      "outputs": []
    },
    {
      "cell_type": "code",
      "source": [
        "def get_scores(targets, predictions):\n",
        "    return {\n",
        "        \"accuracy\": metrics.accuracy_score(targets, predictions),\n",
        "        \"balanced_accuracy\": metrics.balanced_accuracy_score(targets, predictions),\n",
        "        \"precision\": metrics.precision_score(targets, predictions, average=\"weighted\"),\n",
        "        \"recall\": metrics.recall_score(targets, predictions, average=\"weighted\"),\n",
        "        \"f1_score\": metrics.f1_score(targets, predictions, average=\"weighted\")\n",
        "    }"
      ],
      "metadata": {
        "id": "yVUhkRjVUOuA"
      },
      "execution_count": null,
      "outputs": []
    },
    {
      "cell_type": "code",
      "source": [
        "def makePredictions(net, test_loader):\n",
        "  net.eval()\n",
        "  predictions = []\n",
        "  labels = []\n",
        "  for images, label in test_loader:\n",
        "    images = images.to(device)\n",
        "    label = label.to(device)\n",
        "\n",
        "    output = net(images)\n",
        "    _, predicted = torch.max(output,1)\n",
        "\n",
        "    predictions.extend(predicted.cpu().numpy())\n",
        "    labels.extend(label.cpu().numpy())\n",
        "\n",
        "  return labels, predictions"
      ],
      "metadata": {
        "id": "ipvsVq5uEPMS"
      },
      "execution_count": null,
      "outputs": []
    },
    {
      "cell_type": "markdown",
      "source": [
        "## CNN Definition"
      ],
      "metadata": {
        "id": "Q3TGE1TEDopF"
      }
    },
    {
      "cell_type": "code",
      "source": [
        "#Definir arquitetura da rede\n",
        "\n",
        "# bloco convolucional -> convoluções seguidas de um max pool\n",
        "def conv_block(num_convs, out_channels, batch_norm=False):\n",
        "    layers = []\n",
        "    for _ in range(num_convs):\n",
        "        layers.append(nn.LazyConv2d(out_channels, kernel_size=3, padding=1))\n",
        "\n",
        "        # BatchNorm após convolução\n",
        "        if batch_norm:\n",
        "          layers.append(nn.LazyBatchNorm2d())\n",
        "\n",
        "        layers.append(nn.ReLU())\n",
        "\n",
        "    layers.append(nn.MaxPool2d(kernel_size=2, stride=2))\n",
        "    return nn.Sequential(*layers)\n",
        "\n",
        "class CNN(nn.Module):\n",
        "    def __init__(self, arch, num_classes=10, batch_norm=False, dropout=0.0):\n",
        "        super().__init__()\n",
        "\n",
        "        # camadas de convolução -> extração de features\n",
        "        conv_blks = []\n",
        "        for (num_convs, out_channels) in arch:\n",
        "            conv_blks.append(conv_block(num_convs, out_channels, batch_norm))\n",
        "\n",
        "        self.feature_extractor = nn.Sequential(*conv_blks)\n",
        "\n",
        "        # Calcular a dimensão da saída do feature extractor automaticamente\n",
        "        with torch.no_grad():\n",
        "            dummy_input = torch.zeros(1, 3, 32, 32)\n",
        "            dummy_output = self.feature_extractor(dummy_input)\n",
        "            flattened_size = dummy_output.view(1, -1).shape[1]  # total de features\n",
        "\n",
        "        # camadas completamente conectadas -> classificação\n",
        "        self.classifier = nn.Sequential(\n",
        "            nn.Flatten(),\n",
        "            nn.Linear(flattened_size, 128),\n",
        "            nn.ReLU(),\n",
        "            nn.Dropout(p=dropout),\n",
        "            nn.Linear(128, 64),\n",
        "            nn.ReLU(),\n",
        "            nn.Dropout(p=dropout),\n",
        "            nn.Linear(64, num_classes)\n",
        "        )\n",
        "\n",
        "    def forward(self, x):\n",
        "        x = self.feature_extractor(x)\n",
        "        x = self.classifier(x)\n",
        "        return x\n"
      ],
      "metadata": {
        "id": "k1xss6wU9jF3"
      },
      "execution_count": null,
      "outputs": []
    },
    {
      "cell_type": "markdown",
      "source": [
        "## Treinamento"
      ],
      "metadata": {
        "id": "aNzlsyYYZK35"
      }
    },
    {
      "cell_type": "code",
      "source": [
        "device = torch.device(\"cuda\" if torch.cuda.is_available() else \"cpu\")\n",
        "\n",
        "def train_model(net, train_loader, val_loader, criterion, optimizer, device, num_epochs=20, patience=3):\n",
        "    net.to(device)\n",
        "\n",
        "    train_losses = []\n",
        "    val_losses = []\n",
        "\n",
        "    best_loss = float('inf')\n",
        "    best_model_state = None\n",
        "    patience_counter = 0\n",
        "\n",
        "    for epoch in tqdm(range(num_epochs)):\n",
        "        net.train()\n",
        "        epoch_loss = 0.0\n",
        "\n",
        "        for i, (inputs, labels) in enumerate(train_loader, 0):\n",
        "            inputs, labels = inputs.to(device), labels.to(device)\n",
        "\n",
        "            optimizer.zero_grad()\n",
        "            outputs = net(inputs)\n",
        "            loss = criterion(outputs, labels)\n",
        "            loss.backward()\n",
        "            optimizer.step()\n",
        "\n",
        "            epoch_loss += loss.item()\n",
        "\n",
        "            if (i + 1) % 1000 == 0:\n",
        "              tqdm.write(f'Epoch {epoch + 1}/{num_epochs}, Step {i + 1}/{len(train_loader)}, Loss: {loss:.4f}')\n",
        "\n",
        "        avg_train_loss = epoch_loss / len(train_loader)\n",
        "        train_losses.append(avg_train_loss)\n",
        "\n",
        "        # Validação\n",
        "        net.eval()\n",
        "        val_loss = 0.0\n",
        "        with torch.no_grad():\n",
        "            for inputs, labels in val_loader:\n",
        "                inputs, labels = inputs.to(device), labels.to(device)\n",
        "                outputs = net(inputs)\n",
        "                loss = criterion(outputs, labels)\n",
        "                val_loss += loss.item()\n",
        "\n",
        "        avg_val_loss = val_loss / len(val_loader)\n",
        "        val_losses.append(avg_val_loss)\n",
        "\n",
        "        tqdm.write(f'Epoch {epoch+1} completed. Train Loss: {avg_train_loss:.4f} | Val Loss: {avg_val_loss:.4f}')\n",
        "\n",
        "        # Early stopping\n",
        "        if avg_val_loss < best_loss:\n",
        "            best_loss = avg_val_loss\n",
        "            best_model_state = net.state_dict()\n",
        "            patience_counter = 0\n",
        "        else:\n",
        "            patience_counter += 1\n",
        "            if patience_counter >= patience:\n",
        "                tqdm.write(f\"Early stopping at epoch {epoch+1}\")\n",
        "                break\n",
        "\n",
        "    # Restaura melhor modelo encontrado\n",
        "    if best_model_state is not None:\n",
        "        net.load_state_dict(best_model_state)\n",
        "\n",
        "    return net, train_losses, val_losses"
      ],
      "metadata": {
        "id": "_uBREXymM9fA"
      },
      "execution_count": null,
      "outputs": []
    },
    {
      "cell_type": "code",
      "source": [],
      "metadata": {
        "id": "M4C0DUB5YVOs"
      },
      "execution_count": null,
      "outputs": []
    },
    {
      "cell_type": "markdown",
      "source": [
        "## Experimento 1"
      ],
      "metadata": {
        "id": "gdX5gFtUD6MK"
      }
    },
    {
      "cell_type": "code",
      "source": [
        "# Hiperparâmetros\n",
        "arch=((1, 64),\n",
        "      (2, 128),\n",
        "      (2, 256))\n",
        "\n",
        "batch_size = 32\n",
        "learning_rate = 1e-3\n",
        "dropout = 0\n",
        "batch_norm = False\n",
        "num_epochs=40\n",
        "patience=5"
      ],
      "metadata": {
        "id": "ffBpTEJxEjt8"
      },
      "execution_count": null,
      "outputs": []
    },
    {
      "cell_type": "code",
      "source": [
        "#instancia a rede\n",
        "net = CNN(arch=((1, 64), (2, 128), (2, 256)))\n",
        "net.to(device)\n",
        "\n",
        "#função de perda (loss)\n",
        "criterion = nn.CrossEntropyLoss()\n",
        "\n",
        "#otimizador\n",
        "optimizer = optim.Adam(net.parameters(), lr=learning_rate)"
      ],
      "metadata": {
        "id": "E0ys4qEuiu2r"
      },
      "execution_count": null,
      "outputs": []
    },
    {
      "cell_type": "code",
      "source": [
        "net, train_losses, val_losses = train_model(net, train_loader, val_loader, criterion, optimizer, device, num_epochs=num_epochs, patience=patience)\n",
        "\n",
        "# salvar o modelo treinado\n",
        "\n",
        "torch.save(net.state_dict(), \"best_model_exp1.pth\")"
      ],
      "metadata": {
        "colab": {
          "base_uri": "https://localhost:8080/"
        },
        "id": "lFN8i4PqkHkI",
        "outputId": "a53c698a-207d-4cf3-c029-ab6c8a8f0b6b"
      },
      "execution_count": null,
      "outputs": [
        {
          "output_type": "stream",
          "name": "stderr",
          "text": [
            "  0%|          | 0/40 [00:15<?, ?it/s]"
          ]
        },
        {
          "output_type": "stream",
          "name": "stdout",
          "text": [
            "Epoch 1/40, Step 1000/1250, Loss: 1.5392\n"
          ]
        },
        {
          "output_type": "stream",
          "name": "stderr",
          "text": [
            "  2%|▎         | 1/40 [00:21<14:02, 21.59s/it]"
          ]
        },
        {
          "output_type": "stream",
          "name": "stdout",
          "text": [
            "Epoch 1 completed. Train Loss: 1.7462 | Val Loss: 1.4608\n"
          ]
        },
        {
          "output_type": "stream",
          "name": "stderr",
          "text": [
            "  2%|▎         | 1/40 [00:38<14:02, 21.59s/it]"
          ]
        },
        {
          "output_type": "stream",
          "name": "stdout",
          "text": [
            "Epoch 2/40, Step 1000/1250, Loss: 0.8847\n"
          ]
        },
        {
          "output_type": "stream",
          "name": "stderr",
          "text": [
            "  5%|▌         | 2/40 [00:44<14:07, 22.31s/it]"
          ]
        },
        {
          "output_type": "stream",
          "name": "stdout",
          "text": [
            "Epoch 2 completed. Train Loss: 1.3331 | Val Loss: 1.1760\n"
          ]
        },
        {
          "output_type": "stream",
          "name": "stderr",
          "text": [
            "  5%|▌         | 2/40 [01:00<14:07, 22.31s/it]"
          ]
        },
        {
          "output_type": "stream",
          "name": "stdout",
          "text": [
            "Epoch 3/40, Step 1000/1250, Loss: 1.1784\n"
          ]
        },
        {
          "output_type": "stream",
          "name": "stderr",
          "text": [
            "  8%|▊         | 3/40 [01:07<13:56, 22.61s/it]"
          ]
        },
        {
          "output_type": "stream",
          "name": "stdout",
          "text": [
            "Epoch 3 completed. Train Loss: 1.1274 | Val Loss: 1.0117\n"
          ]
        },
        {
          "output_type": "stream",
          "name": "stderr",
          "text": [
            "  8%|▊         | 3/40 [01:32<13:56, 22.61s/it]"
          ]
        },
        {
          "output_type": "stream",
          "name": "stdout",
          "text": [
            "Epoch 4/40, Step 1000/1250, Loss: 1.0810\n"
          ]
        },
        {
          "output_type": "stream",
          "name": "stderr",
          "text": [
            " 10%|█         | 4/40 [01:41<16:21, 27.26s/it]"
          ]
        },
        {
          "output_type": "stream",
          "name": "stdout",
          "text": [
            "Epoch 4 completed. Train Loss: 0.9902 | Val Loss: 0.8690\n"
          ]
        },
        {
          "output_type": "stream",
          "name": "stderr",
          "text": [
            " 10%|█         | 4/40 [02:00<16:21, 27.26s/it]"
          ]
        },
        {
          "output_type": "stream",
          "name": "stdout",
          "text": [
            "Epoch 5/40, Step 1000/1250, Loss: 0.8527\n"
          ]
        },
        {
          "output_type": "stream",
          "name": "stderr",
          "text": [
            " 12%|█▎        | 5/40 [02:12<16:43, 28.66s/it]"
          ]
        },
        {
          "output_type": "stream",
          "name": "stdout",
          "text": [
            "Epoch 5 completed. Train Loss: 0.8885 | Val Loss: 0.8199\n"
          ]
        },
        {
          "output_type": "stream",
          "name": "stderr",
          "text": [
            " 12%|█▎        | 5/40 [02:31<16:43, 28.66s/it]"
          ]
        },
        {
          "output_type": "stream",
          "name": "stdout",
          "text": [
            "Epoch 6/40, Step 1000/1250, Loss: 1.2728\n"
          ]
        },
        {
          "output_type": "stream",
          "name": "stderr",
          "text": [
            " 15%|█▌        | 6/40 [02:37<15:27, 27.28s/it]"
          ]
        },
        {
          "output_type": "stream",
          "name": "stdout",
          "text": [
            "Epoch 6 completed. Train Loss: 0.8192 | Val Loss: 0.8865\n"
          ]
        },
        {
          "output_type": "stream",
          "name": "stderr",
          "text": [
            " 15%|█▌        | 6/40 [02:52<15:27, 27.28s/it]"
          ]
        },
        {
          "output_type": "stream",
          "name": "stdout",
          "text": [
            "Epoch 7/40, Step 1000/1250, Loss: 0.8039\n"
          ]
        },
        {
          "output_type": "stream",
          "name": "stderr",
          "text": [
            " 18%|█▊        | 7/40 [02:59<14:06, 25.65s/it]"
          ]
        },
        {
          "output_type": "stream",
          "name": "stdout",
          "text": [
            "Epoch 7 completed. Train Loss: 0.7656 | Val Loss: 0.7278\n"
          ]
        },
        {
          "output_type": "stream",
          "name": "stderr",
          "text": [
            " 18%|█▊        | 7/40 [03:15<14:06, 25.65s/it]"
          ]
        },
        {
          "output_type": "stream",
          "name": "stdout",
          "text": [
            "Epoch 8/40, Step 1000/1250, Loss: 0.7587\n"
          ]
        },
        {
          "output_type": "stream",
          "name": "stderr",
          "text": [
            " 20%|██        | 8/40 [03:22<13:09, 24.69s/it]"
          ]
        },
        {
          "output_type": "stream",
          "name": "stdout",
          "text": [
            "Epoch 8 completed. Train Loss: 0.7181 | Val Loss: 0.7035\n"
          ]
        },
        {
          "output_type": "stream",
          "name": "stderr",
          "text": [
            " 20%|██        | 8/40 [03:37<13:09, 24.69s/it]"
          ]
        },
        {
          "output_type": "stream",
          "name": "stdout",
          "text": [
            "Epoch 9/40, Step 1000/1250, Loss: 0.7284\n"
          ]
        },
        {
          "output_type": "stream",
          "name": "stderr",
          "text": [
            " 22%|██▎       | 9/40 [03:43<12:09, 23.54s/it]"
          ]
        },
        {
          "output_type": "stream",
          "name": "stdout",
          "text": [
            "Epoch 9 completed. Train Loss: 0.6836 | Val Loss: 0.6536\n"
          ]
        },
        {
          "output_type": "stream",
          "name": "stderr",
          "text": [
            " 22%|██▎       | 9/40 [03:59<12:09, 23.54s/it]"
          ]
        },
        {
          "output_type": "stream",
          "name": "stdout",
          "text": [
            "Epoch 10/40, Step 1000/1250, Loss: 0.6279\n"
          ]
        },
        {
          "output_type": "stream",
          "name": "stderr",
          "text": [
            " 25%|██▌       | 10/40 [04:05<11:32, 23.07s/it]"
          ]
        },
        {
          "output_type": "stream",
          "name": "stdout",
          "text": [
            "Epoch 10 completed. Train Loss: 0.6541 | Val Loss: 0.7255\n"
          ]
        },
        {
          "output_type": "stream",
          "name": "stderr",
          "text": [
            " 25%|██▌       | 10/40 [04:20<11:32, 23.07s/it]"
          ]
        },
        {
          "output_type": "stream",
          "name": "stdout",
          "text": [
            "Epoch 11/40, Step 1000/1250, Loss: 0.9762\n"
          ]
        },
        {
          "output_type": "stream",
          "name": "stderr",
          "text": [
            " 28%|██▊       | 11/40 [04:27<11:01, 22.82s/it]"
          ]
        },
        {
          "output_type": "stream",
          "name": "stdout",
          "text": [
            "Epoch 11 completed. Train Loss: 0.6305 | Val Loss: 0.6616\n"
          ]
        },
        {
          "output_type": "stream",
          "name": "stderr",
          "text": [
            " 28%|██▊       | 11/40 [04:43<11:01, 22.82s/it]"
          ]
        },
        {
          "output_type": "stream",
          "name": "stdout",
          "text": [
            "Epoch 12/40, Step 1000/1250, Loss: 0.4324\n"
          ]
        },
        {
          "output_type": "stream",
          "name": "stderr",
          "text": [
            " 30%|███       | 12/40 [04:50<10:36, 22.72s/it]"
          ]
        },
        {
          "output_type": "stream",
          "name": "stdout",
          "text": [
            "Epoch 12 completed. Train Loss: 0.6077 | Val Loss: 0.6218\n"
          ]
        },
        {
          "output_type": "stream",
          "name": "stderr",
          "text": [
            " 30%|███       | 12/40 [05:05<10:36, 22.72s/it]"
          ]
        },
        {
          "output_type": "stream",
          "name": "stdout",
          "text": [
            "Epoch 13/40, Step 1000/1250, Loss: 1.0261\n"
          ]
        },
        {
          "output_type": "stream",
          "name": "stderr",
          "text": [
            " 32%|███▎      | 13/40 [05:11<09:59, 22.21s/it]"
          ]
        },
        {
          "output_type": "stream",
          "name": "stdout",
          "text": [
            "Epoch 13 completed. Train Loss: 0.5855 | Val Loss: 0.6613\n"
          ]
        },
        {
          "output_type": "stream",
          "name": "stderr",
          "text": [
            " 32%|███▎      | 13/40 [05:27<09:59, 22.21s/it]"
          ]
        },
        {
          "output_type": "stream",
          "name": "stdout",
          "text": [
            "Epoch 14/40, Step 1000/1250, Loss: 0.6377\n"
          ]
        },
        {
          "output_type": "stream",
          "name": "stderr",
          "text": [
            " 35%|███▌      | 14/40 [05:33<09:36, 22.19s/it]"
          ]
        },
        {
          "output_type": "stream",
          "name": "stdout",
          "text": [
            "Epoch 14 completed. Train Loss: 0.5684 | Val Loss: 0.6064\n"
          ]
        },
        {
          "output_type": "stream",
          "name": "stderr",
          "text": [
            " 35%|███▌      | 14/40 [05:48<09:36, 22.19s/it]"
          ]
        },
        {
          "output_type": "stream",
          "name": "stdout",
          "text": [
            "Epoch 15/40, Step 1000/1250, Loss: 0.2814\n"
          ]
        },
        {
          "output_type": "stream",
          "name": "stderr",
          "text": [
            " 38%|███▊      | 15/40 [05:55<09:13, 22.16s/it]"
          ]
        },
        {
          "output_type": "stream",
          "name": "stdout",
          "text": [
            "Epoch 15 completed. Train Loss: 0.5507 | Val Loss: 0.6176\n"
          ]
        },
        {
          "output_type": "stream",
          "name": "stderr",
          "text": [
            " 38%|███▊      | 15/40 [06:10<09:13, 22.16s/it]"
          ]
        },
        {
          "output_type": "stream",
          "name": "stdout",
          "text": [
            "Epoch 16/40, Step 1000/1250, Loss: 0.8164\n"
          ]
        },
        {
          "output_type": "stream",
          "name": "stderr",
          "text": [
            " 40%|████      | 16/40 [06:17<08:51, 22.14s/it]"
          ]
        },
        {
          "output_type": "stream",
          "name": "stdout",
          "text": [
            "Epoch 16 completed. Train Loss: 0.5376 | Val Loss: 0.6196\n"
          ]
        },
        {
          "output_type": "stream",
          "name": "stderr",
          "text": [
            " 40%|████      | 16/40 [06:32<08:51, 22.14s/it]"
          ]
        },
        {
          "output_type": "stream",
          "name": "stdout",
          "text": [
            "Epoch 17/40, Step 1000/1250, Loss: 0.7004\n"
          ]
        },
        {
          "output_type": "stream",
          "name": "stderr",
          "text": [
            " 42%|████▎     | 17/40 [06:38<08:23, 21.88s/it]"
          ]
        },
        {
          "output_type": "stream",
          "name": "stdout",
          "text": [
            "Epoch 17 completed. Train Loss: 0.5237 | Val Loss: 0.6529\n"
          ]
        },
        {
          "output_type": "stream",
          "name": "stderr",
          "text": [
            " 42%|████▎     | 17/40 [06:54<08:23, 21.88s/it]"
          ]
        },
        {
          "output_type": "stream",
          "name": "stdout",
          "text": [
            "Epoch 18/40, Step 1000/1250, Loss: 0.4118\n"
          ]
        },
        {
          "output_type": "stream",
          "name": "stderr",
          "text": [
            " 45%|████▌     | 18/40 [07:01<08:03, 21.97s/it]"
          ]
        },
        {
          "output_type": "stream",
          "name": "stdout",
          "text": [
            "Epoch 18 completed. Train Loss: 0.5127 | Val Loss: 0.6190\n"
          ]
        },
        {
          "output_type": "stream",
          "name": "stderr",
          "text": [
            " 45%|████▌     | 18/40 [07:15<08:03, 21.97s/it]"
          ]
        },
        {
          "output_type": "stream",
          "name": "stdout",
          "text": [
            "Epoch 19/40, Step 1000/1250, Loss: 0.6192\n"
          ]
        },
        {
          "output_type": "stream",
          "name": "stderr",
          "text": [
            " 45%|████▌     | 18/40 [07:23<09:01, 24.61s/it]"
          ]
        },
        {
          "output_type": "stream",
          "name": "stdout",
          "text": [
            "Epoch 19 completed. Train Loss: 0.4997 | Val Loss: 0.6229\n",
            "Early stopping at epoch 19\n"
          ]
        },
        {
          "output_type": "stream",
          "name": "stderr",
          "text": [
            "\n"
          ]
        }
      ]
    },
    {
      "cell_type": "code",
      "source": [
        "plotLoss(train_losses, val_losses)"
      ],
      "metadata": {
        "colab": {
          "base_uri": "https://localhost:8080/",
          "height": 474
        },
        "id": "7aX-rNsNRZAX",
        "outputId": "59d2dbce-6040-4a2f-e625-881542214f16"
      },
      "execution_count": null,
      "outputs": [
        {
          "output_type": "display_data",
          "data": {
            "text/plain": [
              "<Figure size 640x480 with 1 Axes>"
            ],
            "image/png": "[encoded data removed]"
          },
          "metadata": {}
        }
      ]
    },
    {
      "cell_type": "code",
      "source": [
        "net.to(device)\n",
        "\n",
        "net.load_state_dict(torch.load(\"best_model_exp1.pth\", weights_only=True))"
      ],
      "metadata": {
        "colab": {
          "base_uri": "https://localhost:8080/"
        },
        "id": "WHQ-opYFS9PA",
        "outputId": "de80b4bb-58e4-4c0c-c5aa-ce74d9558f3a"
      },
      "execution_count": null,
      "outputs": [
        {
          "output_type": "execute_result",
          "data": {
            "text/plain": [
              "<All keys matched successfully>"
            ]
          },
          "metadata": {},
          "execution_count": 20
        }
      ]
    },
    {
      "cell_type": "code",
      "source": [
        "targets, predictions = makePredictions(net, test_loader)\n",
        "\n",
        "get_scores(targets, predictions)"
      ],
      "metadata": {
        "colab": {
          "base_uri": "https://localhost:8080/"
        },
        "id": "nx5PuXc9UkE_",
        "outputId": "a56e1e98-32e5-4b5a-eed6-4fdbadd8c9a6"
      },
      "execution_count": null,
      "outputs": [
        {
          "output_type": "execute_result",
          "data": {
            "text/plain": [
              "{'accuracy': 0.8031,\n",
              " 'balanced_accuracy': np.float64(0.8031),\n",
              " 'precision': 0.8082089033759585,\n",
              " 'recall': 0.8031,\n",
              " 'f1_score': 0.8007381340081614}"
            ]
          },
          "metadata": {},
          "execution_count": 23
        }
      ]
    },
    {
      "cell_type": "code",
      "source": [
        "# Lista com nomes das classes (exemplo para CIFAR-10)\n",
        "class_names = ['airplane', 'automobile', 'bird', 'cat', 'deer',\n",
        "               'dog', 'frog', 'horse', 'ship', 'truck']\n",
        "\n",
        "cm = confusion_matrix(targets, predictions)\n",
        "\n",
        "# Plotar a matriz de confusão\n",
        "disp = ConfusionMatrixDisplay(confusion_matrix=cm,\n",
        "                              display_labels=class_names)\n",
        "disp.plot(cmap=plt.cm.Blues, xticks_rotation=45)  # pode mudar o colormap se quiser\n",
        "plt.title(\"Matriz de Confusão\")\n",
        "plt.show()"
      ],
      "metadata": {
        "id": "_1g8twSQqJFo",
        "colab": {
          "base_uri": "https://localhost:8080/",
          "height": 523
        },
        "outputId": "4422fab0-0885-43e6-d3c6-65d69f2dd08c"
      },
      "execution_count": null,
      "outputs": [
        {
          "output_type": "display_data",
          "data": {
            "text/plain": [
              "<Figure size 640x480 with 2 Axes>"
            ],
            "image/png": "[encoded data removed]"
          },
          "metadata": {}
        }
      ]
    }
  ]
}